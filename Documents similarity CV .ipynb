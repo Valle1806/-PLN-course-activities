{
 "cells": [
  {
   "cell_type": "markdown",
   "metadata": {},
   "source": [
    "# Similaridad de documentos mediante la medida del coseno\n",
    "* Cristian Camilo Vallecilla 1628790"
   ]
  },
  {
   "cell_type": "markdown",
   "metadata": {},
   "source": [
    "### Definición de matriz inicial"
   ]
  },
  {
   "cell_type": "code",
   "execution_count": 270,
   "metadata": {
    "scrolled": true
   },
   "outputs": [
    {
     "name": "stdout",
     "output_type": "stream",
     "text": [
      "                doc1     doc2       doc3\n",
      " | car       |    27 |      4 |       24 |\n",
      " | auto      |     3 |     33 |        0 |\n",
      " | insurance |     0 |     33 |       29 |\n",
      " | best      |    14 |      0 |       17 |\n"
     ]
    }
   ],
   "source": [
    "import numpy as np\n",
    "import matplotlib.pyplot as plt\n",
    "#Matriz inicial\n",
    "mtd=np.array([[27, 4 , 24 ], [3, 33, 0 ],[0, 33, 29 ],[14, 0, 17 ]])\n",
    "q= [13, 0, 0 ,22]#Query\n",
    "w=['car','auto','insurance','best']\n",
    "print(\"                doc1     doc2       doc3\")\n",
    "for i in range(len(mtd)):\n",
    "    print (' | {:<9} | {:>5} | {:>6} | {:>8} |'.format(w[i],mtd[i,0],mtd[i,1], mtd[i,2]))"
   ]
  },
  {
   "cell_type": "markdown",
   "metadata": {},
   "source": [
    "### Función Sim"
   ]
  },
  {
   "cell_type": "code",
   "execution_count": 261,
   "metadata": {},
   "outputs": [],
   "source": [
    "def Sim(q,d):\n",
    "    sum_up=0\n",
    "    sum_downq=0\n",
    "    sum_downd=0\n",
    "    for i in range(len(q)):\n",
    "        sum_up+=q[i]*d[i]\n",
    "        sum_downq+= pow(q[i],2)\n",
    "        sum_downd+=pow(d[i],2)\n",
    "    return sum_up/ (pow(sum_downq,0.5)*pow(sum_downd,0.5))\n"
   ]
  },
  {
   "cell_type": "markdown",
   "metadata": {},
   "source": [
    "### Aplicación función Sim considerando todas la palabras"
   ]
  },
  {
   "cell_type": "code",
   "execution_count": 262,
   "metadata": {},
   "outputs": [
    {
     "name": "stdout",
     "output_type": "stream",
     "text": [
      "Sim(q,d1)=0.8438308246122534\n",
      "Sim(q,d2)=0.043443863589962876\n",
      "Sim(q,d3)=0.6499471020028795\n"
     ]
    }
   ],
   "source": [
    "print(\"Sim(q,d1)=\"+str(Sim(q,mtd[:,0])))\n",
    "print(\"Sim(q,d2)=\"+str(Sim(q,mtd[:,1])))\n",
    "print(\"Sim(q,d3)=\"+str(Sim(q,mtd[:,2])))"
   ]
  },
  {
   "cell_type": "markdown",
   "metadata": {},
   "source": [
    "### Documentos y query sobre car y best"
   ]
  },
  {
   "cell_type": "code",
   "execution_count": 267,
   "metadata": {},
   "outputs": [
    {
     "name": "stdout",
     "output_type": "stream",
     "text": [
      "          doc1   doc2  doc3  q\n",
      " | car   |  27 |   4 |  24 | 13 |\n",
      " | best  |  14 |   0 |  17 | 22 |\n"
     ]
    }
   ],
   "source": [
    "qcb2=[q[0],q[3]]\n",
    "qcb= [[q[0]],[q[3]]]\n",
    "mcb=np.array([mtd[0,:],mtd[3,:]])\n",
    "mcbq= np.append(mcb,qcb,axis=1 )\n",
    "wcb=['car','best']\n",
    "print(\"          doc1   doc2  doc3  q\")\n",
    "for i in range(len(wcb)):\n",
    "    print (' | {:<5} | {:>3} | {:>3} | {:>3} |{:>3} |'.format(wcb[i],mcbq[i,0],mcbq[i,1], mcbq[i,2], mcbq[i,3]))"
   ]
  },
  {
   "cell_type": "markdown",
   "metadata": {},
   "source": [
    "### Segunda aplicación función sim"
   ]
  },
  {
   "cell_type": "code",
   "execution_count": 268,
   "metadata": {},
   "outputs": [
    {
     "name": "stdout",
     "output_type": "stream",
     "text": [
      "Sim(q,d1)=0.8479260103930238\n",
      "Sim(q,d2)=0.508729312126641\n",
      "Sim(q,d3)=0.9127660353950324\n"
     ]
    }
   ],
   "source": [
    "print(\"Sim(q,d1)=\"+str(Sim(qcb2,mcb[:,0])))\n",
    "print(\"Sim(q,d2)=\"+str(Sim(qcb2,mcb[:,1])))\n",
    "print(\"Sim(q,d3)=\"+str(Sim(qcb2,mcb[:,2])))"
   ]
  },
  {
   "cell_type": "code",
   "execution_count": 271,
   "metadata": {},
   "outputs": [
    {
     "name": "stdout",
     "output_type": "stream",
     "text": [
      "Doc1:Verde[27,14]\n",
      "Doc2:Azul[4,0]\n",
      "Doc3:Amarillo[4,17]\n",
      "Q:Rojo[13,22]\n"
     ]
    },
    {
     "data": {
      "image/png": "[encoded data removed]",
      "text/plain": [
       "<Figure size 432x288 with 1 Axes>"
      ]
     },
     "metadata": {
      "needs_background": "light"
     },
     "output_type": "display_data"
    }
   ],
   "source": [
    "print(\"Doc1:Verde[\"+str(mcbq[0,0])+\",\"+str(mcbq[1,0])+\"]\")\n",
    "print(\"Doc2:Azul[\"+str(mcbq[0,1])+\",\"+str(mcbq[1,1])+\"]\")\n",
    "print(\"Doc3:Amarillo[\"+str(mcbq[0,1])+\",\"+str(mcbq[1,2])+\"]\")\n",
    "print(\"Q:Rojo[\"+str(mcbq[0,3])+\",\"+str(mcbq[1,3])+\"]\")\n",
    "\n",
    "x_pos = [0,0,0,0]\n",
    "y_pos = [0,0,0,0]\n",
    "x_direct = mcbq[0,:]\n",
    "y_direct = mcbq[1,:]\n",
    "color_array=['g','b','y','r']\n",
    "plt.quiver(x_pos,y_pos,x_direct,y_direct,color= color_array, scale_units= 'xy', angles='xy',scale=1)\n",
    "plt.axis([0,28,0,28])\n",
    "plt.xlabel('car',fontsize=15)\n",
    "plt.ylabel('best',fontsize=15)\n",
    "plt.show()\n",
    "\n"
   ]
  },
  {
   "cell_type": "code",
   "execution_count": null,
   "metadata": {},
   "outputs": [],
   "source": []
  }
 ],
 "metadata": {
  "kernelspec": {
   "display_name": "Python 3",
   "language": "python",
   "name": "python3"
  },
  "language_info": {
   "codemirror_mode": {
    "name": "ipython",
    "version": 3
   },
   "file_extension": ".py",
   "mimetype": "text/x-python",
   "name": "python",
   "nbconvert_exporter": "python",
   "pygments_lexer": "ipython3",
   "version": "3.8.1"
  }
 },
 "nbformat": 4,
 "nbformat_minor": 4
}
