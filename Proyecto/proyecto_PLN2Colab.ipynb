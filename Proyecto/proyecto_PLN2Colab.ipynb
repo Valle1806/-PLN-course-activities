{
  "nbformat": 4,
  "nbformat_minor": 0,
  "metadata": {
    "accelerator": "GPU",
    "colab": {
      "name": "proyecto_PLN2.ipynb",
      "provenance": []
    },
    "kernelspec": {
      "display_name": "Python 3",
      "language": "python",
      "name": "python3"
    },
    "language_info": {
      "codemirror_mode": {
        "name": "ipython",
        "version": 3
      },
      "file_extension": ".py",
      "mimetype": "text/x-python",
      "name": "python",
      "nbconvert_exporter": "python",
      "pygments_lexer": "ipython3",
      "version": "3.8.1"
    }
  },
  "cells": [
    {
      "cell_type": "markdown",
      "metadata": {
        "colab_type": "text",
        "id": "rZtvRCyqosEu"
      },
      "source": [
        "### Parte 1 - Pre-procesamiento"
      ]
    },
    {
      "cell_type": "code",
      "metadata": {
        "colab_type": "code",
        "id": "JjfnWo7Vogi7",
        "colab": {}
      },
      "source": [
        "# Asegurar reproducibilidad\n",
        "\n",
        "import numpy as np\n",
        "\n",
        "CUSTOM_SEED = 42\n",
        "np.random.seed(CUSTOM_SEED)"
      ],
      "execution_count": 1,
      "outputs": []
    },
    {
      "cell_type": "markdown",
      "metadata": {
        "colab_type": "text",
        "id": "AW7AQZhnpPdt"
      },
      "source": [
        "### Descargamos Corpus Ancora (Cess_esp) del nltk*"
      ]
    },
    {
      "cell_type": "code",
      "metadata": {
        "colab_type": "code",
        "id": "zcwzPSeQpdm0",
        "colab": {
          "base_uri": "https://localhost:8080/",
          "height": 71
        },
        "outputId": "d8831c57-b87b-4f67-a103-085dba0a161c"
      },
      "source": [
        "import nltk\n",
        "nltk.download('cess_esp')"
      ],
      "execution_count": 2,
      "outputs": [
        {
          "output_type": "stream",
          "text": [
            "[nltk_data] Downloading package cess_esp to /root/nltk_data...\n",
            "[nltk_data]   Unzipping corpora/cess_esp.zip.\n"
          ],
          "name": "stdout"
        },
        {
          "output_type": "execute_result",
          "data": {
            "text/plain": [
              "True"
            ]
          },
          "metadata": {
            "tags": []
          },
          "execution_count": 2
        }
      ]
    },
    {
      "cell_type": "markdown",
      "metadata": {
        "colab_type": "text",
        "id": "yrpSI1s8qYz1"
      },
      "source": [
        "### Extraemos las oraciones taggeadas del corpus"
      ]
    },
    {
      "cell_type": "code",
      "metadata": {
        "colab_type": "code",
        "id": "OBgfbd4Bp-2Q",
        "colab": {}
      },
      "source": [
        "from nltk.corpus import cess_esp\n",
        "\n",
        "tagged_sentences = cess_esp.tagged_sents()"
      ],
      "execution_count": 3,
      "outputs": []
    },
    {
      "cell_type": "markdown",
      "metadata": {
        "colab_type": "text",
        "id": "aZBLoa5_rCxi"
      },
      "source": [
        "### Extraemos los datos de la cantidad de oraciones a ser usadas y un ejemplo de una oracion presente en el corpus"
      ]
    },
    {
      "cell_type": "code",
      "metadata": {
        "colab_type": "code",
        "id": "ZAUzsB06rEyo",
        "colab": {
          "base_uri": "https://localhost:8080/",
          "height": 91
        },
        "outputId": "7d4f0969-5e81-40d7-e9e7-e3c201a01db4"
      },
      "source": [
        "print(tagged_sentences[0])\n",
        "print(\"Tagged sentences: \", len(tagged_sentences))\n",
        "print(\"Tagged words:\", len(cess_esp.tagged_words()))"
      ],
      "execution_count": 4,
      "outputs": [
        {
          "output_type": "stream",
          "text": [
            "[('El', 'da0ms0'), ('grupo', 'ncms000'), ('estatal', 'aq0cs0'), ('Electricité_de_France', 'np00000'), ('-Fpa-', 'Fpa'), ('EDF', 'np00000'), ('-Fpt-', 'Fpt'), ('anunció', 'vmis3s0'), ('hoy', 'rg'), (',', 'Fc'), ('jueves', 'W'), (',', 'Fc'), ('la', 'da0fs0'), ('compra', 'ncfs000'), ('del', 'spcms'), ('51_por_ciento', 'Zp'), ('de', 'sps00'), ('la', 'da0fs0'), ('empresa', 'ncfs000'), ('mexicana', 'aq0fs0'), ('Electricidad_Águila_de_Altamira', 'np00000'), ('-Fpa-', 'Fpa'), ('EAA', 'np00000'), ('-Fpt-', 'Fpt'), (',', 'Fc'), ('creada', 'aq0fsp'), ('por', 'sps00'), ('el', 'da0ms0'), ('japonés', 'aq0ms0'), ('Mitsubishi_Corporation', 'np00000'), ('para', 'sps00'), ('poner_en_marcha', 'vmn0000'), ('una', 'di0fs0'), ('central', 'ncfs000'), ('de', 'sps00'), ('gas', 'ncms000'), ('de', 'sps00'), ('495', 'Z'), ('megavatios', 'ncmp000'), ('.', 'Fp')]\n",
            "Tagged sentences:  6030\n",
            "Tagged words: 192685\n"
          ],
          "name": "stdout"
        }
      ]
    },
    {
      "cell_type": "markdown",
      "metadata": {
        "colab_type": "text",
        "id": "tAjjznZrr3uD"
      },
      "source": [
        "### Dividimos en una lista de Oraciones dividida en lista de palabras y cada palabra con un correspondiente tag en una alista diferente"
      ]
    },
    {
      "cell_type": "code",
      "metadata": {
        "colab_type": "code",
        "id": "R62O6MUyydm-",
        "colab": {}
      },
      "source": [
        "import numpy as np\n",
        "import pickle\n",
        "\n",
        "sentences, tagss = [], []\n",
        "for tagged_sentence in tagged_sentences:\n",
        "    sentence, tags = zip(*tagged_sentence)\n",
        "    sentences.append(np.array(sentence))\n",
        "    tagss.append(np.array(tags))\n",
        "    \n",
        "#with open(\"vectors/sentences.txt\", \"wb\") as fp:\n",
        " #   pickle.dump(sentences, fp)\n",
        "\n",
        "#with open(\"vectors/tags.txt\", \"wb\") as fp:\n",
        " #   pickle.dump(tagss, fp)"
      ],
      "execution_count": 5,
      "outputs": []
    },
    {
      "cell_type": "markdown",
      "metadata": {
        "colab_type": "text",
        "id": "a008hkHnysyl"
      },
      "source": [
        "### Imprimimos una posición de la lista como ejemplo ( Oración y respectivos tags)"
      ]
    },
    {
      "cell_type": "code",
      "metadata": {
        "colab_type": "code",
        "id": "mx52xFaQ0FNa",
        "colab": {
          "base_uri": "https://localhost:8080/",
          "height": 161
        },
        "outputId": "266746ee-6385-46fe-a2e0-5b299b96a3c9"
      },
      "source": [
        "print(len(sentences))\n",
        "print(sentences[6])\n",
        "print(tags[6])"
      ],
      "execution_count": 6,
      "outputs": [
        {
          "output_type": "stream",
          "text": [
            "6030\n",
            "['La' 'alcaldesa' 'de' 'Málaga' 'y' 'cabeza' 'de' 'lista' 'del' 'PP' 'al'\n",
            " 'Congreso' 'por' 'esta' 'provincia' ',' 'Celia_Villalobos' ',' 'pidió'\n",
            " 'hoy' 'a' 'los' 'militantes' 'de' 'esta' 'formación' 'que' '*0*' 'sepan'\n",
            " '\"' 'administrar' 'la' 'victoria' '\"' ',' 'porque' '\"' 'no' 'vale' 'la'\n",
            " 'revancha' ',' 'el' 'insulto' 'o' 'el' 'ataque' ',' 'eso' 'es' 'para'\n",
            " 'ellos' '\"' '.']\n",
            "dp3cp0\n"
          ],
          "name": "stdout"
        }
      ]
    },
    {
      "cell_type": "markdown",
      "metadata": {
        "colab_type": "text",
        "id": "SINmnxZl2H6R"
      },
      "source": [
        "Establecemos los porcentajes del corpus para entrenamiento y evaluación"
      ]
    },
    {
      "cell_type": "code",
      "metadata": {
        "colab_type": "code",
        "id": "OTxWluh82M_w",
        "colab": {}
      },
      "source": [
        "#!pip3 install --user sklearn\n",
        "from sklearn.model_selection import train_test_split\n",
        " \n",
        "(training_sentences, \n",
        " test_sentences, \n",
        " training_tags, \n",
        " test_tags) = train_test_split(sentences, tagss, test_size=0.2)\n",
        "\n",
        "(train_sentences, \n",
        " eval_sentences, \n",
        " train_tags, \n",
        " eval_tags) = train_test_split(training_sentences, training_tags, test_size=0.25)\n",
        "\n",
        "#with open(\"vectors/train_sentences.txt\", \"wb\") as fp:\n",
        " #   pickle.dump(train_sentences, fp)\n",
        "\n",
        "#with open(\"vectors/eval_sentences.txt\", \"wb\") as fp:\n",
        " ##   pickle.dump(tagss, fp)\n",
        "\n",
        "#with open(\"vectors/test_sentences.txt\", \"wb\") as fp:\n",
        " #   pickle.dump(eval_sentences, fp)\n",
        "\n",
        "#with open(\"vectors/train_tags.txt\", \"wb\") as fp:\n",
        " #   pickle.dump(train_tags, fp)\n",
        "\n",
        "#with open(\"vectors/eval_tags.txt\", \"wb\") as fp:\n",
        " #   pickle.dump(eval_tags, fp)\n",
        "\n",
        "#with open(\"vectors/test_tags.txt\", \"wb\") as fp:\n",
        " #   pickle.dump(test_tags, fp)"
      ],
      "execution_count": 7,
      "outputs": []
    },
    {
      "cell_type": "markdown",
      "metadata": {
        "colab_type": "text",
        "id": "ev0o2zlL56W6"
      },
      "source": [
        "Imprimimos los tamaños de las listas que nos indicaran el tamaño de filas de las matrices con las que estaremos trabajando"
      ]
    },
    {
      "cell_type": "code",
      "metadata": {
        "colab_type": "code",
        "id": "r49HrSjV5-V8",
        "colab": {
          "base_uri": "https://localhost:8080/",
          "height": 737
        },
        "outputId": "1848251f-5b54-4395-f14b-5edd4b0208cb"
      },
      "source": [
        "print(\"training_sentences:\" + str(len(training_sentences)))\n",
        "print(\"train_sentences: \" + str(len(train_sentences)))\n",
        "print(\"test_sentences: \" + str(len(test_sentences)))\n",
        "print(\"eval_sentences: \" + str(len(eval_sentences)) + \"\\n\")\n",
        "\n",
        "print(train_sentences[0])\n",
        "print(test_sentences[0])\n",
        "print(eval_sentences[0])\n",
        "\n",
        "print(\"\\ntraining_tags:\" + str(len(training_sentences)))\n",
        "print(\"train_tags: \" + str(len(train_tags)))\n",
        "print(\"test_tags: \" + str(len(test_tags)))\n",
        "print(\"eval_tags: \" + str(len(eval_tags)) + \"\\n\")\n",
        "\n",
        "print(train_tags[0])\n",
        "print(test_tags[0])\n",
        "print(eval_tags[0])"
      ],
      "execution_count": 8,
      "outputs": [
        {
          "output_type": "stream",
          "text": [
            "training_sentences:4824\n",
            "train_sentences: 3618\n",
            "test_sentences: 1206\n",
            "eval_sentences: 1206\n",
            "\n",
            "['*' 'El' 'Madrid' 'precisa' 'que' 'el' 'Deportivo' 'gane' 'la' 'Liga' ','\n",
            " 'porque' 'los' 'gallegos' 'no' 'son' 'considerados' 'unos' 'herederos'\n",
            " ',' 'sino' 'unos' 'entrometidos' 'que' 'se' 'supone' 'temporales' ','\n",
            " 'que' 'pertenecen' 'a' 'la' 'actualidad' 'más' 'rabiosa' 'y' 'no' 'a'\n",
            " 'la' 'historia' 'más' 'enrabietada' '.']\n",
            "['El' 'técnico' 'barcelonista' 'ha' 'asegurado' 'que' 'la' 'visita' 'de'\n",
            " 'Gaspart' 'ha' 'contribuido' 'a' '\"' 'sumar' '\"' ',' 'y' '*0*' 'ha'\n",
            " 'argumentado' 'que' 'el' 'encuentro' 'con' 'el' 'presidente' 'significa'\n",
            " 'que' 'en' 'el' 'Barcelona' '\"' 'todos' 'van' 'en' 'la' 'misma'\n",
            " 'dirección' '\"' '.']\n",
            "['Lo_suyo' ',' 'lo' 'de' 'las' 'ratas' ',' 'no' 'es' 'la' 'carroña' 'pura'\n",
            " 'y' 'dura' 'sino' 'la' 'vida' 'regalada' ',' 'el' 'eterno' 'banquete'\n",
            " 'de' 'sobras' 'y' 'residuos' ',' 'el' 'festín' 'organizado' 'a' 'la'\n",
            " 'sobra' 'de' 'la' 'abundancia' 'y' 'el' 'hartazgo' '.']\n",
            "\n",
            "training_tags:4824\n",
            "train_tags: 3618\n",
            "test_tags: 1206\n",
            "eval_tags: 1206\n",
            "\n",
            "['Fz' 'da0ms0' 'np0000l' 'vmip3s0' 'cs' 'da0ms0' 'np0000o' 'vmsp3s0'\n",
            " 'da0fs0' 'np0000a' 'Fc' 'cs' 'da0mp0' 'ncmp000' 'rn' 'vsip3p0' 'vmp00pm'\n",
            " 'di0mp0' 'ncmp000' 'Fc' 'cc' 'di0mp0' 'ncmp000' 'pr0cn000' 'p0000000'\n",
            " 'vmip3s0' 'aq0cp0' 'Fc' 'pr0cn000' 'vmip3p0' 'sps00' 'da0fs0' 'ncfs000'\n",
            " 'rg' 'aq0fs0' 'cc' 'rn' 'sps00' 'da0fs0' 'ncfs000' 'rg' 'aq0fsp' 'Fp']\n",
            "['da0ms0' 'ncms000' 'aq0cs0' 'vaip3s0' 'vmp00sm' 'cs' 'da0fs0' 'ncfs000'\n",
            " 'sps00' 'np00000' 'vaip3s0' 'vmp00sm' 'sps00' 'Fe' 'vmn0000' 'Fe' 'Fc'\n",
            " 'cc' 'sn.e-SUJ' 'vaip3s0' 'vmp00sm' 'cs' 'da0ms0' 'ncms000' 'sps00'\n",
            " 'da0ms0' 'ncms000' 'vmip3s0' 'cs' 'sps00' 'da0ms0' 'np00000' 'Fe'\n",
            " 'pi0mp000' 'vmip3p0' 'sps00' 'da0fs0' 'di0fs0' 'ncfs000' 'Fe' 'Fp']\n",
            "['px3ns000' 'Fc' 'da0ns0' 'sps00' 'da0fp0' 'ncfp000' 'Fc' 'rn' 'vsip3s0'\n",
            " 'da0fs0' 'ncfs000' 'aq0fs0' 'cc' 'aq0fs0' 'cc' 'da0fs0' 'ncfs000'\n",
            " 'aq0fsp' 'Fc' 'da0ms0' 'aq0ms0' 'ncms000' 'sps00' 'ncfp000' 'cc'\n",
            " 'ncmp000' 'Fc' 'da0ms0' 'ncms000' 'aq0msp' 'sps00' 'da0fs0' 'ncfs000'\n",
            " 'sps00' 'da0fs0' 'ncfs000' 'cc' 'da0ms0' 'ncms000' 'Fp']\n"
          ],
          "name": "stdout"
        }
      ]
    },
    {
      "cell_type": "markdown",
      "metadata": {
        "colab_type": "text",
        "id": "--rDwhwQ6Xwy"
      },
      "source": [
        "Creamos el diccionario sin palabras ni tags repetidos"
      ]
    },
    {
      "cell_type": "code",
      "metadata": {
        "colab_type": "code",
        "id": "BPnhTEfk6ihm",
        "colab": {
          "base_uri": "https://localhost:8080/",
          "height": 53
        },
        "outputId": "fd789e9a-fc23-4d35-cb47-a70fd9dfe30a"
      },
      "source": [
        "words, tagsss = set([]), set([])\n",
        " \n",
        "for s in (train_sentences + eval_sentences + test_sentences):\n",
        "    for w in s:\n",
        "        words.add(w.lower())\n",
        "\n",
        "for ts in (train_tags + eval_tags + test_tags):\n",
        "    for t in ts:\n",
        "        tagsss.add(t)\n",
        "\n",
        "word2index = {w: i + 2 for i, w in enumerate(list(words))}\n",
        "word2index['-PAD-'] = 0  # The special value used for padding\n",
        "word2index['-OOV-'] = 1  # The special value used for OOVs\n",
        " \n",
        "tag2index = {t: i + 2 for i, t in enumerate(list(tagsss))}\n",
        "tag2index['-PAD-'] = 0  # The special value used to padding\n",
        "tag2index['-OOV-'] = 1  # The special value used to padding\n",
        "\n",
        "print (len(word2index))\n",
        "print (len(tag2index))\n",
        "\n",
        "np.save('word2index.npy', word2index)\n",
        "np.save('tag2index.npy', tag2index)"
      ],
      "execution_count": 9,
      "outputs": [
        {
          "output_type": "stream",
          "text": [
            "24499\n",
            "291\n"
          ],
          "name": "stdout"
        }
      ]
    },
    {
      "cell_type": "markdown",
      "metadata": {
        "colab_type": "text",
        "id": "BgGoAdre7DRz"
      },
      "source": [
        "Transformamos cada uno de los conjuntos de oraciones y tags en vectores numericos, modificando la palabra o tag en un Valor numerico que corresponde a una llave en el diccionario de palabras o tags"
      ]
    },
    {
      "cell_type": "code",
      "metadata": {
        "colab_type": "code",
        "id": "pBMjHTTV7jHK",
        "colab": {}
      },
      "source": [
        "train_sentences_X, eval_sentences_X, test_sentences_X, train_tags_y, eval_tags_y, test_tags_y = [], [], [], [], [], []\n",
        "\n",
        "for s in train_sentences:\n",
        "    s_int = []\n",
        "    for w in s:\n",
        "        try:\n",
        "            s_int.append(word2index[w.lower()])\n",
        "        except KeyError:\n",
        "            s_int.append(word2index['-OOV-'])\n",
        " \n",
        "    train_sentences_X.append(s_int)\n",
        "\n",
        "for s in eval_sentences:\n",
        "    s_int = []\n",
        "    for w in s:\n",
        "        try:\n",
        "            s_int.append(word2index[w.lower()])\n",
        "        except KeyError:\n",
        "            s_int.append(word2index['-OOV-'])\n",
        " \n",
        "    eval_sentences_X.append(s_int)\n",
        "\n",
        "for s in test_sentences:\n",
        "    s_int = []\n",
        "    for w in s:\n",
        "        try:\n",
        "            s_int.append(word2index[w.lower()])\n",
        "        except KeyError:\n",
        "            s_int.append(word2index['-OOV-'])\n",
        " \n",
        "    test_sentences_X.append(s_int)\n",
        "\n",
        "for s in train_tags:\n",
        "    s_int = []\n",
        "    for w in s:\n",
        "        try:\n",
        "            s_int.append(tag2index[w])\n",
        "        except KeyError:\n",
        "            s_int.append(tag2index['-OOV-'])\n",
        "            \n",
        "    train_tags_y.append(s_int)\n",
        "\n",
        "for s in eval_tags:\n",
        "    s_int = []\n",
        "    for w in s:\n",
        "        try:\n",
        "            s_int.append(tag2index[w])\n",
        "        except KeyError:\n",
        "            s_int.append(tag2index['-OOV-'])\n",
        "            \n",
        "    eval_tags_y.append(s_int)\n",
        "\n",
        "for s in test_tags:\n",
        "    s_int = []\n",
        "    for w in s:\n",
        "        try:\n",
        "            s_int.append(tag2index[w])\n",
        "        except KeyError:\n",
        "            s_int.append(tag2index['-OOV-'])\n",
        "            \n",
        "    test_tags_y.append(s_int)"
      ],
      "execution_count": 10,
      "outputs": []
    },
    {
      "cell_type": "markdown",
      "metadata": {
        "colab_type": "text",
        "id": "nJC-PAEC7q_n"
      },
      "source": [
        "Imprimimos longitud de las matrices"
      ]
    },
    {
      "cell_type": "code",
      "metadata": {
        "colab_type": "code",
        "id": "61xhK0a07w79",
        "colab": {
          "base_uri": "https://localhost:8080/",
          "height": 325
        },
        "outputId": "79a6b96b-5e03-4510-99df-d49ce99e79a7"
      },
      "source": [
        "print(\"Longitudes de las Matrices:\")\n",
        "print(len(train_sentences_X))\n",
        "print(len(eval_sentences_X))\n",
        "print(len(test_sentences_X))\n",
        "print(len(train_tags_y))\n",
        "print(len(eval_tags_y))\n",
        "print(len(test_tags_y))\n",
        "\n",
        "print(\"\\nMuestra de Datos presentes en las Matrices con las transformaciones:\\n\")\n",
        "\n",
        "print(train_sentences_X[0])\n",
        "print(eval_sentences_X[0])\n",
        "print(test_sentences_X[0])\n",
        "print(train_tags_y[0])\n",
        "print(eval_tags_y[0])\n",
        "print(test_tags_y[0])"
      ],
      "execution_count": 11,
      "outputs": [
        {
          "output_type": "stream",
          "text": [
            "Longitudes de las Matrices:\n",
            "3618\n",
            "1206\n",
            "1206\n",
            "3618\n",
            "1206\n",
            "1206\n",
            "\n",
            "Muestra de Datos presentes en las Matrices con las transformaciones:\n",
            "\n",
            "[16991, 14639, 22166, 17656, 11711, 14639, 7561, 14821, 19330, 23550, 18387, 12264, 13084, 22836, 6925, 7931, 19306, 17514, 17457, 18387, 14993, 17514, 1400, 11711, 2493, 22309, 4891, 18387, 11711, 1431, 18006, 19330, 1825, 16282, 23377, 7739, 6925, 18006, 19330, 4889, 16282, 8003, 8811]\n",
            "[17528, 18387, 4136, 19288, 2613, 5391, 18387, 6925, 6920, 19330, 10062, 22227, 7739, 23517, 14993, 19330, 744, 7157, 18387, 14639, 8488, 16708, 19288, 11360, 7739, 17877, 18387, 14639, 1953, 8135, 18006, 19330, 12451, 19288, 19330, 1702, 7739, 14639, 23657, 8811]\n",
            "[14639, 5597, 24020, 118, 18266, 11711, 19330, 18207, 19288, 17185, 118, 14311, 18006, 13844, 7078, 13844, 18387, 7739, 19709, 118, 7840, 11711, 14639, 22508, 12225, 14639, 11669, 7659, 11711, 24386, 14639, 556, 13844, 15198, 6768, 24386, 19330, 12267, 16645, 13844, 8811]\n",
            "[286, 279, 84, 252, 263, 279, 95, 154, 32, 218, 22, 263, 266, 146, 223, 172, 166, 115, 146, 22, 241, 115, 146, 112, 203, 252, 255, 22, 112, 82, 139, 32, 46, 109, 147, 241, 223, 139, 32, 46, 109, 262, 48]\n",
            "[54, 22, 159, 139, 204, 93, 22, 223, 174, 32, 46, 147, 241, 147, 241, 32, 46, 262, 22, 279, 79, 213, 139, 93, 241, 146, 22, 279, 213, 111, 139, 32, 46, 139, 32, 46, 241, 279, 213, 48]\n",
            "[279, 213, 253, 122, 14, 263, 32, 46, 139, 160, 122, 14, 139, 61, 195, 61, 22, 241, 13, 122, 14, 263, 279, 213, 139, 279, 213, 252, 263, 139, 279, 160, 61, 21, 82, 139, 32, 187, 46, 61, 48]\n"
          ],
          "name": "stdout"
        }
      ]
    },
    {
      "cell_type": "markdown",
      "metadata": {
        "colab_type": "text",
        "id": "hsltD7Zp8DgV"
      },
      "source": [
        "**Calculamos cual es la oración que contiene mas palabras**"
      ]
    },
    {
      "cell_type": "code",
      "metadata": {
        "colab_type": "code",
        "id": "5BCrCSz08K94",
        "colab": {
          "base_uri": "https://localhost:8080/",
          "height": 35
        },
        "outputId": "2b98eec0-2487-4dbd-ba73-016bae1ae3fe"
      },
      "source": [
        "MAX_LENGTH1 = len(max(train_sentences_X, key=len))\n",
        "MAX_LENGTH2 = len(max(eval_sentences_X, key=len))\n",
        "MAX_LENGTH3 = len(max(test_sentences_X, key=len))\n",
        "\n",
        "l = [MAX_LENGTH1, MAX_LENGTH2, MAX_LENGTH3]\n",
        "MAX_LENGTH = max(l)\n",
        "\n",
        "print(MAX_LENGTH)"
      ],
      "execution_count": 12,
      "outputs": [
        {
          "output_type": "stream",
          "text": [
            "149\n"
          ],
          "name": "stdout"
        }
      ]
    },
    {
      "cell_type": "markdown",
      "metadata": {
        "colab_type": "text",
        "id": "WPcc6zpi8Z81"
      },
      "source": [
        "**Normalizamos las matrices para que todas contengan el mismo numero de columans, con la longitud maxima de palabras encontradas anteriormente, esto se logra agregando ceros a la derecha en las posiciones que hacen falta en el vector**"
      ]
    },
    {
      "cell_type": "code",
      "metadata": {
        "id": "004BHK3pQuxm",
        "colab_type": "code",
        "colab": {}
      },
      "source": [
        "#!pip install --user tensorflow"
      ],
      "execution_count": 13,
      "outputs": []
    },
    {
      "cell_type": "code",
      "metadata": {
        "colab_type": "code",
        "id": "59n2NKNh8jio",
        "colab": {
          "base_uri": "https://localhost:8080/",
          "height": 1000
        },
        "outputId": "cf43b955-0385-4705-add1-e554d9633c42"
      },
      "source": [
        "#!pip3 install --user keras\n",
        "\n",
        "from keras.preprocessing.sequence import pad_sequences\n",
        " \n",
        "train_sentences_X = pad_sequences(train_sentences_X, maxlen=MAX_LENGTH, padding='post')\n",
        "eval_sentences_X = pad_sequences(eval_sentences_X, maxlen=MAX_LENGTH, padding='post')\n",
        "test_sentences_X = pad_sequences(test_sentences_X, maxlen=MAX_LENGTH, padding='post')\n",
        "train_tags_y = pad_sequences(train_tags_y, maxlen=MAX_LENGTH, padding='post')\n",
        "eval_tags_y = pad_sequences(eval_tags_y, maxlen=MAX_LENGTH, padding='post')\n",
        "test_tags_y = pad_sequences(test_tags_y, maxlen=MAX_LENGTH, padding='post')\n",
        " \n",
        "print(train_sentences_X[0])\n",
        "print(eval_sentences_X[0])\n",
        "print(test_sentences_X[0])\n",
        "print(train_tags_y[0])\n",
        "print(eval_tags_y[0])\n",
        "print(test_tags_y[0])\n",
        "\n",
        "#np.save('vectors/train_sentences_X.npy', train_sentences_X)\n",
        "#np.save('vectors/eval_sentences_X.npy', eval_sentences_X)\n",
        "#np.save('vectors/test_sentences_X.npy', test_sentences_X)\n",
        "#np.save('vectors/train_tags_y.npy', train_tags_y)\n",
        "#np.save('vectors/eval_tags_y.npy', eval_tags_y)\n",
        "#np.save('vectors/test_tags_y.npy', test_tags_y)"
      ],
      "execution_count": 14,
      "outputs": [
        {
          "output_type": "stream",
          "text": [
            "Using TensorFlow backend.\n"
          ],
          "name": "stderr"
        },
        {
          "output_type": "stream",
          "text": [
            "[16991 14639 22166 17656 11711 14639  7561 14821 19330 23550 18387 12264\n",
            " 13084 22836  6925  7931 19306 17514 17457 18387 14993 17514  1400 11711\n",
            "  2493 22309  4891 18387 11711  1431 18006 19330  1825 16282 23377  7739\n",
            "  6925 18006 19330  4889 16282  8003  8811     0     0     0     0     0\n",
            "     0     0     0     0     0     0     0     0     0     0     0     0\n",
            "     0     0     0     0     0     0     0     0     0     0     0     0\n",
            "     0     0     0     0     0     0     0     0     0     0     0     0\n",
            "     0     0     0     0     0     0     0     0     0     0     0     0\n",
            "     0     0     0     0     0     0     0     0     0     0     0     0\n",
            "     0     0     0     0     0     0     0     0     0     0     0     0\n",
            "     0     0     0     0     0     0     0     0     0     0     0     0\n",
            "     0     0     0     0     0     0     0     0     0     0     0     0\n",
            "     0     0     0     0     0]\n",
            "[17528 18387  4136 19288  2613  5391 18387  6925  6920 19330 10062 22227\n",
            "  7739 23517 14993 19330   744  7157 18387 14639  8488 16708 19288 11360\n",
            "  7739 17877 18387 14639  1953  8135 18006 19330 12451 19288 19330  1702\n",
            "  7739 14639 23657  8811     0     0     0     0     0     0     0     0\n",
            "     0     0     0     0     0     0     0     0     0     0     0     0\n",
            "     0     0     0     0     0     0     0     0     0     0     0     0\n",
            "     0     0     0     0     0     0     0     0     0     0     0     0\n",
            "     0     0     0     0     0     0     0     0     0     0     0     0\n",
            "     0     0     0     0     0     0     0     0     0     0     0     0\n",
            "     0     0     0     0     0     0     0     0     0     0     0     0\n",
            "     0     0     0     0     0     0     0     0     0     0     0     0\n",
            "     0     0     0     0     0     0     0     0     0     0     0     0\n",
            "     0     0     0     0     0]\n",
            "[14639  5597 24020   118 18266 11711 19330 18207 19288 17185   118 14311\n",
            " 18006 13844  7078 13844 18387  7739 19709   118  7840 11711 14639 22508\n",
            " 12225 14639 11669  7659 11711 24386 14639   556 13844 15198  6768 24386\n",
            " 19330 12267 16645 13844  8811     0     0     0     0     0     0     0\n",
            "     0     0     0     0     0     0     0     0     0     0     0     0\n",
            "     0     0     0     0     0     0     0     0     0     0     0     0\n",
            "     0     0     0     0     0     0     0     0     0     0     0     0\n",
            "     0     0     0     0     0     0     0     0     0     0     0     0\n",
            "     0     0     0     0     0     0     0     0     0     0     0     0\n",
            "     0     0     0     0     0     0     0     0     0     0     0     0\n",
            "     0     0     0     0     0     0     0     0     0     0     0     0\n",
            "     0     0     0     0     0     0     0     0     0     0     0     0\n",
            "     0     0     0     0     0]\n",
            "[286 279  84 252 263 279  95 154  32 218  22 263 266 146 223 172 166 115\n",
            " 146  22 241 115 146 112 203 252 255  22 112  82 139  32  46 109 147 241\n",
            " 223 139  32  46 109 262  48   0   0   0   0   0   0   0   0   0   0   0\n",
            "   0   0   0   0   0   0   0   0   0   0   0   0   0   0   0   0   0   0\n",
            "   0   0   0   0   0   0   0   0   0   0   0   0   0   0   0   0   0   0\n",
            "   0   0   0   0   0   0   0   0   0   0   0   0   0   0   0   0   0   0\n",
            "   0   0   0   0   0   0   0   0   0   0   0   0   0   0   0   0   0   0\n",
            "   0   0   0   0   0   0   0   0   0   0   0   0   0   0   0   0   0   0\n",
            "   0   0   0   0   0]\n",
            "[ 54  22 159 139 204  93  22 223 174  32  46 147 241 147 241  32  46 262\n",
            "  22 279  79 213 139  93 241 146  22 279 213 111 139  32  46 139  32  46\n",
            " 241 279 213  48   0   0   0   0   0   0   0   0   0   0   0   0   0   0\n",
            "   0   0   0   0   0   0   0   0   0   0   0   0   0   0   0   0   0   0\n",
            "   0   0   0   0   0   0   0   0   0   0   0   0   0   0   0   0   0   0\n",
            "   0   0   0   0   0   0   0   0   0   0   0   0   0   0   0   0   0   0\n",
            "   0   0   0   0   0   0   0   0   0   0   0   0   0   0   0   0   0   0\n",
            "   0   0   0   0   0   0   0   0   0   0   0   0   0   0   0   0   0   0\n",
            "   0   0   0   0   0]\n",
            "[279 213 253 122  14 263  32  46 139 160 122  14 139  61 195  61  22 241\n",
            "  13 122  14 263 279 213 139 279 213 252 263 139 279 160  61  21  82 139\n",
            "  32 187  46  61  48   0   0   0   0   0   0   0   0   0   0   0   0   0\n",
            "   0   0   0   0   0   0   0   0   0   0   0   0   0   0   0   0   0   0\n",
            "   0   0   0   0   0   0   0   0   0   0   0   0   0   0   0   0   0   0\n",
            "   0   0   0   0   0   0   0   0   0   0   0   0   0   0   0   0   0   0\n",
            "   0   0   0   0   0   0   0   0   0   0   0   0   0   0   0   0   0   0\n",
            "   0   0   0   0   0   0   0   0   0   0   0   0   0   0   0   0   0   0\n",
            "   0   0   0   0   0]\n"
          ],
          "name": "stdout"
        }
      ]
    },
    {
      "cell_type": "markdown",
      "metadata": {
        "colab_type": "text",
        "id": "o-E6ed_f89OF"
      },
      "source": [
        "**Definimos la funcion con la cual categorizaremos los tags y los covertiremos un vector One-hot**"
      ]
    },
    {
      "cell_type": "code",
      "metadata": {
        "colab_type": "code",
        "id": "nkfN8Hba9Gv2",
        "colab": {}
      },
      "source": [
        "def to_categoricals(sequences, categories):\n",
        "    cat_sequences = []\n",
        "    for s in sequences:\n",
        "        cats = []\n",
        "        for item in s:\n",
        "            cats.append(np.zeros(categories))\n",
        "            cats[-1][item] = 1.0\n",
        "        cat_sequences.append(cats)\n",
        "    return np.array(cat_sequences)"
      ],
      "execution_count": 15,
      "outputs": []
    },
    {
      "cell_type": "code",
      "metadata": {
        "colab_type": "code",
        "id": "s_Q82mrS9U6z",
        "colab": {}
      },
      "source": [
        "from keras.utils import to_categorical\n",
        "\n",
        "def encode(data):\n",
        "    print('Shape of data (BEFORE encode): %s' % str(data.shape))\n",
        "    encoded = to_categorical(data)\n",
        "    print('Shape of data (AFTER  encode): %s\\n' % str(encoded.shape))\n",
        "    return encoded"
      ],
      "execution_count": 16,
      "outputs": []
    },
    {
      "cell_type": "markdown",
      "metadata": {
        "colab_type": "text",
        "id": "IH0YcgZw9a1q"
      },
      "source": [
        "###**Desarrollamos una prueba de la categorización de los tags**"
      ]
    },
    {
      "cell_type": "code",
      "metadata": {
        "colab_type": "code",
        "id": "zcJIEhaI9hBP",
        "colab": {
          "base_uri": "https://localhost:8080/",
          "height": 179
        },
        "outputId": "2f24c830-ed55-4a33-ab8b-90b08cd6ab85"
      },
      "source": [
        "cat_train_tags_y = to_categoricals(train_tags_y, len(tag2index))\n",
        "cat_eval_tags_y  = to_categoricals(eval_tags_y, len(tag2index))\n",
        "cat_test_tags_y  = to_categoricals(test_tags_y, len(tag2index))\n",
        "\n",
        "print(cat_train_tags_y[0])\n",
        "print(len(cat_train_tags_y))\n",
        "print(len(cat_test_tags_y))"
      ],
      "execution_count": 17,
      "outputs": [
        {
          "output_type": "stream",
          "text": [
            "[[0. 0. 0. ... 0. 0. 0.]\n",
            " [0. 0. 0. ... 0. 0. 0.]\n",
            " [0. 0. 0. ... 0. 0. 0.]\n",
            " ...\n",
            " [1. 0. 0. ... 0. 0. 0.]\n",
            " [1. 0. 0. ... 0. 0. 0.]\n",
            " [1. 0. 0. ... 0. 0. 0.]]\n",
            "3618\n",
            "1206\n"
          ],
          "name": "stdout"
        }
      ]
    },
    {
      "cell_type": "markdown",
      "metadata": {
        "colab_type": "text",
        "id": "mi9S290sFqQt"
      },
      "source": [
        "### **Indexamos los vectores de SBWE**"
      ]
    },
    {
      "cell_type": "code",
      "metadata": {
        "colab_type": "code",
        "id": "ArUfLRT7Rqkc",
        "colab": {
          "base_uri": "https://localhost:8080/",
          "height": 244
        },
        "outputId": "17dcef9e-479b-44cf-eac4-c22bfde229c4"
      },
      "source": [
        "embeddings_index = {}\n",
        "f = open('drive/My Drive/Colab Notebooks/SBW-vectors-300-min5.txt')\n",
        "for a, line in enumerate(f):\n",
        "    if a > 0:\n",
        "        values = line.split()\n",
        "        word = values[0]\n",
        "        coefs = np.asarray(values[1:], dtype='float32')\n",
        "        embeddings_index[word] = coefs\n",
        "f.close()\n",
        "\n",
        "print('Found %s word vectors.' % len(embeddings_index))\n",
        "print(type(embeddings_index))\n",
        "print(len(word2index))"
      ],
      "execution_count": 19,
      "outputs": [
        {
          "output_type": "error",
          "ename": "FileNotFoundError",
          "evalue": "ignored",
          "traceback": [
            "\u001b[0;31m---------------------------------------------------------------------------\u001b[0m",
            "\u001b[0;31mFileNotFoundError\u001b[0m                         Traceback (most recent call last)",
            "\u001b[0;32m<ipython-input-19-93ff78401e5b>\u001b[0m in \u001b[0;36m<module>\u001b[0;34m()\u001b[0m\n\u001b[1;32m      1\u001b[0m \u001b[0membeddings_index\u001b[0m \u001b[0;34m=\u001b[0m \u001b[0;34m{\u001b[0m\u001b[0;34m}\u001b[0m\u001b[0;34m\u001b[0m\u001b[0;34m\u001b[0m\u001b[0m\n\u001b[0;32m----> 2\u001b[0;31m \u001b[0mf\u001b[0m \u001b[0;34m=\u001b[0m \u001b[0mopen\u001b[0m\u001b[0;34m(\u001b[0m\u001b[0;34m'drive/My Drive/Colab Notebooks/SBW-vectors-300-min5.txt'\u001b[0m\u001b[0;34m)\u001b[0m\u001b[0;34m\u001b[0m\u001b[0;34m\u001b[0m\u001b[0m\n\u001b[0m\u001b[1;32m      3\u001b[0m \u001b[0;32mfor\u001b[0m \u001b[0ma\u001b[0m\u001b[0;34m,\u001b[0m \u001b[0mline\u001b[0m \u001b[0;32min\u001b[0m \u001b[0menumerate\u001b[0m\u001b[0;34m(\u001b[0m\u001b[0mf\u001b[0m\u001b[0;34m)\u001b[0m\u001b[0;34m:\u001b[0m\u001b[0;34m\u001b[0m\u001b[0;34m\u001b[0m\u001b[0m\n\u001b[1;32m      4\u001b[0m     \u001b[0;32mif\u001b[0m \u001b[0ma\u001b[0m \u001b[0;34m>\u001b[0m \u001b[0;36m0\u001b[0m\u001b[0;34m:\u001b[0m\u001b[0;34m\u001b[0m\u001b[0;34m\u001b[0m\u001b[0m\n\u001b[1;32m      5\u001b[0m         \u001b[0mvalues\u001b[0m \u001b[0;34m=\u001b[0m \u001b[0mline\u001b[0m\u001b[0;34m.\u001b[0m\u001b[0msplit\u001b[0m\u001b[0;34m(\u001b[0m\u001b[0;34m)\u001b[0m\u001b[0;34m\u001b[0m\u001b[0;34m\u001b[0m\u001b[0m\n",
            "\u001b[0;31mFileNotFoundError\u001b[0m: [Errno 2] No such file or directory: 'drive/My Drive/Colab Notebooks/SBW-vectors-300-min5.txt'"
          ]
        }
      ]
    },
    {
      "cell_type": "markdown",
      "metadata": {
        "colab_type": "text",
        "id": "FgtxlDn0Tuqp"
      },
      "source": [
        "####**Emparejamos las 24500 palabras únicas de ancora con las 1000653 de palabras vectorizadas de SBWE para generar la matriz de embedding con las 24500 palabras de dimensión 300 como fue preentrenado el SBWE con word2vec.**"
      ]
    },
    {
      "cell_type": "code",
      "metadata": {
        "colab_type": "code",
        "id": "Oqe4BVECUgeM",
        "colab": {
          "base_uri": "https://localhost:8080/",
          "height": 35
        },
        "outputId": "92960543-c832-43bc-b1d9-f9c33543b731"
      },
      "source": [
        "embedding_matrix = np.zeros((len(word2index) + 1, 300))\n",
        "for t, (word, i) in enumerate(word2index.items()):\n",
        "    embedding_vector = embeddings_index.get(word)\n",
        "    if embedding_vector is not None:\n",
        "        # las palabras que no se encuentren en el índice de inserción serán todos ceros.\n",
        "        embedding_matrix[t] = embedding_vector\n",
        "\n",
        "embedding_matrix.shape"
      ],
      "execution_count": 20,
      "outputs": [
        {
          "output_type": "execute_result",
          "data": {
            "text/plain": [
              "(24500, 300)"
            ]
          },
          "metadata": {
            "tags": []
          },
          "execution_count": 20
        }
      ]
    },
    {
      "cell_type": "markdown",
      "metadata": {
        "colab_type": "text",
        "id": "r3ePXpGIUrvE"
      },
      "source": [
        "#Parte 2 - Entrenamiento"
      ]
    },
    {
      "cell_type": "code",
      "metadata": {
        "colab_type": "code",
        "id": "E3enCP-VgcMc",
        "colab": {
          "base_uri": "https://localhost:8080/",
          "height": 107
        },
        "outputId": "96fecd09-ce90-4855-9baa-f429fdebd3a6"
      },
      "source": [
        "## Funcion que permite forzar el uso de GPU cuando estan presentes\n",
        "\n",
        "import tensorflow as tf\n",
        "sess = tf.compat.v1.Session(config=tf.compat.v1.ConfigProto(log_device_placement=True))"
      ],
      "execution_count": 21,
      "outputs": [
        {
          "output_type": "stream",
          "text": [
            "Device mapping:\n",
            "/job:localhost/replica:0/task:0/device:XLA_CPU:0 -> device: XLA_CPU device\n",
            "/job:localhost/replica:0/task:0/device:XLA_GPU:0 -> device: XLA_GPU device\n",
            "/job:localhost/replica:0/task:0/device:GPU:0 -> device: 0, name: Tesla P100-PCIE-16GB, pci bus id: 0000:00:04.0, compute capability: 6.0\n",
            "\n"
          ],
          "name": "stdout"
        }
      ]
    },
    {
      "cell_type": "markdown",
      "metadata": {
        "colab_type": "text",
        "id": "baqMQ5IRgk0w"
      },
      "source": [
        "## Estos comandos sirven para activar el modelo distribuido para el uso de las GPUs"
      ]
    },
    {
      "cell_type": "code",
      "metadata": {
        "colab_type": "code",
        "id": "2iy1wFIKbEuG",
        "colab": {
          "base_uri": "https://localhost:8080/",
          "height": 35
        },
        "outputId": "317d1c11-0231-48d0-b112-21d2f2e0285e"
      },
      "source": [
        "import tensorflow as tf\n",
        "strategy = tf.distribute.MirroredStrategy()"
      ],
      "execution_count": 22,
      "outputs": [
        {
          "output_type": "stream",
          "text": [
            "INFO:tensorflow:Using MirroredStrategy with devices ('/job:localhost/replica:0/task:0/device:GPU:0',)\n"
          ],
          "name": "stdout"
        }
      ]
    },
    {
      "cell_type": "code",
      "metadata": {
        "colab_type": "code",
        "id": "oddffNkmhfhD",
        "colab": {
          "base_uri": "https://localhost:8080/",
          "height": 361
        },
        "outputId": "21f94526-51ee-429a-991d-68ebaeea1415"
      },
      "source": [
        "!pip3 install git+https://www.github.com/keras-team/keras-contrib.git\n"
      ],
      "execution_count": 23,
      "outputs": [
        {
          "output_type": "stream",
          "text": [
            "Collecting git+https://www.github.com/keras-team/keras-contrib.git\n",
            "  Cloning https://www.github.com/keras-team/keras-contrib.git to /tmp/pip-req-build-ll7c83r_\n",
            "  Running command git clone -q https://www.github.com/keras-team/keras-contrib.git /tmp/pip-req-build-ll7c83r_\n",
            "Requirement already satisfied: keras in /usr/local/lib/python3.6/dist-packages (from keras-contrib==2.0.8) (2.3.1)\n",
            "Requirement already satisfied: six>=1.9.0 in /usr/local/lib/python3.6/dist-packages (from keras->keras-contrib==2.0.8) (1.12.0)\n",
            "Requirement already satisfied: scipy>=0.14 in /usr/local/lib/python3.6/dist-packages (from keras->keras-contrib==2.0.8) (1.4.1)\n",
            "Requirement already satisfied: keras-preprocessing>=1.0.5 in /usr/local/lib/python3.6/dist-packages (from keras->keras-contrib==2.0.8) (1.1.2)\n",
            "Requirement already satisfied: pyyaml in /usr/local/lib/python3.6/dist-packages (from keras->keras-contrib==2.0.8) (3.13)\n",
            "Requirement already satisfied: numpy>=1.9.1 in /usr/local/lib/python3.6/dist-packages (from keras->keras-contrib==2.0.8) (1.18.5)\n",
            "Requirement already satisfied: keras-applications>=1.0.6 in /usr/local/lib/python3.6/dist-packages (from keras->keras-contrib==2.0.8) (1.0.8)\n",
            "Requirement already satisfied: h5py in /usr/local/lib/python3.6/dist-packages (from keras->keras-contrib==2.0.8) (2.10.0)\n",
            "Building wheels for collected packages: keras-contrib\n",
            "  Building wheel for keras-contrib (setup.py) ... \u001b[?25l\u001b[?25hdone\n",
            "  Created wheel for keras-contrib: filename=keras_contrib-2.0.8-cp36-none-any.whl size=101064 sha256=11c9a9e6edd30ed7b8d86308fe9d7e47d711a32a9183a5624a0ac985149062a2\n",
            "  Stored in directory: /tmp/pip-ephem-wheel-cache-08okpykt/wheels/11/27/c8/4ed56de7b55f4f61244e2dc6ef3cdbaff2692527a2ce6502ba\n",
            "Successfully built keras-contrib\n",
            "Installing collected packages: keras-contrib\n",
            "Successfully installed keras-contrib-2.0.8\n"
          ],
          "name": "stdout"
        }
      ]
    },
    {
      "cell_type": "code",
      "metadata": {
        "colab_type": "code",
        "id": "5dady839yGIS",
        "colab": {}
      },
      "source": [
        "\"\"\"from keras.models import Sequential\n",
        "from keras.layers import Dense, InputLayer, Embedding, Activation, Bidirectional, LSTM, TimeDistributed, Dropout\n",
        "from keras.layers.normalization import BatchNormalization\n",
        "from keras.optimizers import RMSprop, Adam\n",
        "from keras.utils import plot_model\n",
        "\n",
        "lr = 0.001\n",
        "lr_decay = 1e-4\n",
        "\n",
        "embedding_layer = Embedding(len(word2index)+1, 300, weights=[embedding_matrix],  input_length=MAX_LENGTH, trainable=False)\n",
        "#embedding_layer = Embedding(len(embeddings_index)+1, 300, weights=[embedding_matrix],  input_length=MAX_LENGTH, trainable=False)\n",
        "\n",
        "model = Sequential()\n",
        "model.add(InputLayer(input_shape=(MAX_LENGTH, )))\n",
        "model.add(embedding_layer)\n",
        "model.add(Bidirectional(LSTM(300, return_sequences=True)))\n",
        "model.add(TimeDistributed(Dense(len(tag2index))))\n",
        "model.add(Dropout(0.5))\n",
        "model.add(Activation('softmax'))\n",
        "\n",
        "optimizer = Adam(lr=lr, decay=lr_decay)\n",
        "\n",
        "#parallel_model = multi_gpu_model(model, gpus=2)\n",
        "#model.compile(loss='categorical_crossentropy', optimizer=Adam(0.001), metrics=['accuracy'])\n",
        "model.compile(loss='categorical_crossentropy', optimizer=optimizer, metrics=['accuracy'])\n",
        " \n",
        "model.summary()\"\"\""
      ],
      "execution_count": null,
      "outputs": []
    },
    {
      "cell_type": "code",
      "metadata": {
        "colab_type": "code",
        "id": "_1cbiJfUTX6K",
        "colab": {
          "base_uri": "https://localhost:8080/",
          "height": 469
        },
        "outputId": "4b253cac-ae19-4de4-ceff-2fb3a9d88553"
      },
      "source": [
        "from keras.models import Model, Input\n",
        "from keras.layers import LSTM, Embedding, Dense, TimeDistributed, Dropout, Bidirectional\n",
        "import keras as k\n",
        "from keras_contrib.layers import CRF\n",
        "\n",
        "input = Input(shape=(MAX_LENGTH,))\n",
        "word_embedding_size = 300\n",
        "\n",
        "# Embedding Layer\n",
        "model = Embedding(input_dim=len(word2index), output_dim=word_embedding_size, input_length=MAX_LENGTH)(input)\n",
        "\n",
        "# BI-LSTM Layer\n",
        "model = Bidirectional(LSTM(units=word_embedding_size, \n",
        "                           return_sequences=True, \n",
        "                           dropout=0.5, \n",
        "                           recurrent_dropout=0.5, \n",
        "                           kernel_initializer=k.initializers.he_normal()))(model)\n",
        "model = LSTM(units=word_embedding_size * 2, \n",
        "             return_sequences=True, \n",
        "             dropout=0.5, \n",
        "             recurrent_dropout=0.5, \n",
        "             kernel_initializer=k.initializers.he_normal())(model)\n",
        "\n",
        "# TimeDistributed Layer\n",
        "model = TimeDistributed(Dense(len(tag2index), activation=\"relu\"))(model)  \n",
        "\n",
        "# CRF Layer\n",
        "crf = CRF(len(tag2index))\n",
        "\n",
        "out = crf(model)  # output\n",
        "model = Model(input, out)\n",
        "\n",
        "\n",
        "#Optimiser \n",
        "adam = k.optimizers.Adam(lr=0.0005, beta_1=0.9, beta_2=0.999)\n",
        "\n",
        "# Compile model\n",
        "model.compile(optimizer=adam, loss=crf.loss_function, metrics=[crf.accuracy, 'accuracy'])\n",
        "model.summary()"
      ],
      "execution_count": 24,
      "outputs": [
        {
          "output_type": "stream",
          "text": [
            "/usr/local/lib/python3.6/dist-packages/keras_contrib/layers/crf.py:346: UserWarning: CRF.loss_function is deprecated and it might be removed in the future. Please use losses.crf_loss instead.\n",
            "  warnings.warn('CRF.loss_function is deprecated '\n",
            "/usr/local/lib/python3.6/dist-packages/keras_contrib/layers/crf.py:353: UserWarning: CRF.accuracy is deprecated and it might be removed in the future. Please use metrics.crf_accuracy\n",
            "  warnings.warn('CRF.accuracy is deprecated and it '\n"
          ],
          "name": "stderr"
        },
        {
          "output_type": "stream",
          "text": [
            "Model: \"model_1\"\n",
            "_________________________________________________________________\n",
            "Layer (type)                 Output Shape              Param #   \n",
            "=================================================================\n",
            "input_1 (InputLayer)         (None, 149)               0         \n",
            "_________________________________________________________________\n",
            "embedding_1 (Embedding)      (None, 149, 300)          7349700   \n",
            "_________________________________________________________________\n",
            "bidirectional_1 (Bidirection (None, 149, 600)          1442400   \n",
            "_________________________________________________________________\n",
            "lstm_2 (LSTM)                (None, 149, 600)          2882400   \n",
            "_________________________________________________________________\n",
            "time_distributed_1 (TimeDist (None, 149, 291)          174891    \n",
            "_________________________________________________________________\n",
            "crf_1 (CRF)                  (None, 149, 291)          170235    \n",
            "=================================================================\n",
            "Total params: 12,019,626\n",
            "Trainable params: 12,019,626\n",
            "Non-trainable params: 0\n",
            "_________________________________________________________________\n"
          ],
          "name": "stdout"
        }
      ]
    },
    {
      "cell_type": "markdown",
      "metadata": {
        "colab_type": "text",
        "id": "BA2g3asKi38M"
      },
      "source": [
        "### Desarrollamos el entrenamiento del modelo, el model.fit es el alimentador de la red, que tiene los ejemplos de entrenamiento y los ejemplos de validación para que funcione el gradiente y la precisión del modelo."
      ]
    },
    {
      "cell_type": "code",
      "metadata": {
        "colab_type": "code",
        "id": "Cb2aHt5ui9-w",
        "colab": {
          "base_uri": "https://localhost:8080/",
          "height": 793
        },
        "outputId": "c1f8f3b1-958d-44c1-9077-a713d3c0fe52"
      },
      "source": [
        "#!sudo pip install h5py\n",
        "import os\n",
        "model_hist = model.fit(train_sentences_X, cat_train_tags_y,\n",
        "                       validation_data=(eval_sentences_X, cat_eval_tags_y),\n",
        "                       batch_size=128, \n",
        "                       epochs=20,\n",
        "                       validation_split=0.1, verbose=1)\n",
        "\n",
        "# serialize model to JSON\n",
        "model_json = model.to_json()\n",
        "with open(\"mb.json\", \"w\") as json_file:\n",
        "    json_file.write(model_json)\n",
        "\n",
        "# serialize weights to HDF5\n",
        "model.save_weights(\"drive/My Drive/Colab Notebooks/mb.h5\")\n",
        "print(\"Saved model to disk\")"
      ],
      "execution_count": 28,
      "outputs": [
        {
          "output_type": "stream",
          "text": [
            "Train on 3618 samples, validate on 1206 samples\n",
            "Epoch 1/20\n",
            "3618/3618 [==============================] - 40s 11ms/step - loss: 0.8407 - crf_viterbi_accuracy: 0.8154 - accuracy: 0.7865 - val_loss: 0.8164 - val_crf_viterbi_accuracy: 0.8169 - val_accuracy: 0.8171\n",
            "Epoch 2/20\n",
            "3618/3618 [==============================] - 40s 11ms/step - loss: 0.8092 - crf_viterbi_accuracy: 0.8188 - accuracy: 0.7865 - val_loss: 0.8025 - val_crf_viterbi_accuracy: 0.8185 - val_accuracy: 0.8187\n",
            "Epoch 3/20\n",
            "3618/3618 [==============================] - 40s 11ms/step - loss: 0.7976 - crf_viterbi_accuracy: 0.8182 - accuracy: 0.7865 - val_loss: 0.7943 - val_crf_viterbi_accuracy: 0.8192 - val_accuracy: 0.8194\n",
            "Epoch 4/20\n",
            "3618/3618 [==============================] - 40s 11ms/step - loss: 0.7893 - crf_viterbi_accuracy: 0.8198 - accuracy: 0.7865 - val_loss: 0.7871 - val_crf_viterbi_accuracy: 0.8194 - val_accuracy: 0.8196\n",
            "Epoch 5/20\n",
            "3618/3618 [==============================] - 40s 11ms/step - loss: 0.7811 - crf_viterbi_accuracy: 0.8214 - accuracy: 0.7865 - val_loss: 0.7788 - val_crf_viterbi_accuracy: 0.8197 - val_accuracy: 0.8199\n",
            "Epoch 6/20\n",
            "3618/3618 [==============================] - 40s 11ms/step - loss: 0.7710 - crf_viterbi_accuracy: 0.8262 - accuracy: 0.7865 - val_loss: 0.7642 - val_crf_viterbi_accuracy: 0.8321 - val_accuracy: 0.8324\n",
            "Epoch 7/20\n",
            "3618/3618 [==============================] - 40s 11ms/step - loss: 0.7499 - crf_viterbi_accuracy: 0.8318 - accuracy: 0.7865 - val_loss: 0.7230 - val_crf_viterbi_accuracy: 0.8338 - val_accuracy: 0.8340\n",
            "Epoch 8/20\n",
            "3618/3618 [==============================] - 40s 11ms/step - loss: 0.6921 - crf_viterbi_accuracy: 0.8398 - accuracy: 0.7865 - val_loss: 0.6318 - val_crf_viterbi_accuracy: 0.8518 - val_accuracy: 0.8520\n",
            "Epoch 9/20\n",
            "3618/3618 [==============================] - 40s 11ms/step - loss: 0.5945 - crf_viterbi_accuracy: 0.8618 - accuracy: 0.7865 - val_loss: 0.5278 - val_crf_viterbi_accuracy: 0.8730 - val_accuracy: 0.8733\n",
            "Epoch 10/20\n",
            "3618/3618 [==============================] - 40s 11ms/step - loss: 0.5018 - crf_viterbi_accuracy: 0.8788 - accuracy: 0.7865 - val_loss: 0.4416 - val_crf_viterbi_accuracy: 0.8916 - val_accuracy: 0.8919\n",
            "Epoch 11/20\n",
            "3618/3618 [==============================] - 40s 11ms/step - loss: 0.4234 - crf_viterbi_accuracy: 0.8955 - accuracy: 0.7865 - val_loss: 0.3683 - val_crf_viterbi_accuracy: 0.9105 - val_accuracy: 0.9107\n",
            "Epoch 12/20\n",
            "3618/3618 [==============================] - 40s 11ms/step - loss: 0.3470 - crf_viterbi_accuracy: 0.9155 - accuracy: 0.7865 - val_loss: 0.2980 - val_crf_viterbi_accuracy: 0.9317 - val_accuracy: 0.9318\n",
            "Epoch 13/20\n",
            "3618/3618 [==============================] - 40s 11ms/step - loss: 0.2727 - crf_viterbi_accuracy: 0.9343 - accuracy: 0.7865 - val_loss: 0.2402 - val_crf_viterbi_accuracy: 0.9462 - val_accuracy: 0.9462\n",
            "Epoch 14/20\n",
            "3618/3618 [==============================] - 40s 11ms/step - loss: 0.2129 - crf_viterbi_accuracy: 0.9488 - accuracy: 0.7865 - val_loss: 0.2076 - val_crf_viterbi_accuracy: 0.9532 - val_accuracy: 0.9533\n",
            "Epoch 15/20\n",
            "3618/3618 [==============================] - 40s 11ms/step - loss: 0.1710 - crf_viterbi_accuracy: 0.9594 - accuracy: 0.7865 - val_loss: 0.1872 - val_crf_viterbi_accuracy: 0.9591 - val_accuracy: 0.9593\n",
            "Epoch 16/20\n",
            "3618/3618 [==============================] - 40s 11ms/step - loss: 0.1415 - crf_viterbi_accuracy: 0.9668 - accuracy: 0.7865 - val_loss: 0.1772 - val_crf_viterbi_accuracy: 0.9628 - val_accuracy: 0.9629\n",
            "Epoch 17/20\n",
            "3618/3618 [==============================] - 40s 11ms/step - loss: 0.1207 - crf_viterbi_accuracy: 0.9722 - accuracy: 0.7865 - val_loss: 0.1727 - val_crf_viterbi_accuracy: 0.9647 - val_accuracy: 0.9649\n",
            "Epoch 18/20\n",
            "3618/3618 [==============================] - 41s 11ms/step - loss: 0.1053 - crf_viterbi_accuracy: 0.9755 - accuracy: 0.7865 - val_loss: 0.1673 - val_crf_viterbi_accuracy: 0.9662 - val_accuracy: 0.9662\n",
            "Epoch 19/20\n",
            "3618/3618 [==============================] - 41s 11ms/step - loss: 0.0927 - crf_viterbi_accuracy: 0.9787 - accuracy: 0.7865 - val_loss: 0.1599 - val_crf_viterbi_accuracy: 0.9690 - val_accuracy: 0.9690\n",
            "Epoch 20/20\n",
            "3618/3618 [==============================] - 41s 11ms/step - loss: 0.0825 - crf_viterbi_accuracy: 0.9810 - accuracy: 0.7865 - val_loss: 0.1629 - val_crf_viterbi_accuracy: 0.9694 - val_accuracy: 0.9696\n",
            "Saved model to disk\n"
          ],
          "name": "stdout"
        }
      ]
    },
    {
      "cell_type": "markdown",
      "metadata": {
        "colab_type": "text",
        "id": "OtIYyzsc1712"
      },
      "source": [
        "# Parte 3 - Evaluación del modelo"
      ]
    },
    {
      "cell_type": "code",
      "metadata": {
        "colab_type": "code",
        "id": "hn2v7suj2F2J",
        "colab": {}
      },
      "source": [
        "sess.close()"
      ],
      "execution_count": 29,
      "outputs": []
    },
    {
      "cell_type": "markdown",
      "metadata": {
        "colab_type": "text",
        "id": "p5gH7KcJ2TuM"
      },
      "source": [
        "### Evaluamos el modelo y calculamos el valor de precision con respecto a los datos de prueba"
      ]
    },
    {
      "cell_type": "code",
      "metadata": {
        "colab_type": "code",
        "id": "2ayHI6L42JMs",
        "colab": {
          "base_uri": "https://localhost:8080/",
          "height": 53
        },
        "outputId": "edf45454-ca1a-4b02-8ea1-3cb17d39e121"
      },
      "source": [
        "scores = model.evaluate(test_sentences_X, cat_test_tags_y)\n",
        "print(f\"{model.metrics_names[1]}: {scores[1] * 100}\") "
      ],
      "execution_count": 30,
      "outputs": [
        {
          "output_type": "stream",
          "text": [
            "1206/1206 [==============================] - 9s 7ms/step\n",
            "crf_viterbi_accuracy: 96.89156413078308\n"
          ],
          "name": "stdout"
        }
      ]
    },
    {
      "cell_type": "markdown",
      "metadata": {
        "colab_type": "text",
        "id": "chnDW-pX2uTv"
      },
      "source": [
        "### Definimos la funcion que nos servira para graficar el comportamiento del modelo en cada epoca del entrenamiento"
      ]
    },
    {
      "cell_type": "code",
      "metadata": {
        "colab_type": "code",
        "id": "WNLt0Sfe2wVv",
        "colab": {}
      },
      "source": [
        "import matplotlib.pyplot as plt\n",
        "\n",
        "def plot_model_performance(train_loss, train_acc, train_val_loss, train_val_acc):\n",
        "    \"\"\" Plot model loss and accuracy through epochs. \"\"\"\n",
        "    blue= '#34495E'\n",
        "    green = '#2ECC71'\n",
        "    orange = '#E23B13'\n",
        "    \n",
        "    # plot model loss\n",
        "    fig, (ax1, ax2) = plt.subplots(2, figsize=(10, 8))\n",
        "    ax1.plot(range(1, len(train_loss) + 1), train_loss, blue, linewidth=5, label='training')\n",
        "    ax1.plot(range(1, len(train_val_loss) + 1), train_val_loss, green, linewidth=5, label='validation')\n",
        "    ax1.set_xlabel('# epoch')\n",
        "    ax1.set_ylabel('loss')\n",
        "    ax1.tick_params('y')\n",
        "    ax1.legend(loc='upper right', shadow=False)\n",
        "    ax1.set_title('Model loss through #epochs', color=orange, fontweight='bold')\n",
        "    \n",
        "    # plot model accuracy\n",
        "    ax2.plot(range(1, len(train_acc) + 1), train_acc, blue, linewidth=5, label='training')\n",
        "    ax2.plot(range(1, len(train_val_acc) + 1), train_val_acc, green, linewidth=5, label='validation')\n",
        "    ax2.set_xlabel('# epoch')\n",
        "    ax2.set_ylabel('accuracy')\n",
        "    ax2.tick_params('y')\n",
        "    ax2.legend(loc='lower right', shadow=False)\n",
        "    ax2.set_title('Model accuracy through #epochs', color=orange, fontweight='bold')"
      ],
      "execution_count": 31,
      "outputs": []
    },
    {
      "cell_type": "markdown",
      "metadata": {
        "colab_type": "text",
        "id": "_djBVneI37O-"
      },
      "source": [
        "### Procedemos a Graficar el comportamiento del Entrenamiento, tanto del conjunto de entrenamiento como el de validación con respecto a la cantidad de epocas"
      ]
    },
    {
      "cell_type": "code",
      "metadata": {
        "colab_type": "code",
        "id": "omZZVqg03867",
        "colab": {
          "base_uri": "https://localhost:8080/",
          "height": 513
        },
        "outputId": "e63a6c9d-1469-4c5e-f4f9-e0005bc6d6c4"
      },
      "source": [
        "plot_model_performance(\n",
        "    train_loss=model_hist.history.get('loss', []),\n",
        "    train_acc=model_hist.history.get('crf_viterbi_accuracy', []),\n",
        "    train_val_loss=model_hist.history.get('val_loss', []),\n",
        "    train_val_acc=model_hist.history.get('val_crf_viterbi_accuracy', [])\n",
        ")"
      ],
      "execution_count": 32,
      "outputs": [
        {
          "output_type": "display_data",
          "data": {
            "image/png": "[encoded data removed]",
            "text/plain": [
              "<Figure size 720x576 with 2 Axes>"
            ]
          },
          "metadata": {
            "tags": [],
            "needs_background": "light"
          }
        }
      ]
    },
    {
      "cell_type": "markdown",
      "metadata": {
        "colab_type": "text",
        "id": "PaF9aavE5Pcb"
      },
      "source": [
        "### Función que Permite convertir Indices en Tags"
      ]
    },
    {
      "cell_type": "code",
      "metadata": {
        "colab_type": "code",
        "id": "ML5Kb1j_5OYy",
        "colab": {}
      },
      "source": [
        "def logits_to_tokens(sequences, index):\n",
        "    token_sequences = []\n",
        "    for categorical_sequence in sequences:\n",
        "        token_sequence = []\n",
        "        for categorical in categorical_sequence:\n",
        "            token_sequence.append(index[np.argmax(categorical)])\n",
        " \n",
        "        token_sequences.append(token_sequence)\n",
        " \n",
        "    return token_sequences"
      ],
      "execution_count": 36,
      "outputs": []
    },
    {
      "cell_type": "markdown",
      "metadata": {
        "colab_type": "text",
        "id": "zVEL1znu5oZy"
      },
      "source": [
        "### Hacemos la prediccion sobre el conjunto de pruebas"
      ]
    },
    {
      "cell_type": "code",
      "metadata": {
        "colab_type": "code",
        "id": "cec4uWdO5qCn",
        "colab": {
          "base_uri": "https://localhost:8080/",
          "height": 55
        },
        "outputId": "de3ae14d-d850-4005-e7e0-72d56ce7a428"
      },
      "source": [
        "import pandas as pd\n",
        "prediction = model.predict(test_sentences_X)\n",
        "log_tokens = logits_to_tokens(prediction, {i: t for t, i in tag2index.items()})\n",
        "\n",
        "print(log_tokens[0])"
      ],
      "execution_count": 37,
      "outputs": [
        {
          "output_type": "stream",
          "text": [
            "['da0ms0', 'ncms000', 'aq0cs0', 'vaip3s0', 'vmp00sm', 'cs', 'da0fs0', 'ncfs000', 'sps00', 'np0000l', 'vaip3s0', 'vmp00sm', 'sps00', 'Fe', 'vmn0000', 'Fe', 'Fc', 'cc', 'sn.e-SUJ', 'vaip3s0', 'vmii3s0', 'cs', 'da0ms0', 'ncms000', 'sps00', 'da0ms0', 'ncms000', 'vmip3s0', 'cs', 'sps00', 'da0ms0', 'np0000l', 'Fe', 'di0mp0', 'vmip3p0', 'sps00', 'da0fs0', 'di0fs0', 'ncfs000', 'Fe', 'Fp', '-PAD-', '-PAD-', '-PAD-', '-PAD-', '-PAD-', '-PAD-', '-PAD-', '-PAD-', '-PAD-', '-PAD-', '-PAD-', '-PAD-', '-PAD-', '-PAD-', '-PAD-', '-PAD-', '-PAD-', '-PAD-', '-PAD-', '-PAD-', '-PAD-', '-PAD-', '-PAD-', '-PAD-', '-PAD-', '-PAD-', '-PAD-', '-PAD-', '-PAD-', '-PAD-', '-PAD-', '-PAD-', '-PAD-', '-PAD-', '-PAD-', '-PAD-', '-PAD-', '-PAD-', '-PAD-', '-PAD-', '-PAD-', '-PAD-', '-PAD-', '-PAD-', '-PAD-', '-PAD-', '-PAD-', '-PAD-', '-PAD-', '-PAD-', '-PAD-', '-PAD-', '-PAD-', '-PAD-', '-PAD-', '-PAD-', '-PAD-', '-PAD-', '-PAD-', '-PAD-', '-PAD-', '-PAD-', '-PAD-', '-PAD-', '-PAD-', '-PAD-', '-PAD-', '-PAD-', '-PAD-', '-PAD-', '-PAD-', '-PAD-', '-PAD-', '-PAD-', '-PAD-', '-PAD-', '-PAD-', '-PAD-', '-PAD-', '-PAD-', '-PAD-', '-PAD-', '-PAD-', '-PAD-', '-PAD-', '-PAD-', '-PAD-', '-PAD-', '-PAD-', '-PAD-', '-PAD-', '-PAD-', '-PAD-', '-PAD-', '-PAD-', '-PAD-', '-PAD-', '-PAD-', '-PAD-', '-PAD-', '-PAD-', '-PAD-', '-PAD-', '-PAD-', '-PAD-', '-PAD-', '-PAD-', '-PAD-']\n"
          ],
          "name": "stdout"
        }
      ]
    },
    {
      "cell_type": "markdown",
      "metadata": {
        "colab_type": "text",
        "id": "FURxKHvm6bo9"
      },
      "source": [
        "### Hallamos los valores de F1 score, recall, precision"
      ]
    },
    {
      "cell_type": "code",
      "metadata": {
        "colab_type": "code",
        "id": "nPYP2RSY6c8i",
        "colab": {
          "base_uri": "https://localhost:8080/",
          "height": 1000
        },
        "outputId": "939f024f-9bdc-4373-d0ee-83af38e65b62"
      },
      "source": [
        "from sklearn.metrics import classification_report, confusion_matrix\n",
        "\n",
        "results = pd.DataFrame(columns=['Expected', 'Predicted'])\n",
        "k = 0\n",
        "for i, lista_etiquetas_oracion in enumerate(test_tags):\n",
        "    for j, etiquetas in enumerate(lista_etiquetas_oracion):\n",
        "        k = k + 1\n",
        "        results.loc[k, 'Expected'] = etiquetas\n",
        "        results.loc[k, 'Predicted'] = log_tokens[i][j]\n",
        "\n",
        "# print(results)\n",
        "\n",
        "\n",
        "print('\\nclassification_report:\\n', classification_report(results['Expected'], results['Predicted']))"
      ],
      "execution_count": 38,
      "outputs": [
        {
          "output_type": "stream",
          "text": [
            "/usr/local/lib/python3.6/dist-packages/sklearn/metrics/_classification.py:1272: UndefinedMetricWarning: Precision and F-score are ill-defined and being set to 0.0 in labels with no predicted samples. Use `zero_division` parameter to control this behavior.\n",
            "  _warn_prf(average, modifier, msg_start, len(result))\n"
          ],
          "name": "stderr"
        },
        {
          "output_type": "stream",
          "text": [
            "\n",
            "classification_report:\n",
            "               precision    recall  f1-score   support\n",
            "\n",
            "         Faa       0.00      0.00      0.00         2\n",
            "         Fat       0.00      0.00      0.00         5\n",
            "          Fc       1.00      1.00      1.00      2291\n",
            "          Fd       0.85      1.00      0.92        87\n",
            "          Fe       1.00      1.00      1.00       631\n",
            "          Fg       0.99      1.00      0.99       226\n",
            "          Fh       0.00      0.00      0.00         3\n",
            "         Fia       0.00      0.00      0.00         6\n",
            "         Fit       1.00      0.89      0.94        19\n",
            "          Fp       1.00      1.00      1.00      1178\n",
            "         Fpa       0.92      1.00      0.96       156\n",
            "         Fpt       0.99      1.00      0.99       160\n",
            "          Fs       1.00      0.31      0.47        13\n",
            "          Fx       0.87      0.98      0.92        41\n",
            "          Fz       0.00      0.00      0.00         2\n",
            "           W       0.78      0.56      0.65       194\n",
            "           Z       0.51      0.61      0.55       320\n",
            "          Zm       0.97      0.91      0.94        35\n",
            "          Zp       0.95      0.40      0.56        45\n",
            "      ao0fp0       1.00      0.65      0.79        17\n",
            "      ao0fs0       0.97      0.85      0.90        66\n",
            "      ao0mp0       0.90      0.78      0.84        23\n",
            "      ao0ms0       0.68      0.86      0.76        59\n",
            "     aq00000       0.00      0.00      0.00         2\n",
            "      aq0cn0       0.00      0.00      0.00         4\n",
            "      aq0cp0       0.73      0.69      0.71       228\n",
            "      aq0cs0       0.80      0.79      0.79       590\n",
            "      aq0fp0       0.72      0.57      0.63       128\n",
            "      aq0fpp       0.43      0.25      0.32        52\n",
            "      aq0fs0       0.85      0.70      0.77       355\n",
            "      aq0fsp       0.74      0.32      0.45       140\n",
            "      aq0mp0       0.57      0.63      0.60       202\n",
            "      aq0mpp       0.46      0.29      0.36        96\n",
            "      aq0ms0       0.86      0.70      0.78       491\n",
            "      aq0msp       0.36      0.58      0.45       222\n",
            "          cc       0.98      0.99      0.99      1222\n",
            "          cs       0.91      0.82      0.86       927\n",
            "      da0fp0       0.97      1.00      0.99       374\n",
            "      da0fs0       0.99      1.00      0.99      1324\n",
            "      da0mp0       0.99      1.00      1.00       637\n",
            "      da0ms0       1.00      1.00      1.00      1275\n",
            "      da0ns0       0.66      1.00      0.80       110\n",
            "      dd0cp0       0.00      0.00      0.00         2\n",
            "      dd0cs0       0.00      0.00      0.00         4\n",
            "      dd0fp0       0.68      0.72      0.70        18\n",
            "      dd0fs0       0.97      1.00      0.99        67\n",
            "      dd0mp0       0.80      0.93      0.86        30\n",
            "      dd0ms0       0.95      1.00      0.98       101\n",
            "      di0cp0       0.00      0.00      0.00         5\n",
            "      di0cs0       0.88      0.85      0.86        26\n",
            "      di0fp0       0.82      0.96      0.88        71\n",
            "      di0fs0       0.96      0.99      0.97       335\n",
            "      di0mp0       0.75      0.96      0.84       112\n",
            "      di0ms0       0.94      0.97      0.95       482\n",
            "      dn0cp0       0.84      0.96      0.90       149\n",
            "      dn0cs0       0.00      0.00      0.00         1\n",
            "      dn0fp0       0.00      0.00      0.00         4\n",
            "      dn0fs0       0.00      0.00      0.00         2\n",
            "      dn0mp0       0.00      0.00      0.00         5\n",
            "      dn0ms0       0.00      0.00      0.00         9\n",
            "      dp1cps       0.00      0.00      0.00         1\n",
            "      dp1css       1.00      1.00      1.00         8\n",
            "      dp1fpp       0.00      0.00      0.00         1\n",
            "      dp1fsp       0.00      0.00      0.00         6\n",
            "      dp1mpp       0.00      0.00      0.00         7\n",
            "      dp1msp       0.83      0.62      0.71         8\n",
            "      dp2css       0.00      0.00      0.00         3\n",
            "      dp3cp0       1.00      1.00      1.00       107\n",
            "      dp3cs0       1.00      1.00      1.00       275\n",
            "      dp3fs0       0.00      0.00      0.00         1\n",
            "      dt0cn0       0.00      0.00      0.00         3\n",
            "           i       0.00      0.00      0.00         4\n",
            "     nc00000       0.02      0.23      0.04        26\n",
            "     nccn000       0.00      0.00      0.00         5\n",
            "     nccp000       0.72      0.74      0.73       103\n",
            "     nccs000       0.85      0.54      0.66       146\n",
            "     ncfn000       1.00      0.53      0.70        15\n",
            "     ncfp000       0.98      0.78      0.87       788\n",
            "     ncfs000       0.97      0.87      0.92      2132\n",
            "     ncmn000       0.88      0.29      0.44        24\n",
            "     ncmp000       0.83      0.84      0.84      1166\n",
            "     ncms000       0.94      0.84      0.89      2365\n",
            "     np00000       0.00      0.00      0.00        51\n",
            "     np0000a       0.10      0.43      0.17       202\n",
            "     np0000l       0.31      0.72      0.44       412\n",
            "     np0000o       0.84      0.56      0.67       656\n",
            "     np0000p       0.78      0.53      0.63       720\n",
            "    p0000000       0.60      0.41      0.49       193\n",
            "    p010p000       0.00      0.00      0.00         2\n",
            "    p010s000       0.00      0.00      0.00         3\n",
            "    p020s000       0.00      0.00      0.00         1\n",
            "    p0300000       0.58      0.77      0.67       217\n",
            "    pd0fp000       0.00      0.00      0.00         3\n",
            "    pd0fs000       0.00      0.00      0.00         5\n",
            "    pd0mp000       0.00      0.00      0.00         6\n",
            "    pd0ms000       0.00      0.00      0.00         8\n",
            "    pd0ns000       0.64      0.95      0.76        22\n",
            "    pi0cp000       0.00      0.00      0.00         2\n",
            "    pi0cs000       0.92      0.60      0.73        40\n",
            "    pi0fp000       0.00      0.00      0.00         7\n",
            "    pi0fs000       0.00      0.00      0.00        11\n",
            "    pi0mp000       0.00      0.00      0.00        35\n",
            "    pi0ms000       0.95      0.37      0.53        54\n",
            "    pn0cp000       0.00      0.00      0.00        27\n",
            "    pn0mp000       0.00      0.00      0.00         3\n",
            "    pn0ms000       0.00      0.00      0.00         2\n",
            "    pp1cp000       0.87      0.48      0.62        27\n",
            "    pp1cs000       0.77      0.85      0.81        27\n",
            "    pp1csn00       1.00      0.12      0.22        16\n",
            "    pp1cso00       0.00      0.00      0.00         5\n",
            "    pp1mp000       0.00      0.00      0.00         9\n",
            "    pp2cs000       0.00      0.00      0.00         4\n",
            "    pp2cs00p       0.00      0.00      0.00         4\n",
            "    pp2csn00       0.00      0.00      0.00         2\n",
            "    pp2cso00       0.00      0.00      0.00         1\n",
            "    pp3cn000       0.00      0.00      0.00        10\n",
            "    pp3cna00       0.00      0.00      0.00         2\n",
            "    pp3cno00       0.00      0.00      0.00         5\n",
            "    pp3cpa00       0.00      0.00      0.00         2\n",
            "    pp3cpd00       0.82      0.82      0.82        11\n",
            "    pp3csa00       0.00      0.00      0.00         1\n",
            "    pp3csd00       0.82      0.98      0.89        63\n",
            "    pp3fp000       0.00      0.00      0.00         6\n",
            "    pp3fpa00       0.00      0.00      0.00        10\n",
            "    pp3fs000       0.00      0.00      0.00        13\n",
            "    pp3fsa00       0.00      0.00      0.00        17\n",
            "    pp3mp000       0.79      0.73      0.76        26\n",
            "    pp3mpa00       0.00      0.00      0.00         4\n",
            "    pp3ms000       0.70      0.70      0.70        23\n",
            "    pp3msa00       0.82      0.42      0.56        33\n",
            "    pp3ns000       1.00      0.13      0.24        15\n",
            "    pr000000       0.87      0.77      0.82        26\n",
            "    pr0cn000       0.80      0.94      0.86       616\n",
            "    pr0cp000       1.00      0.60      0.75        10\n",
            "    pr0cs000       0.95      0.66      0.78        32\n",
            "    pr0fp000       0.00      0.00      0.00         1\n",
            "    pr0fs000       1.00      0.20      0.33         5\n",
            "    pr0ms000       0.00      0.00      0.00         3\n",
            "    pt000000       0.00      0.00      0.00        12\n",
            "    pt0cp000       0.00      0.00      0.00         1\n",
            "    pt0cs000       0.40      0.11      0.17        18\n",
            "    pt0mp000       0.00      0.00      0.00         2\n",
            "    px1fs0p0       0.00      0.00      0.00         1\n",
            "    px3ns000       0.00      0.00      0.00         1\n",
            "          rg       0.96      0.87      0.91      1208\n",
            "          rn       0.94      0.99      0.96       265\n",
            "      sn-SUJ       0.00      0.00      0.00         1\n",
            "        sn.e       0.00      0.00      0.00         4\n",
            "    sn.e-SUJ       0.99      1.00      0.99       818\n",
            " sn.e.1n-SUJ       0.00      0.00      0.00         6\n",
            "       spcms       1.00      0.98      0.99       692\n",
            "       sps00       0.99      0.99      0.99      5056\n",
            "     vaic3p0       0.00      0.00      0.00         1\n",
            "     vaic3s0       0.27      1.00      0.42         4\n",
            "     vaif1p0       0.00      0.00      0.00         1\n",
            "     vaif3s0       0.00      0.00      0.00         3\n",
            "     vaii1s0       0.00      0.00      0.00         1\n",
            "     vaii3p0       0.92      0.92      0.92        13\n",
            "     vaii3s0       0.94      0.73      0.82        41\n",
            "     vaip1p0       0.00      0.00      0.00         8\n",
            "     vaip1s0       1.00      0.22      0.36         9\n",
            "     vaip3p0       0.81      1.00      0.90        48\n",
            "     vaip3s0       0.99      0.99      0.99       185\n",
            "     vais3s0       0.00      0.00      0.00         5\n",
            "     van0000       1.00      0.71      0.83        21\n",
            "     vap00sm       0.00      0.00      0.00         1\n",
            "     vasi1p0       0.00      0.00      0.00         1\n",
            "     vasi3p0       0.00      0.00      0.00         2\n",
            "     vasi3s0       0.69      0.82      0.75        11\n",
            "     vasp1s0       0.00      0.00      0.00         1\n",
            "     vasp3p0       0.00      0.00      0.00         1\n",
            "     vasp3s0       0.50      0.25      0.33         8\n",
            "     vmg0000       0.23      0.41      0.30        92\n",
            "     vmic1p0       0.00      0.00      0.00         2\n",
            "     vmic3p0       0.00      0.00      0.00        11\n",
            "     vmic3s0       0.90      0.63      0.75        30\n",
            "     vmif1p0       0.00      0.00      0.00         7\n",
            "     vmif1s0       0.00      0.00      0.00         3\n",
            "     vmif2s0       0.00      0.00      0.00         1\n",
            "     vmif3p0       0.45      0.35      0.39        40\n",
            "     vmif3s0       0.87      0.46      0.61       114\n",
            "     vmii1p0       0.00      0.00      0.00         9\n",
            "     vmii1s0       0.00      0.00      0.00         7\n",
            "     vmii3p0       0.65      0.25      0.37        67\n",
            "     vmii3s0       0.16      0.70      0.26       143\n",
            "     vmip1p0       0.84      0.62      0.71        60\n",
            "     vmip1s0       1.00      0.68      0.81        60\n",
            "     vmip2s0       0.00      0.00      0.00         6\n",
            "     vmip3p0       0.81      0.63      0.71       279\n",
            "     vmip3s0       0.92      0.87      0.89       599\n",
            "     vmis1p0       0.00      0.00      0.00         5\n",
            "     vmis1s0       0.00      0.00      0.00        12\n",
            "     vmis3p0       0.18      0.59      0.28       148\n",
            "     vmis3s0       0.96      0.86      0.91       606\n",
            "     vmm02s0       0.00      0.00      0.00         3\n",
            "     vmm03p0       0.00      0.00      0.00         1\n",
            "     vmm03s0       0.00      0.00      0.00         7\n",
            "     vmn0000       0.83      0.78      0.81       849\n",
            "     vmp00pf       0.00      0.00      0.00         5\n",
            "     vmp00pm       0.00      0.00      0.00        16\n",
            "     vmp00sf       0.33      0.05      0.09        19\n",
            "     vmp00sm       0.86      0.75      0.80       311\n",
            "     vmsi1p0       0.00      0.00      0.00         2\n",
            "     vmsi1s0       0.00      0.00      0.00         2\n",
            "     vmsi3p0       0.00      0.00      0.00        12\n",
            "     vmsi3s0       0.38      0.12      0.18        26\n",
            "     vmsp1p0       0.00      0.00      0.00         9\n",
            "     vmsp1s0       0.00      0.00      0.00         7\n",
            "     vmsp3p0       0.64      0.20      0.31        45\n",
            "     vmsp3s0       0.83      0.44      0.57        66\n",
            "     vsg0000       0.00      0.00      0.00         7\n",
            "     vsic1s0       0.00      0.00      0.00         1\n",
            "     vsic3p0       0.00      0.00      0.00         2\n",
            "     vsic3s0       0.42      1.00      0.59         8\n",
            "     vsif3s0       0.73      0.62      0.67        13\n",
            "     vsii3p0       0.00      0.00      0.00        13\n",
            "     vsii3s0       0.90      1.00      0.95        26\n",
            "     vsip1p0       0.00      0.00      0.00         1\n",
            "     vsip1s0       0.00      0.00      0.00         3\n",
            "     vsip2s0       0.00      0.00      0.00         2\n",
            "     vsip3p0       1.00      0.98      0.99        48\n",
            "     vsip3s0       1.00      1.00      1.00       190\n",
            "     vsis3p0       0.50      0.11      0.18        18\n",
            "     vsis3s0       1.00      1.00      1.00        39\n",
            "     vsn0000       0.83      0.97      0.89        35\n",
            "     vsp00sm       0.82      1.00      0.90        32\n",
            "     vssi3p0       0.00      0.00      0.00         1\n",
            "     vssi3s0       0.00      0.00      0.00         3\n",
            "     vssp3p0       0.00      0.00      0.00         5\n",
            "     vssp3s0       1.00      0.58      0.74        12\n",
            "\n",
            "    accuracy                           0.86     38876\n",
            "   macro avg       0.43      0.39      0.39     38876\n",
            "weighted avg       0.89      0.86      0.86     38876\n",
            "\n"
          ],
          "name": "stdout"
        }
      ]
    },
    {
      "cell_type": "code",
      "metadata": {
        "colab_type": "code",
        "id": "szgZm0q47Y-B",
        "colab": {
          "base_uri": "https://localhost:8080/",
          "height": 397
        },
        "outputId": "e07470ac-02dd-4265-f2a0-ecb12b52f6dd"
      },
      "source": [
        "!pip install seqeval\n",
        "from seqeval.metrics import precision_score, recall_score, f1_score, classification_report\n",
        "\n",
        "print(\"F1-score: {:.1%}\".format(f1_score(results['Expected'], results['Predicted'])))\n",
        "print(\"precision-score: {:.1%}\".format(precision_score(results['Expected'], results['Predicted'])))\n",
        "print(\"recall-score: {:.1%}\".format(recall_score(results['Expected'], results['Predicted'])))\n"
      ],
      "execution_count": 39,
      "outputs": [
        {
          "output_type": "stream",
          "text": [
            "Collecting seqeval\n",
            "  Downloading https://files.pythonhosted.org/packages/34/91/068aca8d60ce56dd9ba4506850e876aba5e66a6f2f29aa223224b50df0de/seqeval-0.0.12.tar.gz\n",
            "Requirement already satisfied: numpy>=1.14.0 in /usr/local/lib/python3.6/dist-packages (from seqeval) (1.18.5)\n",
            "Requirement already satisfied: Keras>=2.2.4 in /usr/local/lib/python3.6/dist-packages (from seqeval) (2.3.1)\n",
            "Requirement already satisfied: pyyaml in /usr/local/lib/python3.6/dist-packages (from Keras>=2.2.4->seqeval) (3.13)\n",
            "Requirement already satisfied: six>=1.9.0 in /usr/local/lib/python3.6/dist-packages (from Keras>=2.2.4->seqeval) (1.12.0)\n",
            "Requirement already satisfied: h5py in /usr/local/lib/python3.6/dist-packages (from Keras>=2.2.4->seqeval) (2.10.0)\n",
            "Requirement already satisfied: keras-preprocessing>=1.0.5 in /usr/local/lib/python3.6/dist-packages (from Keras>=2.2.4->seqeval) (1.1.2)\n",
            "Requirement already satisfied: keras-applications>=1.0.6 in /usr/local/lib/python3.6/dist-packages (from Keras>=2.2.4->seqeval) (1.0.8)\n",
            "Requirement already satisfied: scipy>=0.14 in /usr/local/lib/python3.6/dist-packages (from Keras>=2.2.4->seqeval) (1.4.1)\n",
            "Building wheels for collected packages: seqeval\n",
            "  Building wheel for seqeval (setup.py) ... \u001b[?25l\u001b[?25hdone\n",
            "  Created wheel for seqeval: filename=seqeval-0.0.12-cp36-none-any.whl size=7424 sha256=4f26e42dfb9d4117fbe07ef3651571add23aeb006f65de2af17d9e22f4eafa77\n",
            "  Stored in directory: /root/.cache/pip/wheels/4f/32/0a/df3b340a82583566975377d65e724895b3fad101a3fb729f68\n",
            "Successfully built seqeval\n",
            "Installing collected packages: seqeval\n",
            "Successfully installed seqeval-0.0.12\n",
            "F1-score: 85.4%\n",
            "precision-score: 85.5%\n",
            "recall-score: 85.3%\n"
          ],
          "name": "stdout"
        }
      ]
    },
    {
      "cell_type": "markdown",
      "metadata": {
        "colab_type": "text",
        "id": "0Tk4J4MW7MR8"
      },
      "source": [
        "# Parte 4 - Testing "
      ]
    },
    {
      "cell_type": "markdown",
      "metadata": {
        "colab_type": "text",
        "id": "1BrFLFi274FG"
      },
      "source": [
        "**Creamos un pequeño Ejemplo**"
      ]
    },
    {
      "cell_type": "code",
      "metadata": {
        "colab_type": "code",
        "id": "oLobDWIR8Wql",
        "colab": {
          "base_uri": "https://localhost:8080/",
          "height": 35
        },
        "outputId": "441551cd-e0d0-41a1-8f89-00a332710842"
      },
      "source": [
        "test_samples = [\n",
        "    \n",
        "    \"La visita al zoológico no se cobra y se puede observar la cobra recién adquirida\".split()\n",
        "]\n",
        "print(test_samples)"
      ],
      "execution_count": 44,
      "outputs": [
        {
          "output_type": "stream",
          "text": [
            "[['La', 'visita', 'al', 'zoológico', 'no', 'se', 'cobra', 'y', 'se', 'puede', 'observar', 'la', 'cobra', 'recién', 'adquirida']]\n"
          ],
          "name": "stdout"
        }
      ]
    },
    {
      "cell_type": "markdown",
      "metadata": {
        "colab_type": "text",
        "id": "_7Kjk1g08o_C"
      },
      "source": [
        "**Creamos la función que usa el modelo para el postagging**"
      ]
    },
    {
      "cell_type": "code",
      "metadata": {
        "colab_type": "code",
        "id": "ZHYkegkS8qbn",
        "colab": {}
      },
      "source": [
        "from tabulate import tabulate\n",
        "#!pip install tabulate\n",
        "from keras.preprocessing.sequence import pad_sequences\n",
        "def postagging(test_sample):\n",
        "  #Convertimos el texto en Una entrada para el Modelo\n",
        "    test_samples_X = []\n",
        "    for s in test_samples:\n",
        "        s_int = []\n",
        "        for w in s:\n",
        "           try:\n",
        "               s_int.append(word2index[w.lower()])\n",
        "           except KeyError:\n",
        "              s_int.append(word2index['-OOV-'])\n",
        "        test_samples_X.append(s_int)\n",
        "\n",
        "    test_samples_X = pad_sequences(test_samples_X, maxlen=MAX_LENGTH, padding='post')\n",
        "    #Se Ejecuta la predicion con la Entrada del modelo entrenado\n",
        "    predictions = model.predict(test_samples_X)\n",
        "    #Conversion de la Salida del Modelo a un lista de Indices de Tags\n",
        "    log_tokens = logits_to_tokens(predictions, {i: t for t, i in tag2index.items()})\n",
        "    #Presentación de los Resultados\n",
        "\n",
        "    salida = \"\"\n",
        "    for i in range(len(test_samples)):\n",
        "        head = test_samples[i]\n",
        "        body = [log_tokens[i][:len(test_samples[i])]]\n",
        "        salida += tabulate(body, headers=head)\n",
        "        salida += \"\\n\"\n",
        "        \n",
        "    return salida\n",
        "\n",
        "## postagging Freeling 4.1\n",
        "\n",
        "## El      hombre   bajo     corre    bajo  el      puente   con  bajo  índice   de  adrenalina  .\n",
        "## DA0MS0  NCMS000  AQ0MS00  VMIP3S0  SP    DA0MS0  NCMS000  SP   SP    NCMS000  SP  NCFS000     Fp\n",
        "\n",
        "\n",
        "## pos tagger Stanford NLP\n",
        "\n",
        "## El      hombre   bajo     corre    bajo  el      puente   con    bajo   índice  de    adrenalina  .\n",
        "## da0000  nc0s000  aq0000   vmip000  sp000 da0000  nc0s000  sp000  aq0000 nc0s000 sp000 nc0s000     fp\n"
      ],
      "execution_count": 45,
      "outputs": []
    },
    {
      "cell_type": "markdown",
      "metadata": {
        "colab_type": "text",
        "id": "ErkwqOIbILIN"
      },
      "source": [
        "**Probamos la función**"
      ]
    },
    {
      "cell_type": "code",
      "metadata": {
        "colab_type": "code",
        "id": "jvYki6s3IOSm",
        "colab": {
          "base_uri": "https://localhost:8080/",
          "height": 89
        },
        "outputId": "10476471-3108-4d34-dd7f-301a6c39878e"
      },
      "source": [
        "print(postagging(test_samples))"
      ],
      "execution_count": 46,
      "outputs": [
        {
          "output_type": "stream",
          "text": [
            "La      visita    al     zoológico    no    se        cobra    y    se        puede    observar    la      cobra    recién    adquirida\n",
            "------  --------  -----  -----------  ----  --------  -------  ---  --------  -------  ----------  ------  -------  --------  -----------\n",
            "da0fs0  ncfs000   spcms  ao0ms0       rn    p0300000  vmis3p0  cc   p0000000  vmip3s0  vmn0000     da0fs0  np0000a  rg        W\n",
            "\n"
          ],
          "name": "stdout"
        }
      ]
    },
    {
      "cell_type": "markdown",
      "metadata": {
        "colab_type": "text",
        "id": "nzO17HDOzeW2"
      },
      "source": [
        "### **Cargamos el modelo**"
      ]
    },
    {
      "cell_type": "code",
      "metadata": {
        "colab_type": "code",
        "id": "1XlytdlHzhp_",
        "colab": {
          "base_uri": "https://localhost:8080/",
          "height": 35
        },
        "outputId": "3d7bf470-b3e4-47d5-e8e8-dc27ba37f55b"
      },
      "source": [
        "# load weights into new model\n",
        "model.load_weights(\"drive/My Drive/Colab Notebooks/mb.h5\")\n",
        "print(\"Loaded model from disk\")\n"
      ],
      "execution_count": 43,
      "outputs": [
        {
          "output_type": "stream",
          "text": [
            "Loaded model from disk\n"
          ],
          "name": "stdout"
        }
      ]
    },
    {
      "cell_type": "markdown",
      "metadata": {
        "colab_type": "text",
        "id": "XOIZa916LmgA"
      },
      "source": [
        "# **Interfaz**"
      ]
    },
    {
      "cell_type": "code",
      "metadata": {
        "colab_type": "code",
        "id": "EiLMCy2vZzsG",
        "colab": {}
      },
      "source": [
        "from tkinter import *\n",
        "import tkinter as tk\n",
        "from tkinter.ttk import *\n",
        "import sentencepiece as spm\n",
        "\n",
        "raiz = Tk()\n",
        "\n",
        "raiz.configure(background='white')\n",
        "\n",
        "raiz.title(\"Proyecto PLN\")\n",
        "\n",
        "raiz.geometry('1000x700')\n",
        "raiz.resizable(0,0)\n",
        "\n",
        "label= Label( text = 'Tokenizer & Postagging',  background = \"white\",\n",
        "            font = \"Helvetica 30 bold italic\")\n",
        "label.pack(pady=20)\n",
        "\n",
        "def tokenize():\n",
        "        sp_word = spm.SentencePieceProcessor()\n",
        "        sp_word.load('Models/m_word.model')\n",
        "        test_sample = entrada.get(\"1.0\",END)\n",
        "        token= str(sp_word.encode_as_pieces(test_sample))\n",
        "        salida.configure(state='normal')\n",
        "        salida.delete(1.0,END)\n",
        "        salida.insert(INSERT,token)\n",
        "\n",
        "def postag():\n",
        "  \n",
        "    sp_word = spm.SentencePieceProcessor()\n",
        "    sp_word.load('Models/m_word.model')\n",
        "    test_sample = entrada.get(\"1.0\",END)\n",
        "    \n",
        "    token= sp_word.encode_as_pieces(test_sample)\n",
        "    listToken=[]\n",
        "    for i in token:\n",
        "        listToken.append(i.replace('▁', '', 1))\n",
        "   \n",
        "    salidapos = postagging([listToken])\n",
        "    print(salidapos)\n",
        "    salida.configure(state='normal')\n",
        "    salida.delete('1.0', END)\n",
        "    salida.insert(\"insert\", salidapos)\n",
        "\n",
        "entrada = Text(raiz,height=14, width=700)\n",
        "entrada.pack(pady=15)\n",
        "btn = Button(raiz, text=\"Tokenizer\",command=tokenize)\n",
        "btn.place(x=440, y=320)\n",
        "btn1 = Button(raiz, text=\"Postagging\",command=postag)\n",
        "btn1.place(x=525, y=320)\n",
        "salida = Text(raiz,height=14, width=700, state='disabled')\n",
        "salida.pack(pady=25)\n",
        "\n",
        "raiz.mainloop()"
      ],
      "execution_count": null,
      "outputs": []
    }
  ]
}