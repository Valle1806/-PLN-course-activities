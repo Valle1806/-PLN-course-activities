{
 "cells": [
  {
   "cell_type": "markdown",
   "metadata": {
    "colab_type": "text",
    "id": "rZtvRCyqosEu"
   },
   "source": [
    "### Parte 1 - Pre-procesamiento"
   ]
  },
  {
   "cell_type": "code",
   "execution_count": 1,
   "metadata": {
    "colab": {},
    "colab_type": "code",
    "id": "JjfnWo7Vogi7"
   },
   "outputs": [],
   "source": [
    "# Asegurar reproducibilidad\n",
    "\n",
    "import numpy as np\n",
    "\n",
    "CUSTOM_SEED = 42\n",
    "np.random.seed(CUSTOM_SEED)"
   ]
  },
  {
   "cell_type": "markdown",
   "metadata": {
    "colab_type": "text",
    "id": "AW7AQZhnpPdt"
   },
   "source": [
    "### Descargamos Corpus Ancora (Cess_esp) del nltk*"
   ]
  },
  {
   "cell_type": "code",
   "execution_count": 2,
   "metadata": {
    "colab": {
     "base_uri": "https://localhost:8080/",
     "height": 71
    },
    "colab_type": "code",
    "id": "zcwzPSeQpdm0",
    "outputId": "f5d09680-e358-4246-be0b-f9fe8d0980c0"
   },
   "outputs": [
    {
     "name": "stderr",
     "output_type": "stream",
     "text": [
      "[nltk_data] Downloading package cess_esp to\n",
      "[nltk_data]     /home/cristianv/nltk_data...\n",
      "[nltk_data]   Package cess_esp is already up-to-date!\n"
     ]
    },
    {
     "data": {
      "text/plain": [
       "True"
      ]
     },
     "execution_count": 2,
     "metadata": {},
     "output_type": "execute_result"
    }
   ],
   "source": [
    "import nltk\n",
    "nltk.download('cess_esp')"
   ]
  },
  {
   "cell_type": "markdown",
   "metadata": {
    "colab_type": "text",
    "id": "yrpSI1s8qYz1"
   },
   "source": [
    "### Extraemos las oraciones taggeadas del corpus"
   ]
  },
  {
   "cell_type": "code",
   "execution_count": 3,
   "metadata": {
    "colab": {},
    "colab_type": "code",
    "id": "OBgfbd4Bp-2Q"
   },
   "outputs": [],
   "source": [
    "from nltk.corpus import cess_esp\n",
    "\n",
    "tagged_sentences = cess_esp.tagged_sents()"
   ]
  },
  {
   "cell_type": "markdown",
   "metadata": {
    "colab_type": "text",
    "id": "aZBLoa5_rCxi"
   },
   "source": [
    "### Extraemos los datos de la cantidad de oraciones a ser usadas y un ejemplo de una oracion presente en el corpus"
   ]
  },
  {
   "cell_type": "code",
   "execution_count": 4,
   "metadata": {
    "colab": {
     "base_uri": "https://localhost:8080/",
     "height": 91
    },
    "colab_type": "code",
    "id": "ZAUzsB06rEyo",
    "outputId": "02afbee3-eb42-4105-8f5c-721b0b53c45a"
   },
   "outputs": [
    {
     "name": "stdout",
     "output_type": "stream",
     "text": [
      "[('El', 'da0ms0'), ('grupo', 'ncms000'), ('estatal', 'aq0cs0'), ('Electricité_de_France', 'np00000'), ('-Fpa-', 'Fpa'), ('EDF', 'np00000'), ('-Fpt-', 'Fpt'), ('anunció', 'vmis3s0'), ('hoy', 'rg'), (',', 'Fc'), ('jueves', 'W'), (',', 'Fc'), ('la', 'da0fs0'), ('compra', 'ncfs000'), ('del', 'spcms'), ('51_por_ciento', 'Zp'), ('de', 'sps00'), ('la', 'da0fs0'), ('empresa', 'ncfs000'), ('mexicana', 'aq0fs0'), ('Electricidad_Águila_de_Altamira', 'np00000'), ('-Fpa-', 'Fpa'), ('EAA', 'np00000'), ('-Fpt-', 'Fpt'), (',', 'Fc'), ('creada', 'aq0fsp'), ('por', 'sps00'), ('el', 'da0ms0'), ('japonés', 'aq0ms0'), ('Mitsubishi_Corporation', 'np00000'), ('para', 'sps00'), ('poner_en_marcha', 'vmn0000'), ('una', 'di0fs0'), ('central', 'ncfs000'), ('de', 'sps00'), ('gas', 'ncms000'), ('de', 'sps00'), ('495', 'Z'), ('megavatios', 'ncmp000'), ('.', 'Fp')]\n",
      "Tagged sentences:  6030\n",
      "Tagged words: 192685\n"
     ]
    }
   ],
   "source": [
    "print(tagged_sentences[0])\n",
    "print(\"Tagged sentences: \", len(tagged_sentences))\n",
    "print(\"Tagged words:\", len(cess_esp.tagged_words()))"
   ]
  },
  {
   "cell_type": "markdown",
   "metadata": {
    "colab_type": "text",
    "id": "tAjjznZrr3uD"
   },
   "source": [
    "### Dividimos en una lista de Oraciones dividida en lista de palabras y cada palabra con un correspondiente tag en una alista diferente"
   ]
  },
  {
   "cell_type": "code",
   "execution_count": 6,
   "metadata": {
    "colab": {},
    "colab_type": "code",
    "id": "R62O6MUyydm-"
   },
   "outputs": [],
   "source": [
    "import numpy as np\n",
    "import pickle\n",
    "\n",
    "sentences, tagss = [], []\n",
    "for tagged_sentence in tagged_sentences:\n",
    "    sentence, tags = zip(*tagged_sentence)\n",
    "    sentences.append(np.array(sentence))\n",
    "    tagss.append(np.array(tags))\n",
    "    \n",
    "#with open(\"vectors/sentences.txt\", \"wb\") as fp:\n",
    " #   pickle.dump(sentences, fp)\n",
    "\n",
    "#with open(\"vectors/tags.txt\", \"wb\") as fp:\n",
    " #   pickle.dump(tagss, fp)"
   ]
  },
  {
   "cell_type": "markdown",
   "metadata": {
    "colab_type": "text",
    "id": "a008hkHnysyl"
   },
   "source": [
    "### Imprimimos una posición de la lista como ejemplo ( Oración y respectivos tags)"
   ]
  },
  {
   "cell_type": "code",
   "execution_count": 7,
   "metadata": {
    "colab": {
     "base_uri": "https://localhost:8080/",
     "height": 161
    },
    "colab_type": "code",
    "id": "mx52xFaQ0FNa",
    "outputId": "b0422772-691a-42bc-cec4-ad8158f123e9"
   },
   "outputs": [
    {
     "name": "stdout",
     "output_type": "stream",
     "text": [
      "6030\n",
      "['La' 'alcaldesa' 'de' 'Málaga' 'y' 'cabeza' 'de' 'lista' 'del' 'PP' 'al'\n",
      " 'Congreso' 'por' 'esta' 'provincia' ',' 'Celia_Villalobos' ',' 'pidió'\n",
      " 'hoy' 'a' 'los' 'militantes' 'de' 'esta' 'formación' 'que' '*0*' 'sepan'\n",
      " '\"' 'administrar' 'la' 'victoria' '\"' ',' 'porque' '\"' 'no' 'vale' 'la'\n",
      " 'revancha' ',' 'el' 'insulto' 'o' 'el' 'ataque' ',' 'eso' 'es' 'para'\n",
      " 'ellos' '\"' '.']\n",
      "dp3cp0\n"
     ]
    }
   ],
   "source": [
    "print(len(sentences))\n",
    "print(sentences[6])\n",
    "print(tags[6])"
   ]
  },
  {
   "cell_type": "markdown",
   "metadata": {
    "colab_type": "text",
    "id": "SINmnxZl2H6R"
   },
   "source": [
    "Establecemos los porcentajes del corpus para entrenamiento y evaluación"
   ]
  },
  {
   "cell_type": "code",
   "execution_count": 8,
   "metadata": {
    "colab": {},
    "colab_type": "code",
    "id": "OTxWluh82M_w"
   },
   "outputs": [],
   "source": [
    "#!pip3 install --user sklearn\n",
    "from sklearn.model_selection import train_test_split\n",
    " \n",
    "(training_sentences, \n",
    " test_sentences, \n",
    " training_tags, \n",
    " test_tags) = train_test_split(sentences, tagss, test_size=0.2)\n",
    "\n",
    "(train_sentences, \n",
    " eval_sentences, \n",
    " train_tags, \n",
    " eval_tags) = train_test_split(training_sentences, training_tags, test_size=0.25)\n",
    "\n",
    "#with open(\"vectors/train_sentences.txt\", \"wb\") as fp:\n",
    " #   pickle.dump(train_sentences, fp)\n",
    "\n",
    "#with open(\"vectors/eval_sentences.txt\", \"wb\") as fp:\n",
    " ##   pickle.dump(tagss, fp)\n",
    "\n",
    "#with open(\"vectors/test_sentences.txt\", \"wb\") as fp:\n",
    " #   pickle.dump(eval_sentences, fp)\n",
    "\n",
    "#with open(\"vectors/train_tags.txt\", \"wb\") as fp:\n",
    " #   pickle.dump(train_tags, fp)\n",
    "\n",
    "#with open(\"vectors/eval_tags.txt\", \"wb\") as fp:\n",
    " #   pickle.dump(eval_tags, fp)\n",
    "\n",
    "#with open(\"vectors/test_tags.txt\", \"wb\") as fp:\n",
    " #   pickle.dump(test_tags, fp)"
   ]
  },
  {
   "cell_type": "markdown",
   "metadata": {
    "colab_type": "text",
    "id": "ev0o2zlL56W6"
   },
   "source": [
    "Imprimimos los tamaños de las listas que nos indicaran el tamaño de filas de las matrices con las que estaremos trabajando"
   ]
  },
  {
   "cell_type": "code",
   "execution_count": 9,
   "metadata": {
    "colab": {
     "base_uri": "https://localhost:8080/",
     "height": 737
    },
    "colab_type": "code",
    "id": "r49HrSjV5-V8",
    "outputId": "0641f30f-87c1-466f-9cb6-0622e94a4609"
   },
   "outputs": [
    {
     "name": "stdout",
     "output_type": "stream",
     "text": [
      "training_sentences:4824\n",
      "train_sentences: 3618\n",
      "test_sentences: 1206\n",
      "eval_sentences: 1206\n",
      "\n",
      "['*' 'El' 'Madrid' 'precisa' 'que' 'el' 'Deportivo' 'gane' 'la' 'Liga' ','\n",
      " 'porque' 'los' 'gallegos' 'no' 'son' 'considerados' 'unos' 'herederos'\n",
      " ',' 'sino' 'unos' 'entrometidos' 'que' 'se' 'supone' 'temporales' ','\n",
      " 'que' 'pertenecen' 'a' 'la' 'actualidad' 'más' 'rabiosa' 'y' 'no' 'a'\n",
      " 'la' 'historia' 'más' 'enrabietada' '.']\n",
      "['El' 'técnico' 'barcelonista' 'ha' 'asegurado' 'que' 'la' 'visita' 'de'\n",
      " 'Gaspart' 'ha' 'contribuido' 'a' '\"' 'sumar' '\"' ',' 'y' '*0*' 'ha'\n",
      " 'argumentado' 'que' 'el' 'encuentro' 'con' 'el' 'presidente' 'significa'\n",
      " 'que' 'en' 'el' 'Barcelona' '\"' 'todos' 'van' 'en' 'la' 'misma'\n",
      " 'dirección' '\"' '.']\n",
      "['Lo_suyo' ',' 'lo' 'de' 'las' 'ratas' ',' 'no' 'es' 'la' 'carroña' 'pura'\n",
      " 'y' 'dura' 'sino' 'la' 'vida' 'regalada' ',' 'el' 'eterno' 'banquete'\n",
      " 'de' 'sobras' 'y' 'residuos' ',' 'el' 'festín' 'organizado' 'a' 'la'\n",
      " 'sobra' 'de' 'la' 'abundancia' 'y' 'el' 'hartazgo' '.']\n",
      "\n",
      "training_tags:4824\n",
      "train_tags: 3618\n",
      "test_tags: 1206\n",
      "eval_tags: 1206\n",
      "\n",
      "['Fz' 'da0ms0' 'np0000l' 'vmip3s0' 'cs' 'da0ms0' 'np0000o' 'vmsp3s0'\n",
      " 'da0fs0' 'np0000a' 'Fc' 'cs' 'da0mp0' 'ncmp000' 'rn' 'vsip3p0' 'vmp00pm'\n",
      " 'di0mp0' 'ncmp000' 'Fc' 'cc' 'di0mp0' 'ncmp000' 'pr0cn000' 'p0000000'\n",
      " 'vmip3s0' 'aq0cp0' 'Fc' 'pr0cn000' 'vmip3p0' 'sps00' 'da0fs0' 'ncfs000'\n",
      " 'rg' 'aq0fs0' 'cc' 'rn' 'sps00' 'da0fs0' 'ncfs000' 'rg' 'aq0fsp' 'Fp']\n",
      "['da0ms0' 'ncms000' 'aq0cs0' 'vaip3s0' 'vmp00sm' 'cs' 'da0fs0' 'ncfs000'\n",
      " 'sps00' 'np00000' 'vaip3s0' 'vmp00sm' 'sps00' 'Fe' 'vmn0000' 'Fe' 'Fc'\n",
      " 'cc' 'sn.e-SUJ' 'vaip3s0' 'vmp00sm' 'cs' 'da0ms0' 'ncms000' 'sps00'\n",
      " 'da0ms0' 'ncms000' 'vmip3s0' 'cs' 'sps00' 'da0ms0' 'np00000' 'Fe'\n",
      " 'pi0mp000' 'vmip3p0' 'sps00' 'da0fs0' 'di0fs0' 'ncfs000' 'Fe' 'Fp']\n",
      "['px3ns000' 'Fc' 'da0ns0' 'sps00' 'da0fp0' 'ncfp000' 'Fc' 'rn' 'vsip3s0'\n",
      " 'da0fs0' 'ncfs000' 'aq0fs0' 'cc' 'aq0fs0' 'cc' 'da0fs0' 'ncfs000'\n",
      " 'aq0fsp' 'Fc' 'da0ms0' 'aq0ms0' 'ncms000' 'sps00' 'ncfp000' 'cc'\n",
      " 'ncmp000' 'Fc' 'da0ms0' 'ncms000' 'aq0msp' 'sps00' 'da0fs0' 'ncfs000'\n",
      " 'sps00' 'da0fs0' 'ncfs000' 'cc' 'da0ms0' 'ncms000' 'Fp']\n"
     ]
    }
   ],
   "source": [
    "print(\"training_sentences:\" + str(len(training_sentences)))\n",
    "print(\"train_sentences: \" + str(len(train_sentences)))\n",
    "print(\"test_sentences: \" + str(len(test_sentences)))\n",
    "print(\"eval_sentences: \" + str(len(eval_sentences)) + \"\\n\")\n",
    "\n",
    "print(train_sentences[0])\n",
    "print(test_sentences[0])\n",
    "print(eval_sentences[0])\n",
    "\n",
    "print(\"\\ntraining_tags:\" + str(len(training_sentences)))\n",
    "print(\"train_tags: \" + str(len(train_tags)))\n",
    "print(\"test_tags: \" + str(len(test_tags)))\n",
    "print(\"eval_tags: \" + str(len(eval_tags)) + \"\\n\")\n",
    "\n",
    "print(train_tags[0])\n",
    "print(test_tags[0])\n",
    "print(eval_tags[0])"
   ]
  },
  {
   "cell_type": "markdown",
   "metadata": {
    "colab_type": "text",
    "id": "--rDwhwQ6Xwy"
   },
   "source": [
    "Creamos el diccionario sin palabras ni tags repetidos"
   ]
  },
  {
   "cell_type": "code",
   "execution_count": 10,
   "metadata": {
    "colab": {
     "base_uri": "https://localhost:8080/",
     "height": 53
    },
    "colab_type": "code",
    "id": "BPnhTEfk6ihm",
    "outputId": "9367af28-aeaf-4a9d-81f6-dd623b848ba7"
   },
   "outputs": [
    {
     "name": "stdout",
     "output_type": "stream",
     "text": [
      "24499\n",
      "291\n"
     ]
    }
   ],
   "source": [
    "words, tagsss = set([]), set([])\n",
    " \n",
    "for s in (train_sentences + eval_sentences + test_sentences):\n",
    "    for w in s:\n",
    "        words.add(w.lower())\n",
    "\n",
    "for ts in (train_tags + eval_tags + test_tags):\n",
    "    for t in ts:\n",
    "        tagsss.add(t)\n",
    "\n",
    "word2index = {w: i + 2 for i, w in enumerate(list(words))}\n",
    "word2index['-PAD-'] = 0  # The special value used for padding\n",
    "word2index['-OOV-'] = 1  # The special value used for OOVs\n",
    " \n",
    "tag2index = {t: i + 2 for i, t in enumerate(list(tagsss))}\n",
    "tag2index['-PAD-'] = 0  # The special value used to padding\n",
    "tag2index['-OOV-'] = 1  # The special value used to padding\n",
    "\n",
    "print (len(word2index))\n",
    "print (len(tag2index))\n",
    "\n",
    "np.save('word2index.npy', word2index)\n",
    "np.save('tag2index.npy', tag2index)"
   ]
  },
  {
   "cell_type": "markdown",
   "metadata": {
    "colab_type": "text",
    "id": "BgGoAdre7DRz"
   },
   "source": [
    "Transformamos cada uno de los conjuntos de oraciones y tags en vectores numericos, modificando la palabra o tag en un Valor numerico que corresponde a una llave en el diccionario de palabras o tags"
   ]
  },
  {
   "cell_type": "code",
   "execution_count": 11,
   "metadata": {
    "colab": {},
    "colab_type": "code",
    "id": "pBMjHTTV7jHK"
   },
   "outputs": [],
   "source": [
    "train_sentences_X, eval_sentences_X, test_sentences_X, train_tags_y, eval_tags_y, test_tags_y = [], [], [], [], [], []\n",
    "\n",
    "for s in train_sentences:\n",
    "    s_int = []\n",
    "    for w in s:\n",
    "        try:\n",
    "            s_int.append(word2index[w.lower()])\n",
    "        except KeyError:\n",
    "            s_int.append(word2index['-OOV-'])\n",
    " \n",
    "    train_sentences_X.append(s_int)\n",
    "\n",
    "for s in eval_sentences:\n",
    "    s_int = []\n",
    "    for w in s:\n",
    "        try:\n",
    "            s_int.append(word2index[w.lower()])\n",
    "        except KeyError:\n",
    "            s_int.append(word2index['-OOV-'])\n",
    " \n",
    "    eval_sentences_X.append(s_int)\n",
    "\n",
    "for s in test_sentences:\n",
    "    s_int = []\n",
    "    for w in s:\n",
    "        try:\n",
    "            s_int.append(word2index[w.lower()])\n",
    "        except KeyError:\n",
    "            s_int.append(word2index['-OOV-'])\n",
    " \n",
    "    test_sentences_X.append(s_int)\n",
    "\n",
    "for s in train_tags:\n",
    "    s_int = []\n",
    "    for w in s:\n",
    "        try:\n",
    "            s_int.append(tag2index[w])\n",
    "        except KeyError:\n",
    "            s_int.append(tag2index['-OOV-'])\n",
    "            \n",
    "    train_tags_y.append(s_int)\n",
    "\n",
    "for s in eval_tags:\n",
    "    s_int = []\n",
    "    for w in s:\n",
    "        try:\n",
    "            s_int.append(tag2index[w])\n",
    "        except KeyError:\n",
    "            s_int.append(tag2index['-OOV-'])\n",
    "            \n",
    "    eval_tags_y.append(s_int)\n",
    "\n",
    "for s in test_tags:\n",
    "    s_int = []\n",
    "    for w in s:\n",
    "        try:\n",
    "            s_int.append(tag2index[w])\n",
    "        except KeyError:\n",
    "            s_int.append(tag2index['-OOV-'])\n",
    "            \n",
    "    test_tags_y.append(s_int)"
   ]
  },
  {
   "cell_type": "markdown",
   "metadata": {
    "colab_type": "text",
    "id": "nJC-PAEC7q_n"
   },
   "source": [
    "Imprimimos longitud de las matrices"
   ]
  },
  {
   "cell_type": "code",
   "execution_count": 12,
   "metadata": {
    "colab": {
     "base_uri": "https://localhost:8080/",
     "height": 325
    },
    "colab_type": "code",
    "id": "61xhK0a07w79",
    "outputId": "a9da2b52-5877-4161-b105-a7ae9acacd21"
   },
   "outputs": [
    {
     "name": "stdout",
     "output_type": "stream",
     "text": [
      "Longitudes de las Matrices:\n",
      "3618\n",
      "1206\n",
      "1206\n",
      "3618\n",
      "1206\n",
      "1206\n",
      "\n",
      "Muestra de Datos presentes en las Matrices con las transformaciones:\n",
      "\n",
      "[5595, 19353, 22435, 776, 8484, 19353, 14279, 2150, 18211, 7259, 10466, 5105, 1748, 23474, 7381, 22090, 4776, 9475, 7906, 10466, 24307, 9475, 19633, 8484, 8444, 20175, 9378, 10466, 8484, 2733, 22029, 18211, 18274, 2639, 9415, 21046, 7381, 22029, 18211, 968, 2639, 22163, 15520]\n",
      "[13976, 10466, 6171, 17297, 14176, 5633, 10466, 7381, 17953, 18211, 5920, 11613, 21046, 18012, 24307, 18211, 9458, 10533, 10466, 19353, 7443, 14648, 17297, 16720, 21046, 19273, 10466, 19353, 22559, 22242, 22029, 18211, 21548, 17297, 18211, 3857, 21046, 19353, 6893, 15520]\n",
      "[19353, 9754, 9913, 21043, 17749, 8484, 18211, 22825, 17297, 7141, 21043, 8845, 22029, 3914, 23404, 3914, 10466, 21046, 22144, 21043, 16606, 8484, 19353, 18146, 2925, 19353, 11775, 7974, 8484, 24258, 19353, 8518, 3914, 22282, 17356, 24258, 18211, 21679, 19660, 3914, 15520]\n",
      "[128, 78, 103, 273, 150, 78, 70, 266, 67, 113, 72, 150, 182, 177, 280, 55, 75, 94, 177, 72, 229, 94, 177, 281, 245, 273, 28, 72, 281, 5, 264, 67, 90, 44, 76, 229, 280, 264, 67, 90, 44, 161, 107]\n",
      "[50, 72, 95, 264, 124, 89, 72, 280, 238, 67, 90, 76, 229, 76, 229, 67, 90, 161, 72, 78, 20, 13, 264, 89, 229, 177, 72, 78, 13, 270, 264, 67, 90, 264, 67, 90, 229, 78, 13, 107]\n",
      "[78, 13, 83, 233, 59, 150, 67, 90, 264, 195, 233, 59, 264, 123, 218, 123, 72, 229, 189, 233, 59, 150, 78, 13, 264, 78, 13, 273, 150, 264, 78, 195, 123, 163, 5, 264, 67, 135, 90, 123, 107]\n"
     ]
    }
   ],
   "source": [
    "print(\"Longitudes de las Matrices:\")\n",
    "print(len(train_sentences_X))\n",
    "print(len(eval_sentences_X))\n",
    "print(len(test_sentences_X))\n",
    "print(len(train_tags_y))\n",
    "print(len(eval_tags_y))\n",
    "print(len(test_tags_y))\n",
    "\n",
    "print(\"\\nMuestra de Datos presentes en las Matrices con las transformaciones:\\n\")\n",
    "\n",
    "print(train_sentences_X[0])\n",
    "print(eval_sentences_X[0])\n",
    "print(test_sentences_X[0])\n",
    "print(train_tags_y[0])\n",
    "print(eval_tags_y[0])\n",
    "print(test_tags_y[0])"
   ]
  },
  {
   "cell_type": "markdown",
   "metadata": {
    "colab_type": "text",
    "id": "hsltD7Zp8DgV"
   },
   "source": [
    "**Calculamos cual es la oración que contiene mas palabras**"
   ]
  },
  {
   "cell_type": "code",
   "execution_count": 13,
   "metadata": {
    "colab": {
     "base_uri": "https://localhost:8080/",
     "height": 35
    },
    "colab_type": "code",
    "id": "5BCrCSz08K94",
    "outputId": "d41ef43f-2a96-4202-abea-b14621459570"
   },
   "outputs": [
    {
     "name": "stdout",
     "output_type": "stream",
     "text": [
      "149\n"
     ]
    }
   ],
   "source": [
    "MAX_LENGTH1 = len(max(train_sentences_X, key=len))\n",
    "MAX_LENGTH2 = len(max(eval_sentences_X, key=len))\n",
    "MAX_LENGTH3 = len(max(test_sentences_X, key=len))\n",
    "\n",
    "l = [MAX_LENGTH1, MAX_LENGTH2, MAX_LENGTH3]\n",
    "MAX_LENGTH = max(l)\n",
    "\n",
    "print(MAX_LENGTH)"
   ]
  },
  {
   "cell_type": "markdown",
   "metadata": {
    "colab_type": "text",
    "id": "WPcc6zpi8Z81"
   },
   "source": [
    "**Normalizamos las matrices para que todas contengan el mismo numero de columans, con la longitud maxima de palabras encontradas anteriormente, esto se logra agregando ceros a la derecha en las posiciones que hacen falta en el vector**"
   ]
  },
  {
   "cell_type": "code",
   "execution_count": 1,
   "metadata": {},
   "outputs": [],
   "source": [
    "#!pip install --user tensorflow"
   ]
  },
  {
   "cell_type": "code",
   "execution_count": null,
   "metadata": {
    "colab": {
     "base_uri": "https://localhost:8080/",
     "height": 1000
    },
    "colab_type": "code",
    "id": "59n2NKNh8jio",
    "outputId": "f916c349-7d8c-4fb8-e6d7-de75009648ca"
   },
   "outputs": [],
   "source": [
    "#!pip3 install --user keras\n",
    "\n",
    "from keras.preprocessing.sequence import pad_sequences\n",
    " \n",
    "train_sentences_X = pad_sequences(train_sentences_X, maxlen=MAX_LENGTH, padding='post')\n",
    "eval_sentences_X = pad_sequences(eval_sentences_X, maxlen=MAX_LENGTH, padding='post')\n",
    "test_sentences_X = pad_sequences(test_sentences_X, maxlen=MAX_LENGTH, padding='post')\n",
    "train_tags_y = pad_sequences(train_tags_y, maxlen=MAX_LENGTH, padding='post')\n",
    "eval_tags_y = pad_sequences(eval_tags_y, maxlen=MAX_LENGTH, padding='post')\n",
    "test_tags_y = pad_sequences(test_tags_y, maxlen=MAX_LENGTH, padding='post')\n",
    " \n",
    "print(train_sentences_X[0])\n",
    "print(eval_sentences_X[0])\n",
    "print(test_sentences_X[0])\n",
    "print(train_tags_y[0])\n",
    "print(eval_tags_y[0])\n",
    "print(test_tags_y[0])\n",
    "\n",
    "#np.save('vectors/train_sentences_X.npy', train_sentences_X)\n",
    "#np.save('vectors/eval_sentences_X.npy', eval_sentences_X)\n",
    "#np.save('vectors/test_sentences_X.npy', test_sentences_X)\n",
    "#np.save('vectors/train_tags_y.npy', train_tags_y)\n",
    "#np.save('vectors/eval_tags_y.npy', eval_tags_y)\n",
    "#np.save('vectors/test_tags_y.npy', test_tags_y)"
   ]
  },
  {
   "cell_type": "markdown",
   "metadata": {
    "colab_type": "text",
    "id": "o-E6ed_f89OF"
   },
   "source": [
    "**Definimos la funcion con la cual categorizaremos los tags y los covertiremos un vector One-hot**"
   ]
  },
  {
   "cell_type": "code",
   "execution_count": 45,
   "metadata": {
    "colab": {},
    "colab_type": "code",
    "id": "nkfN8Hba9Gv2"
   },
   "outputs": [],
   "source": [
    "def to_categoricals(sequences, categories):\n",
    "    cat_sequences = []\n",
    "    for s in sequences:\n",
    "        cats = []\n",
    "        for item in s:\n",
    "            cats.append(np.zeros(categories))\n",
    "            cats[-1][item] = 1.0\n",
    "        cat_sequences.append(cats)\n",
    "    return np.array(cat_sequences)"
   ]
  },
  {
   "cell_type": "code",
   "execution_count": 46,
   "metadata": {
    "colab": {},
    "colab_type": "code",
    "id": "s_Q82mrS9U6z"
   },
   "outputs": [],
   "source": [
    "from keras.utils import to_categorical\n",
    "\n",
    "def encode(data):\n",
    "    print('Shape of data (BEFORE encode): %s' % str(data.shape))\n",
    "    encoded = to_categorical(data)\n",
    "    print('Shape of data (AFTER  encode): %s\\n' % str(encoded.shape))\n",
    "    return encoded"
   ]
  },
  {
   "cell_type": "markdown",
   "metadata": {
    "colab_type": "text",
    "id": "IH0YcgZw9a1q"
   },
   "source": [
    "###**Desarrollamos una prueba de la categorización de los tags**"
   ]
  },
  {
   "cell_type": "code",
   "execution_count": 47,
   "metadata": {
    "colab": {
     "base_uri": "https://localhost:8080/",
     "height": 179
    },
    "colab_type": "code",
    "id": "zcJIEhaI9hBP",
    "outputId": "13a695fa-0891-4aaf-b083-c4169049ae21"
   },
   "outputs": [
    {
     "name": "stdout",
     "output_type": "stream",
     "text": [
      "[[0. 0. 0. ... 0. 0. 0.]\n",
      " [0. 0. 0. ... 0. 0. 0.]\n",
      " [0. 0. 0. ... 0. 0. 0.]\n",
      " ...\n",
      " [1. 0. 0. ... 0. 0. 0.]\n",
      " [1. 0. 0. ... 0. 0. 0.]\n",
      " [1. 0. 0. ... 0. 0. 0.]]\n",
      "3618\n",
      "1206\n"
     ]
    }
   ],
   "source": [
    "cat_train_tags_y = to_categoricals(train_tags_y, len(tag2index))\n",
    "cat_eval_tags_y  = to_categoricals(eval_tags_y, len(tag2index))\n",
    "cat_test_tags_y  = to_categoricals(test_tags_y, len(tag2index))\n",
    "\n",
    "print(cat_train_tags_y[0])\n",
    "print(len(cat_train_tags_y))\n",
    "print(len(cat_test_tags_y))"
   ]
  },
  {
   "cell_type": "markdown",
   "metadata": {
    "colab_type": "text",
    "id": "mi9S290sFqQt"
   },
   "source": [
    "### **Indexamos los vectores de SBWE**"
   ]
  },
  {
   "cell_type": "code",
   "execution_count": 48,
   "metadata": {
    "colab": {
     "base_uri": "https://localhost:8080/",
     "height": 35
    },
    "colab_type": "code",
    "id": "Eo07fV1eFtPm",
    "outputId": "06c5f18a-3385-4a40-f01d-d24944ef458c"
   },
   "outputs": [
    {
     "name": "stdout",
     "output_type": "stream",
     "text": [
      "mb-09.h5  SBW-vectors-300-min5.txt  Untitled\n"
     ]
    }
   ],
   "source": [
    "!ls drive/My\\ Drive/Colab\\ Notebooks"
   ]
  },
  {
   "cell_type": "code",
   "execution_count": 49,
   "metadata": {
    "colab": {
     "base_uri": "https://localhost:8080/",
     "height": 71
    },
    "colab_type": "code",
    "id": "ArUfLRT7Rqkc",
    "outputId": "0a45463f-32ad-4f61-d2e6-fb2d0f1536fc"
   },
   "outputs": [
    {
     "name": "stdout",
     "output_type": "stream",
     "text": [
      "Found 1000653 word vectors.\n",
      "<class 'dict'>\n",
      "24499\n"
     ]
    }
   ],
   "source": [
    "embeddings_index = {}\n",
    "f = open('drive/My Drive/Colab Notebooks/SBW-vectors-300-min5.txt')\n",
    "for a, line in enumerate(f):\n",
    "    if a > 0:\n",
    "        values = line.split()\n",
    "        word = values[0]\n",
    "        coefs = np.asarray(values[1:], dtype='float32')\n",
    "        embeddings_index[word] = coefs\n",
    "f.close()\n",
    "\n",
    "print('Found %s word vectors.' % len(embeddings_index))\n",
    "print(type(embeddings_index))\n",
    "print(len(word2index))"
   ]
  },
  {
   "cell_type": "markdown",
   "metadata": {
    "colab_type": "text",
    "id": "FgtxlDn0Tuqp"
   },
   "source": [
    "####**Emparejamos las 24500 palabras únicas de ancora con las 1000653 de palabras vectorizadas de SBWE para generar la matriz de embedding con las 24500 palabras de dimensión 300 como fue preentrenado el SBWE con word2vec.**"
   ]
  },
  {
   "cell_type": "code",
   "execution_count": 50,
   "metadata": {
    "colab": {
     "base_uri": "https://localhost:8080/",
     "height": 35
    },
    "colab_type": "code",
    "id": "Oqe4BVECUgeM",
    "outputId": "87f00c04-d4c3-4422-b027-a37f760d82fb"
   },
   "outputs": [
    {
     "data": {
      "text/plain": [
       "(24500, 300)"
      ]
     },
     "execution_count": 50,
     "metadata": {
      "tags": []
     },
     "output_type": "execute_result"
    }
   ],
   "source": [
    "embedding_matrix = np.zeros((len(word2index) + 1, 300))\n",
    "for t, (word, i) in enumerate(word2index.items()):\n",
    "    embedding_vector = embeddings_index.get(word)\n",
    "    if embedding_vector is not None:\n",
    "        # las palabras que no se encuentren en el índice de inserción serán todos ceros.\n",
    "        embedding_matrix[t] = embedding_vector\n",
    "\n",
    "embedding_matrix.shape"
   ]
  },
  {
   "cell_type": "markdown",
   "metadata": {
    "colab_type": "text",
    "id": "r3ePXpGIUrvE"
   },
   "source": [
    "#Parte 2 - Entrenamiento"
   ]
  },
  {
   "cell_type": "code",
   "execution_count": 51,
   "metadata": {
    "colab": {
     "base_uri": "https://localhost:8080/",
     "height": 107
    },
    "colab_type": "code",
    "id": "E3enCP-VgcMc",
    "outputId": "fec0cda3-f9b1-4b8b-b9de-c3c86a0f60e2"
   },
   "outputs": [
    {
     "name": "stdout",
     "output_type": "stream",
     "text": [
      "Device mapping:\n",
      "/job:localhost/replica:0/task:0/device:XLA_CPU:0 -> device: XLA_CPU device\n",
      "/job:localhost/replica:0/task:0/device:XLA_GPU:0 -> device: XLA_GPU device\n",
      "/job:localhost/replica:0/task:0/device:GPU:0 -> device: 0, name: Tesla K80, pci bus id: 0000:00:04.0, compute capability: 3.7\n",
      "\n"
     ]
    }
   ],
   "source": [
    "## Funcion que permite forzar el uso de GPU cuando estan presentes\n",
    "\n",
    "import tensorflow as tf\n",
    "sess = tf.compat.v1.Session(config=tf.compat.v1.ConfigProto(log_device_placement=True))"
   ]
  },
  {
   "cell_type": "markdown",
   "metadata": {
    "colab_type": "text",
    "id": "baqMQ5IRgk0w"
   },
   "source": [
    "## Estos comandos sirven para activar el modelo distribuido para el uso de las GPUs"
   ]
  },
  {
   "cell_type": "code",
   "execution_count": 52,
   "metadata": {
    "colab": {
     "base_uri": "https://localhost:8080/",
     "height": 35
    },
    "colab_type": "code",
    "id": "2iy1wFIKbEuG",
    "outputId": "6392900e-7e44-41c4-b7c0-8c0025003a85"
   },
   "outputs": [
    {
     "name": "stdout",
     "output_type": "stream",
     "text": [
      "INFO:tensorflow:Using MirroredStrategy with devices ('/job:localhost/replica:0/task:0/device:GPU:0',)\n"
     ]
    }
   ],
   "source": [
    "import tensorflow as tf\n",
    "strategy = tf.distribute.MirroredStrategy()"
   ]
  },
  {
   "cell_type": "code",
   "execution_count": 53,
   "metadata": {
    "colab": {
     "base_uri": "https://localhost:8080/",
     "height": 343
    },
    "colab_type": "code",
    "id": "oddffNkmhfhD",
    "outputId": "8334b4f2-71b4-4469-8296-a6ddac9c47c3"
   },
   "outputs": [
    {
     "name": "stdout",
     "output_type": "stream",
     "text": [
      "Collecting git+https://www.github.com/keras-team/keras-contrib.git\n",
      "  Cloning https://www.github.com/keras-team/keras-contrib.git to /tmp/pip-req-build-6eke9npa\n",
      "  Running command git clone -q https://www.github.com/keras-team/keras-contrib.git /tmp/pip-req-build-6eke9npa\n",
      "Requirement already satisfied (use --upgrade to upgrade): keras-contrib==2.0.8 from git+https://www.github.com/keras-team/keras-contrib.git in /usr/local/lib/python3.6/dist-packages\n",
      "Requirement already satisfied: keras in /usr/local/lib/python3.6/dist-packages (from keras-contrib==2.0.8) (2.3.1)\n",
      "Requirement already satisfied: scipy>=0.14 in /usr/local/lib/python3.6/dist-packages (from keras->keras-contrib==2.0.8) (1.4.1)\n",
      "Requirement already satisfied: pyyaml in /usr/local/lib/python3.6/dist-packages (from keras->keras-contrib==2.0.8) (3.13)\n",
      "Requirement already satisfied: keras-preprocessing>=1.0.5 in /usr/local/lib/python3.6/dist-packages (from keras->keras-contrib==2.0.8) (1.1.2)\n",
      "Requirement already satisfied: keras-applications>=1.0.6 in /usr/local/lib/python3.6/dist-packages (from keras->keras-contrib==2.0.8) (1.0.8)\n",
      "Requirement already satisfied: six>=1.9.0 in /usr/local/lib/python3.6/dist-packages (from keras->keras-contrib==2.0.8) (1.12.0)\n",
      "Requirement already satisfied: h5py in /usr/local/lib/python3.6/dist-packages (from keras->keras-contrib==2.0.8) (2.10.0)\n",
      "Requirement already satisfied: numpy>=1.9.1 in /usr/local/lib/python3.6/dist-packages (from keras->keras-contrib==2.0.8) (1.18.5)\n",
      "Building wheels for collected packages: keras-contrib\n",
      "  Building wheel for keras-contrib (setup.py) ... \u001b[?25l\u001b[?25hdone\n",
      "  Created wheel for keras-contrib: filename=keras_contrib-2.0.8-cp36-none-any.whl size=101064 sha256=84830980592550ba0ccfad22a074496fc8ae981853561f50b9e01a8bbfc65e9b\n",
      "  Stored in directory: /tmp/pip-ephem-wheel-cache-rvdt525z/wheels/11/27/c8/4ed56de7b55f4f61244e2dc6ef3cdbaff2692527a2ce6502ba\n",
      "Successfully built keras-contrib\n"
     ]
    }
   ],
   "source": [
    "!pip3 install git+https://www.github.com/keras-team/keras-contrib.git\n"
   ]
  },
  {
   "cell_type": "code",
   "execution_count": 54,
   "metadata": {
    "colab": {
     "base_uri": "https://localhost:8080/",
     "height": 143
    },
    "colab_type": "code",
    "id": "5dady839yGIS",
    "outputId": "404dabc7-b585-4843-aa03-72a3b540a491"
   },
   "outputs": [
    {
     "data": {
      "application/vnd.google.colaboratory.intrinsic": {
       "type": "string"
      },
      "text/plain": [
       "\"from keras.models import Sequential\\nfrom keras.layers import Dense, InputLayer, Embedding, Activation, Bidirectional, LSTM, TimeDistributed, Dropout\\nfrom keras.layers.normalization import BatchNormalization\\nfrom keras.optimizers import RMSprop, Adam\\nfrom keras.utils import plot_model\\n\\nlr = 0.001\\nlr_decay = 1e-4\\n\\nembedding_layer = Embedding(len(word2index)+1, 300, weights=[embedding_matrix],  input_length=MAX_LENGTH, trainable=False)\\n#embedding_layer = Embedding(len(embeddings_index)+1, 300, weights=[embedding_matrix],  input_length=MAX_LENGTH, trainable=False)\\n\\nmodel = Sequential()\\nmodel.add(InputLayer(input_shape=(MAX_LENGTH, )))\\nmodel.add(embedding_layer)\\nmodel.add(Bidirectional(LSTM(300, return_sequences=True)))\\nmodel.add(TimeDistributed(Dense(len(tag2index))))\\nmodel.add(Dropout(0.5))\\nmodel.add(Activation('softmax'))\\n\\noptimizer = Adam(lr=lr, decay=lr_decay)\\n\\n#parallel_model = multi_gpu_model(model, gpus=2)\\n#model.compile(loss='categorical_crossentropy', optimizer=Adam(0.001), metrics=['accuracy'])\\nmodel.compile(loss='categorical_crossentropy', optimizer=optimizer, metrics=['accuracy'])\\n \\nmodel.summary()\""
      ]
     },
     "execution_count": 54,
     "metadata": {
      "tags": []
     },
     "output_type": "execute_result"
    }
   ],
   "source": [
    "\"\"\"from keras.models import Sequential\n",
    "from keras.layers import Dense, InputLayer, Embedding, Activation, Bidirectional, LSTM, TimeDistributed, Dropout\n",
    "from keras.layers.normalization import BatchNormalization\n",
    "from keras.optimizers import RMSprop, Adam\n",
    "from keras.utils import plot_model\n",
    "\n",
    "lr = 0.001\n",
    "lr_decay = 1e-4\n",
    "\n",
    "embedding_layer = Embedding(len(word2index)+1, 300, weights=[embedding_matrix],  input_length=MAX_LENGTH, trainable=False)\n",
    "#embedding_layer = Embedding(len(embeddings_index)+1, 300, weights=[embedding_matrix],  input_length=MAX_LENGTH, trainable=False)\n",
    "\n",
    "model = Sequential()\n",
    "model.add(InputLayer(input_shape=(MAX_LENGTH, )))\n",
    "model.add(embedding_layer)\n",
    "model.add(Bidirectional(LSTM(300, return_sequences=True)))\n",
    "model.add(TimeDistributed(Dense(len(tag2index))))\n",
    "model.add(Dropout(0.5))\n",
    "model.add(Activation('softmax'))\n",
    "\n",
    "optimizer = Adam(lr=lr, decay=lr_decay)\n",
    "\n",
    "#parallel_model = multi_gpu_model(model, gpus=2)\n",
    "#model.compile(loss='categorical_crossentropy', optimizer=Adam(0.001), metrics=['accuracy'])\n",
    "model.compile(loss='categorical_crossentropy', optimizer=optimizer, metrics=['accuracy'])\n",
    " \n",
    "model.summary()\"\"\""
   ]
  },
  {
   "cell_type": "code",
   "execution_count": 55,
   "metadata": {
    "colab": {
     "base_uri": "https://localhost:8080/",
     "height": 469
    },
    "colab_type": "code",
    "id": "_1cbiJfUTX6K",
    "outputId": "1483bbea-5b01-4def-e8b2-f3c5db06effc"
   },
   "outputs": [
    {
     "name": "stderr",
     "output_type": "stream",
     "text": [
      "/usr/local/lib/python3.6/dist-packages/keras_contrib/layers/crf.py:346: UserWarning: CRF.loss_function is deprecated and it might be removed in the future. Please use losses.crf_loss instead.\n",
      "  warnings.warn('CRF.loss_function is deprecated '\n",
      "/usr/local/lib/python3.6/dist-packages/keras_contrib/layers/crf.py:353: UserWarning: CRF.accuracy is deprecated and it might be removed in the future. Please use metrics.crf_accuracy\n",
      "  warnings.warn('CRF.accuracy is deprecated and it '\n"
     ]
    },
    {
     "name": "stdout",
     "output_type": "stream",
     "text": [
      "Model: \"model_2\"\n",
      "_________________________________________________________________\n",
      "Layer (type)                 Output Shape              Param #   \n",
      "=================================================================\n",
      "input_2 (InputLayer)         (None, 149)               0         \n",
      "_________________________________________________________________\n",
      "embedding_2 (Embedding)      (None, 149, 300)          7349700   \n",
      "_________________________________________________________________\n",
      "bidirectional_2 (Bidirection (None, 149, 600)          1442400   \n",
      "_________________________________________________________________\n",
      "lstm_4 (LSTM)                (None, 149, 600)          2882400   \n",
      "_________________________________________________________________\n",
      "time_distributed_2 (TimeDist (None, 149, 291)          174891    \n",
      "_________________________________________________________________\n",
      "crf_2 (CRF)                  (None, 149, 291)          170235    \n",
      "=================================================================\n",
      "Total params: 12,019,626\n",
      "Trainable params: 12,019,626\n",
      "Non-trainable params: 0\n",
      "_________________________________________________________________\n"
     ]
    }
   ],
   "source": [
    "from keras.models import Model, Input\n",
    "from keras.layers import LSTM, Embedding, Dense, TimeDistributed, Dropout, Bidirectional\n",
    "import keras as k\n",
    "from keras_contrib.layers import CRF\n",
    "\n",
    "input = Input(shape=(MAX_LENGTH,))\n",
    "word_embedding_size = 300\n",
    "\n",
    "# Embedding Layer\n",
    "model = Embedding(input_dim=len(word2index), output_dim=word_embedding_size, input_length=MAX_LENGTH)(input)\n",
    "\n",
    "# BI-LSTM Layer\n",
    "model = Bidirectional(LSTM(units=word_embedding_size, \n",
    "                           return_sequences=True, \n",
    "                           dropout=0.5, \n",
    "                           recurrent_dropout=0.5, \n",
    "                           kernel_initializer=k.initializers.he_normal()))(model)\n",
    "model = LSTM(units=word_embedding_size * 2, \n",
    "             return_sequences=True, \n",
    "             dropout=0.5, \n",
    "             recurrent_dropout=0.5, \n",
    "             kernel_initializer=k.initializers.he_normal())(model)\n",
    "\n",
    "# TimeDistributed Layer\n",
    "model = TimeDistributed(Dense(len(tag2index), activation=\"relu\"))(model)  \n",
    "\n",
    "# CRF Layer\n",
    "crf = CRF(len(tag2index))\n",
    "\n",
    "out = crf(model)  # output\n",
    "model = Model(input, out)\n",
    "\n",
    "\n",
    "#Optimiser \n",
    "adam = k.optimizers.Adam(lr=0.0005, beta_1=0.9, beta_2=0.999)\n",
    "\n",
    "# Compile model\n",
    "model.compile(optimizer=adam, loss=crf.loss_function, metrics=[crf.accuracy, 'accuracy'])\n",
    "model.summary()"
   ]
  },
  {
   "cell_type": "markdown",
   "metadata": {
    "colab_type": "text",
    "id": "BA2g3asKi38M"
   },
   "source": [
    "### Desarrollamos el entrenamiento del modelo, el model.fit es el alimentador de la red, que tiene los ejemplos de entrenamiento y los ejemplos de validación para que funcione el gradiente y la precisión del modelo."
   ]
  },
  {
   "cell_type": "code",
   "execution_count": 56,
   "metadata": {
    "colab": {
     "base_uri": "https://localhost:8080/",
     "height": 829
    },
    "colab_type": "code",
    "id": "Cb2aHt5ui9-w",
    "outputId": "81b6e61b-a4b4-4c0b-c1b1-dedb2cbeb0ef"
   },
   "outputs": [
    {
     "name": "stderr",
     "output_type": "stream",
     "text": [
      "/usr/local/lib/python3.6/dist-packages/tensorflow/python/framework/indexed_slices.py:434: UserWarning: Converting sparse IndexedSlices to a dense Tensor of unknown shape. This may consume a large amount of memory.\n",
      "  \"Converting sparse IndexedSlices to a dense Tensor of unknown shape. \"\n"
     ]
    },
    {
     "name": "stdout",
     "output_type": "stream",
     "text": [
      "Train on 3618 samples, validate on 1206 samples\n",
      "Epoch 1/20\n",
      "3618/3618 [==============================] - 95s 26ms/step - loss: 1.8752 - crf_viterbi_accuracy: 0.7484 - accuracy: 0.7865 - val_loss: 1.1134 - val_crf_viterbi_accuracy: 0.8044 - val_accuracy: 0.8046\n",
      "Epoch 2/20\n",
      "3618/3618 [==============================] - 93s 26ms/step - loss: 0.9163 - crf_viterbi_accuracy: 0.8094 - accuracy: 0.7865 - val_loss: 0.8447 - val_crf_viterbi_accuracy: 0.8181 - val_accuracy: 0.8183\n",
      "Epoch 3/20\n",
      "3618/3618 [==============================] - 93s 26ms/step - loss: 0.8257 - crf_viterbi_accuracy: 0.8167 - accuracy: 0.7865 - val_loss: 0.8114 - val_crf_viterbi_accuracy: 0.8180 - val_accuracy: 0.8183\n",
      "Epoch 4/20\n",
      "3618/3618 [==============================] - 93s 26ms/step - loss: 0.8063 - crf_viterbi_accuracy: 0.8179 - accuracy: 0.7865 - val_loss: 0.8011 - val_crf_viterbi_accuracy: 0.8183 - val_accuracy: 0.8185\n",
      "Epoch 5/20\n",
      "3618/3618 [==============================] - 93s 26ms/step - loss: 0.7958 - crf_viterbi_accuracy: 0.8193 - accuracy: 0.7865 - val_loss: 0.7929 - val_crf_viterbi_accuracy: 0.8192 - val_accuracy: 0.8195\n",
      "Epoch 6/20\n",
      "3618/3618 [==============================] - 93s 26ms/step - loss: 0.7873 - crf_viterbi_accuracy: 0.8206 - accuracy: 0.7865 - val_loss: 0.7850 - val_crf_viterbi_accuracy: 0.8196 - val_accuracy: 0.8197\n",
      "Epoch 7/20\n",
      "3618/3618 [==============================] - 93s 26ms/step - loss: 0.7786 - crf_viterbi_accuracy: 0.8231 - accuracy: 0.7865 - val_loss: 0.7749 - val_crf_viterbi_accuracy: 0.8206 - val_accuracy: 0.8208\n",
      "Epoch 8/20\n",
      "3618/3618 [==============================] - 93s 26ms/step - loss: 0.7657 - crf_viterbi_accuracy: 0.8278 - accuracy: 0.7865 - val_loss: 0.7537 - val_crf_viterbi_accuracy: 0.8321 - val_accuracy: 0.8323\n",
      "Epoch 9/20\n",
      "3618/3618 [==============================] - 93s 26ms/step - loss: 0.7355 - crf_viterbi_accuracy: 0.8335 - accuracy: 0.7865 - val_loss: 0.6936 - val_crf_viterbi_accuracy: 0.8355 - val_accuracy: 0.8358\n",
      "Epoch 10/20\n",
      "3618/3618 [==============================] - 93s 26ms/step - loss: 0.6552 - crf_viterbi_accuracy: 0.8491 - accuracy: 0.7865 - val_loss: 0.5772 - val_crf_viterbi_accuracy: 0.8741 - val_accuracy: 0.8742\n",
      "Epoch 11/20\n",
      "3618/3618 [==============================] - 93s 26ms/step - loss: 0.5368 - crf_viterbi_accuracy: 0.8767 - accuracy: 0.7865 - val_loss: 0.4573 - val_crf_viterbi_accuracy: 0.8975 - val_accuracy: 0.8978\n",
      "Epoch 12/20\n",
      "3618/3618 [==============================] - 93s 26ms/step - loss: 0.4240 - crf_viterbi_accuracy: 0.8999 - accuracy: 0.7865 - val_loss: 0.3547 - val_crf_viterbi_accuracy: 0.9140 - val_accuracy: 0.9142\n",
      "Epoch 13/20\n",
      "3618/3618 [==============================] - 94s 26ms/step - loss: 0.3338 - crf_viterbi_accuracy: 0.9183 - accuracy: 0.7865 - val_loss: 0.2922 - val_crf_viterbi_accuracy: 0.9316 - val_accuracy: 0.9319\n",
      "Epoch 14/20\n",
      "3618/3618 [==============================] - 93s 26ms/step - loss: 0.2713 - crf_viterbi_accuracy: 0.9326 - accuracy: 0.7865 - val_loss: 0.2506 - val_crf_viterbi_accuracy: 0.9417 - val_accuracy: 0.9419\n",
      "Epoch 15/20\n",
      "3618/3618 [==============================] - 93s 26ms/step - loss: 0.2274 - crf_viterbi_accuracy: 0.9434 - accuracy: 0.7865 - val_loss: 0.2243 - val_crf_viterbi_accuracy: 0.9494 - val_accuracy: 0.9496\n",
      "Epoch 16/20\n",
      "3618/3618 [==============================] - 94s 26ms/step - loss: 0.1942 - crf_viterbi_accuracy: 0.9519 - accuracy: 0.7865 - val_loss: 0.2069 - val_crf_viterbi_accuracy: 0.9540 - val_accuracy: 0.9543\n",
      "Epoch 17/20\n",
      "3618/3618 [==============================] - 93s 26ms/step - loss: 0.1655 - crf_viterbi_accuracy: 0.9594 - accuracy: 0.7865 - val_loss: 0.1920 - val_crf_viterbi_accuracy: 0.9588 - val_accuracy: 0.9589\n",
      "Epoch 18/20\n",
      "3618/3618 [==============================] - 93s 26ms/step - loss: 0.1425 - crf_viterbi_accuracy: 0.9652 - accuracy: 0.7865 - val_loss: 0.1808 - val_crf_viterbi_accuracy: 0.9625 - val_accuracy: 0.9626\n",
      "Epoch 19/20\n",
      "3618/3618 [==============================] - 93s 26ms/step - loss: 0.1230 - crf_viterbi_accuracy: 0.9703 - accuracy: 0.7865 - val_loss: 0.1748 - val_crf_viterbi_accuracy: 0.9643 - val_accuracy: 0.9644\n",
      "Epoch 20/20\n",
      "3618/3618 [==============================] - 93s 26ms/step - loss: 0.1062 - crf_viterbi_accuracy: 0.9746 - accuracy: 0.7865 - val_loss: 0.1683 - val_crf_viterbi_accuracy: 0.9655 - val_accuracy: 0.9656\n",
      "Saved model to disk\n"
     ]
    }
   ],
   "source": [
    "#!sudo pip install h5py\n",
    "import os\n",
    "model_hist = model.fit(train_sentences_X, cat_train_tags_y,\n",
    "                       validation_data=(eval_sentences_X, cat_eval_tags_y),\n",
    "                       batch_size=128, \n",
    "                       epochs=20,\n",
    "                       validation_split=0.1, verbose=1)\n",
    "\n",
    "# serialize model to JSON\n",
    "model_json = model.to_json()\n",
    "with open(\"mb.json\", \"w\") as json_file:\n",
    "    json_file.write(model_json)\n",
    "\n",
    "# serialize weights to HDF5\n",
    "model.save_weights(\"drive/My Drive/Colab Notebooks/mb.h5\")\n",
    "print(\"Saved model to disk\")"
   ]
  },
  {
   "cell_type": "markdown",
   "metadata": {
    "colab_type": "text",
    "id": "OtIYyzsc1712"
   },
   "source": [
    "# Parte 3 - Evaluación del modelo"
   ]
  },
  {
   "cell_type": "code",
   "execution_count": 57,
   "metadata": {
    "colab": {},
    "colab_type": "code",
    "id": "hn2v7suj2F2J"
   },
   "outputs": [],
   "source": [
    "sess.close()"
   ]
  },
  {
   "cell_type": "markdown",
   "metadata": {
    "colab_type": "text",
    "id": "p5gH7KcJ2TuM"
   },
   "source": [
    "### Evaluamos el modelo y calculamos el valor de precision con respecto a los datos de prueba"
   ]
  },
  {
   "cell_type": "code",
   "execution_count": 58,
   "metadata": {
    "colab": {
     "base_uri": "https://localhost:8080/",
     "height": 0
    },
    "colab_type": "code",
    "id": "2ayHI6L42JMs",
    "outputId": "7a09bac0-0fca-4e18-c2da-6d5e1d00c76b"
   },
   "outputs": [
    {
     "name": "stdout",
     "output_type": "stream",
     "text": [
      "1206/1206 [==============================] - 18s 15ms/step\n",
      "crf_viterbi_accuracy: 96.47912383079529\n"
     ]
    }
   ],
   "source": [
    "scores = model.evaluate(test_sentences_X, cat_test_tags_y)\n",
    "print(f\"{model.metrics_names[1]}: {scores[1] * 100}\") "
   ]
  },
  {
   "cell_type": "markdown",
   "metadata": {
    "colab_type": "text",
    "id": "chnDW-pX2uTv"
   },
   "source": [
    "### Definimos la funcion que nos servira para graficar el comportamiento del modelo en cada epoca del entrenamiento"
   ]
  },
  {
   "cell_type": "code",
   "execution_count": 59,
   "metadata": {
    "colab": {},
    "colab_type": "code",
    "id": "WNLt0Sfe2wVv"
   },
   "outputs": [],
   "source": [
    "import matplotlib.pyplot as plt\n",
    "\n",
    "def plot_model_performance(train_loss, train_acc, train_val_loss, train_val_acc):\n",
    "    \"\"\" Plot model loss and accuracy through epochs. \"\"\"\n",
    "    blue= '#34495E'\n",
    "    green = '#2ECC71'\n",
    "    orange = '#E23B13'\n",
    "    \n",
    "    # plot model loss\n",
    "    fig, (ax1, ax2) = plt.subplots(2, figsize=(10, 8))\n",
    "    ax1.plot(range(1, len(train_loss) + 1), train_loss, blue, linewidth=5, label='training')\n",
    "    ax1.plot(range(1, len(train_val_loss) + 1), train_val_loss, green, linewidth=5, label='validation')\n",
    "    ax1.set_xlabel('# epoch')\n",
    "    ax1.set_ylabel('loss')\n",
    "    ax1.tick_params('y')\n",
    "    ax1.legend(loc='upper right', shadow=False)\n",
    "    ax1.set_title('Model loss through #epochs', color=orange, fontweight='bold')\n",
    "    \n",
    "    # plot model accuracy\n",
    "    ax2.plot(range(1, len(train_acc) + 1), train_acc, blue, linewidth=5, label='training')\n",
    "    ax2.plot(range(1, len(train_val_acc) + 1), train_val_acc, green, linewidth=5, label='validation')\n",
    "    ax2.set_xlabel('# epoch')\n",
    "    ax2.set_ylabel('accuracy')\n",
    "    ax2.tick_params('y')\n",
    "    ax2.legend(loc='lower right', shadow=False)\n",
    "    ax2.set_title('Model accuracy through #epochs', color=orange, fontweight='bold')"
   ]
  },
  {
   "cell_type": "markdown",
   "metadata": {
    "colab_type": "text",
    "id": "_djBVneI37O-"
   },
   "source": [
    "### Procedemos a Graficar el comportamiento del Entrenamiento, tanto del conjunto de entrenamiento como el de validación con respecto a la cantidad de epocas"
   ]
  },
  {
   "cell_type": "code",
   "execution_count": 60,
   "metadata": {
    "colab": {
     "base_uri": "https://localhost:8080/",
     "height": 0
    },
    "colab_type": "code",
    "id": "omZZVqg03867",
    "outputId": "63efe273-66f4-4036-977e-476deca3ba1e"
   },
   "outputs": [
    {
     "data": {
      "image/png": "[encoded data removed]",
      "text/plain": [
       "<Figure size 720x576 with 2 Axes>"
      ]
     },
     "metadata": {
      "needs_background": "light",
      "tags": []
     },
     "output_type": "display_data"
    }
   ],
   "source": [
    "plot_model_performance(\n",
    "    train_loss=model_hist.history.get('loss', []),\n",
    "    train_acc=model_hist.history.get('crf_viterbi_accuracy', []),\n",
    "    train_val_loss=model_hist.history.get('val_loss', []),\n",
    "    train_val_acc=model_hist.history.get('val_crf_viterbi_accuracy', [])\n",
    ")"
   ]
  },
  {
   "cell_type": "markdown",
   "metadata": {
    "colab_type": "text",
    "id": "PaF9aavE5Pcb"
   },
   "source": [
    "### Función que Permite convertir Indices en Tags"
   ]
  },
  {
   "cell_type": "code",
   "execution_count": 61,
   "metadata": {
    "colab": {},
    "colab_type": "code",
    "id": "ML5Kb1j_5OYy"
   },
   "outputs": [],
   "source": [
    "def logits_to_tokens(sequences, index):\n",
    "    token_sequences = []\n",
    "    for categorical_sequence in sequences:\n",
    "        token_sequence = []\n",
    "        for categorical in categorical_sequence:\n",
    "            token_sequence.append(index[np.argmax(categorical)])\n",
    " \n",
    "        token_sequences.append(token_sequence)\n",
    " \n",
    "    return token_sequences"
   ]
  },
  {
   "cell_type": "markdown",
   "metadata": {
    "colab_type": "text",
    "id": "zVEL1znu5oZy"
   },
   "source": [
    "### Hacemos la prediccion sobre el conjunto de pruebas"
   ]
  },
  {
   "cell_type": "code",
   "execution_count": 62,
   "metadata": {
    "colab": {
     "base_uri": "https://localhost:8080/",
     "height": 0
    },
    "colab_type": "code",
    "id": "cec4uWdO5qCn",
    "outputId": "696a9edf-5f7f-4e1c-a186-797dbf6e2471"
   },
   "outputs": [
    {
     "name": "stdout",
     "output_type": "stream",
     "text": [
      "['da0ms0', 'ncms000', 'aq0cs0', 'vaip3s0', 'vmp00sm', 'cs', 'da0fs0', 'ncfs000', 'sps00', 'np0000o', 'vaip3s0', 'vmp00sm', 'sps00', 'Fe', 'vmn0000', 'Fe', 'Fc', 'cc', 'sn.e-SUJ', 'vaip3s0', 'vmp00sm', 'cs', 'da0ms0', 'ncms000', 'sps00', 'da0ms0', 'ncms000', 'vmip3s0', 'pr0cn000', 'sps00', 'da0ms0', 'np0000l', 'Fe', 'di0mp0', 'ncfp000', 'sps00', 'da0fs0', 'di0fs0', 'ncfs000', 'Fe', 'Fp', '-PAD-', '-PAD-', '-PAD-', '-PAD-', '-PAD-', '-PAD-', '-PAD-', '-PAD-', '-PAD-', '-PAD-', '-PAD-', '-PAD-', '-PAD-', '-PAD-', '-PAD-', '-PAD-', '-PAD-', '-PAD-', '-PAD-', '-PAD-', '-PAD-', '-PAD-', '-PAD-', '-PAD-', '-PAD-', '-PAD-', '-PAD-', '-PAD-', '-PAD-', '-PAD-', '-PAD-', '-PAD-', '-PAD-', '-PAD-', '-PAD-', '-PAD-', '-PAD-', '-PAD-', '-PAD-', '-PAD-', '-PAD-', '-PAD-', '-PAD-', '-PAD-', '-PAD-', '-PAD-', '-PAD-', '-PAD-', '-PAD-', '-PAD-', '-PAD-', '-PAD-', '-PAD-', '-PAD-', '-PAD-', '-PAD-', '-PAD-', '-PAD-', '-PAD-', '-PAD-', '-PAD-', '-PAD-', '-PAD-', '-PAD-', '-PAD-', '-PAD-', '-PAD-', '-PAD-', '-PAD-', '-PAD-', '-PAD-', '-PAD-', '-PAD-', '-PAD-', '-PAD-', '-PAD-', '-PAD-', '-PAD-', '-PAD-', '-PAD-', '-PAD-', '-PAD-', '-PAD-', '-PAD-', '-PAD-', '-PAD-', '-PAD-', '-PAD-', '-PAD-', '-PAD-', '-PAD-', '-PAD-', '-PAD-', '-PAD-', '-PAD-', '-PAD-', '-PAD-', '-PAD-', '-PAD-', '-PAD-', '-PAD-', '-PAD-', '-PAD-', '-PAD-', '-PAD-', '-PAD-', '-PAD-', '-PAD-']\n"
     ]
    }
   ],
   "source": [
    "import pandas as pd\n",
    "prediction = model.predict(test_sentences_X)\n",
    "log_tokens = logits_to_tokens(prediction, {i: t for t, i in tag2index.items()})\n",
    "\n",
    "print(log_tokens[0])"
   ]
  },
  {
   "cell_type": "markdown",
   "metadata": {
    "colab_type": "text",
    "id": "FURxKHvm6bo9"
   },
   "source": [
    "### Hallamos los valores de F1 score, recall, precision"
   ]
  },
  {
   "cell_type": "code",
   "execution_count": 63,
   "metadata": {
    "colab": {
     "base_uri": "https://localhost:8080/",
     "height": 0
    },
    "colab_type": "code",
    "id": "nPYP2RSY6c8i",
    "outputId": "d97c056d-c480-49e9-92fb-ddcc14787acc"
   },
   "outputs": [
    {
     "name": "stderr",
     "output_type": "stream",
     "text": [
      "/usr/local/lib/python3.6/dist-packages/sklearn/metrics/_classification.py:1272: UndefinedMetricWarning: Precision and F-score are ill-defined and being set to 0.0 in labels with no predicted samples. Use `zero_division` parameter to control this behavior.\n",
      "  _warn_prf(average, modifier, msg_start, len(result))\n"
     ]
    },
    {
     "name": "stdout",
     "output_type": "stream",
     "text": [
      "\n",
      "classification_report:\n",
      "               precision    recall  f1-score   support\n",
      "\n",
      "         Faa       0.00      0.00      0.00         2\n",
      "         Fat       0.00      0.00      0.00         5\n",
      "          Fc       1.00      1.00      1.00      2291\n",
      "          Fd       0.85      1.00      0.92        87\n",
      "          Fe       1.00      1.00      1.00       631\n",
      "          Fg       0.78      1.00      0.87       226\n",
      "          Fh       0.00      0.00      0.00         3\n",
      "         Fia       0.00      0.00      0.00         6\n",
      "         Fit       0.74      0.89      0.81        19\n",
      "          Fp       1.00      1.00      1.00      1178\n",
      "         Fpa       0.96      0.99      0.97       156\n",
      "         Fpt       0.99      0.96      0.97       160\n",
      "          Fs       1.00      0.38      0.56        13\n",
      "          Fx       0.81      0.95      0.88        41\n",
      "          Fz       0.00      0.00      0.00         2\n",
      "           W       0.81      0.60      0.69       194\n",
      "           Z       0.86      0.50      0.63       320\n",
      "          Zm       1.00      0.63      0.77        35\n",
      "          Zp       0.63      0.38      0.47        45\n",
      "      ao0fp0       1.00      0.06      0.11        17\n",
      "      ao0fs0       0.96      0.83      0.89        66\n",
      "      ao0mp0       1.00      0.22      0.36        23\n",
      "      ao0ms0       0.80      0.88      0.84        59\n",
      "     aq00000       0.00      0.00      0.00         2\n",
      "      aq0cn0       0.00      0.00      0.00         4\n",
      "      aq0cp0       0.62      0.74      0.68       228\n",
      "      aq0cs0       0.53      0.81      0.64       590\n",
      "      aq0fp0       0.71      0.56      0.63       128\n",
      "      aq0fpp       0.85      0.21      0.34        52\n",
      "      aq0fs0       0.79      0.70      0.74       355\n",
      "      aq0fsp       0.61      0.36      0.46       140\n",
      "      aq0mp0       0.65      0.35      0.45       202\n",
      "      aq0mpp       0.60      0.22      0.32        96\n",
      "      aq0ms0       0.81      0.69      0.74       491\n",
      "      aq0msp       0.60      0.45      0.51       222\n",
      "          cc       0.98      0.99      0.99      1222\n",
      "          cs       0.92      0.64      0.76       927\n",
      "      da0fp0       0.92      1.00      0.96       374\n",
      "      da0fs0       0.98      1.00      0.99      1324\n",
      "      da0mp0       0.99      1.00      0.99       637\n",
      "      da0ms0       1.00      1.00      1.00      1275\n",
      "      da0ns0       0.65      1.00      0.79       110\n",
      "      dd0cp0       0.00      0.00      0.00         2\n",
      "      dd0cs0       0.00      0.00      0.00         4\n",
      "      dd0fp0       0.75      0.33      0.46        18\n",
      "      dd0fs0       0.96      0.66      0.78        67\n",
      "      dd0mp0       0.64      0.60      0.62        30\n",
      "      dd0ms0       0.96      0.74      0.84       101\n",
      "      di0cp0       0.00      0.00      0.00         5\n",
      "      di0cs0       0.75      0.35      0.47        26\n",
      "      di0fp0       0.73      0.89      0.80        71\n",
      "      di0fs0       0.96      0.98      0.97       335\n",
      "      di0mp0       0.77      0.96      0.85       112\n",
      "      di0ms0       0.92      0.96      0.94       482\n",
      "      dn0cp0       0.71      0.97      0.82       149\n",
      "      dn0cs0       0.00      0.00      0.00         1\n",
      "      dn0fp0       0.00      0.00      0.00         4\n",
      "      dn0fs0       0.00      0.00      0.00         2\n",
      "      dn0mp0       0.00      0.00      0.00         5\n",
      "      dn0ms0       0.00      0.00      0.00         9\n",
      "      dp1cps       0.00      0.00      0.00         1\n",
      "      dp1css       0.00      0.00      0.00         8\n",
      "      dp1fpp       0.00      0.00      0.00         1\n",
      "      dp1fsp       0.00      0.00      0.00         6\n",
      "      dp1mpp       0.00      0.00      0.00         7\n",
      "      dp1msp       0.00      0.00      0.00         8\n",
      "      dp2css       0.00      0.00      0.00         3\n",
      "      dp3cp0       0.99      1.00      1.00       107\n",
      "      dp3cs0       1.00      1.00      1.00       275\n",
      "      dp3fs0       0.00      0.00      0.00         1\n",
      "      dt0cn0       0.00      0.00      0.00         3\n",
      "           i       0.00      0.00      0.00         4\n",
      "     nc00000       0.00      0.00      0.00        26\n",
      "     nccn000       0.00      0.00      0.00         5\n",
      "     nccp000       0.32      0.74      0.44       103\n",
      "     nccs000       0.31      0.27      0.29       146\n",
      "     ncfn000       1.00      0.33      0.50        15\n",
      "     ncfp000       0.84      0.83      0.83       788\n",
      "     ncfs000       0.95      0.87      0.91      2132\n",
      "     ncmn000       0.36      0.17      0.23        24\n",
      "     ncmp000       0.95      0.77      0.85      1166\n",
      "     ncms000       0.90      0.87      0.88      2365\n",
      "     np00000       0.00      0.00      0.00        51\n",
      "     np0000a       0.07      0.62      0.13       202\n",
      "     np0000l       0.70      0.66      0.68       412\n",
      "     np0000o       0.65      0.49      0.56       656\n",
      "     np0000p       0.80      0.47      0.59       720\n",
      "    p0000000       0.66      0.32      0.43       193\n",
      "    p010p000       0.00      0.00      0.00         2\n",
      "    p010s000       0.00      0.00      0.00         3\n",
      "    p020s000       0.00      0.00      0.00         1\n",
      "    p0300000       0.58      0.89      0.70       217\n",
      "    pd0fp000       0.00      0.00      0.00         3\n",
      "    pd0fs000       0.00      0.00      0.00         5\n",
      "    pd0mp000       0.00      0.00      0.00         6\n",
      "    pd0ms000       0.00      0.00      0.00         8\n",
      "    pd0ns000       0.94      0.68      0.79        22\n",
      "    pi0cp000       0.00      0.00      0.00         2\n",
      "    pi0cs000       0.78      0.17      0.29        40\n",
      "    pi0fp000       0.00      0.00      0.00         7\n",
      "    pi0fs000       0.00      0.00      0.00        11\n",
      "    pi0mp000       0.00      0.00      0.00        35\n",
      "    pi0ms000       0.85      0.31      0.46        54\n",
      "    pn0cp000       0.00      0.00      0.00        27\n",
      "    pn0mp000       0.00      0.00      0.00         3\n",
      "    pn0ms000       0.00      0.00      0.00         2\n",
      "    pp1cp000       0.44      0.81      0.57        27\n",
      "    pp1cs000       0.82      0.52      0.64        27\n",
      "    pp1csn00       0.00      0.00      0.00        16\n",
      "    pp1cso00       0.00      0.00      0.00         5\n",
      "    pp1mp000       0.00      0.00      0.00         9\n",
      "    pp2cs000       0.00      0.00      0.00         4\n",
      "    pp2cs00p       0.00      0.00      0.00         4\n",
      "    pp2csn00       0.00      0.00      0.00         2\n",
      "    pp2cso00       0.00      0.00      0.00         1\n",
      "    pp3cn000       0.00      0.00      0.00        10\n",
      "    pp3cna00       0.00      0.00      0.00         2\n",
      "    pp3cno00       0.00      0.00      0.00         5\n",
      "    pp3cpa00       0.00      0.00      0.00         2\n",
      "    pp3cpd00       0.00      0.00      0.00        11\n",
      "    pp3csa00       0.00      0.00      0.00         1\n",
      "    pp3csd00       0.72      1.00      0.84        63\n",
      "    pp3fp000       0.00      0.00      0.00         6\n",
      "    pp3fpa00       0.00      0.00      0.00        10\n",
      "    pp3fs000       0.00      0.00      0.00        13\n",
      "    pp3fsa00       0.00      0.00      0.00        17\n",
      "    pp3mp000       0.62      0.69      0.65        26\n",
      "    pp3mpa00       0.00      0.00      0.00         4\n",
      "    pp3ms000       0.83      0.22      0.34        23\n",
      "    pp3msa00       0.80      0.12      0.21        33\n",
      "    pp3ns000       1.00      0.47      0.64        15\n",
      "    pr000000       0.83      0.77      0.80        26\n",
      "    pr0cn000       0.66      0.98      0.79       616\n",
      "    pr0cp000       1.00      0.30      0.46        10\n",
      "    pr0cs000       0.96      0.69      0.80        32\n",
      "    pr0fp000       0.00      0.00      0.00         1\n",
      "    pr0fs000       1.00      0.40      0.57         5\n",
      "    pr0ms000       0.00      0.00      0.00         3\n",
      "    pt000000       0.00      0.00      0.00        12\n",
      "    pt0cp000       0.00      0.00      0.00         1\n",
      "    pt0cs000       1.00      0.11      0.20        18\n",
      "    pt0mp000       0.00      0.00      0.00         2\n",
      "    px1fs0p0       0.00      0.00      0.00         1\n",
      "    px3ns000       0.00      0.00      0.00         1\n",
      "          rg       0.94      0.87      0.90      1208\n",
      "          rn       0.88      0.99      0.93       265\n",
      "      sn-SUJ       0.00      0.00      0.00         1\n",
      "        sn.e       0.00      0.00      0.00         4\n",
      "    sn.e-SUJ       0.99      1.00      0.99       818\n",
      " sn.e.1n-SUJ       0.00      0.00      0.00         6\n",
      "       spcms       0.99      0.99      0.99       692\n",
      "       sps00       1.00      0.99      0.99      5056\n",
      "     vaic3p0       0.00      0.00      0.00         1\n",
      "     vaic3s0       0.00      0.00      0.00         4\n",
      "     vaif1p0       0.00      0.00      0.00         1\n",
      "     vaif3s0       0.00      0.00      0.00         3\n",
      "     vaii1s0       0.00      0.00      0.00         1\n",
      "     vaii3p0       0.00      0.00      0.00        13\n",
      "     vaii3s0       0.62      0.39      0.48        41\n",
      "     vaip1p0       0.00      0.00      0.00         8\n",
      "     vaip1s0       0.00      0.00      0.00         9\n",
      "     vaip3p0       1.00      0.90      0.95        48\n",
      "     vaip3s0       0.98      0.99      0.99       185\n",
      "     vais3s0       0.00      0.00      0.00         5\n",
      "     van0000       1.00      0.24      0.38        21\n",
      "     vap00sm       0.00      0.00      0.00         1\n",
      "     vasi1p0       0.00      0.00      0.00         1\n",
      "     vasi3p0       0.00      0.00      0.00         2\n",
      "     vasi3s0       0.00      0.00      0.00        11\n",
      "     vasp1s0       0.00      0.00      0.00         1\n",
      "     vasp3p0       0.00      0.00      0.00         1\n",
      "     vasp3s0       0.00      0.00      0.00         8\n",
      "     vmg0000       0.20      0.38      0.26        92\n",
      "     vmic1p0       0.00      0.00      0.00         2\n",
      "     vmic3p0       0.00      0.00      0.00        11\n",
      "     vmic3s0       0.38      0.60      0.46        30\n",
      "     vmif1p0       0.00      0.00      0.00         7\n",
      "     vmif1s0       0.00      0.00      0.00         3\n",
      "     vmif2s0       0.00      0.00      0.00         1\n",
      "     vmif3p0       0.00      0.00      0.00        40\n",
      "     vmif3s0       0.59      0.39      0.47       114\n",
      "     vmii1p0       0.00      0.00      0.00         9\n",
      "     vmii1s0       0.00      0.00      0.00         7\n",
      "     vmii3p0       0.46      0.24      0.31        67\n",
      "     vmii3s0       0.38      0.38      0.38       143\n",
      "     vmip1p0       0.90      0.43      0.58        60\n",
      "     vmip1s0       1.00      0.28      0.44        60\n",
      "     vmip2s0       0.00      0.00      0.00         6\n",
      "     vmip3p0       0.71      0.52      0.60       279\n",
      "     vmip3s0       0.62      0.91      0.74       599\n",
      "     vmis1p0       0.00      0.00      0.00         5\n",
      "     vmis1s0       0.00      0.00      0.00        12\n",
      "     vmis3p0       0.53      0.50      0.51       148\n",
      "     vmis3s0       0.96      0.86      0.91       606\n",
      "     vmm02s0       0.00      0.00      0.00         3\n",
      "     vmm03p0       0.00      0.00      0.00         1\n",
      "     vmm03s0       0.00      0.00      0.00         7\n",
      "     vmn0000       0.85      0.76      0.80       849\n",
      "     vmp00pf       0.00      0.00      0.00         5\n",
      "     vmp00pm       1.00      0.06      0.12        16\n",
      "     vmp00sf       0.00      0.00      0.00        19\n",
      "     vmp00sm       0.64      0.90      0.75       311\n",
      "     vmsi1p0       0.00      0.00      0.00         2\n",
      "     vmsi1s0       0.00      0.00      0.00         2\n",
      "     vmsi3p0       0.00      0.00      0.00        12\n",
      "     vmsi3s0       0.00      0.00      0.00        26\n",
      "     vmsp1p0       0.00      0.00      0.00         9\n",
      "     vmsp1s0       0.00      0.00      0.00         7\n",
      "     vmsp3p0       0.11      0.07      0.08        45\n",
      "     vmsp3s0       0.13      0.48      0.20        66\n",
      "     vsg0000       0.00      0.00      0.00         7\n",
      "     vsic1s0       0.00      0.00      0.00         1\n",
      "     vsic3p0       0.00      0.00      0.00         2\n",
      "     vsic3s0       0.67      0.75      0.71         8\n",
      "     vsif3s0       0.00      0.00      0.00        13\n",
      "     vsii3p0       0.00      0.00      0.00        13\n",
      "     vsii3s0       0.00      0.00      0.00        26\n",
      "     vsip1p0       0.00      0.00      0.00         1\n",
      "     vsip1s0       0.00      0.00      0.00         3\n",
      "     vsip2s0       0.00      0.00      0.00         2\n",
      "     vsip3p0       0.54      0.92      0.68        48\n",
      "     vsip3s0       1.00      1.00      1.00       190\n",
      "     vsis3p0       0.50      0.06      0.10        18\n",
      "     vsis3s0       0.51      0.97      0.67        39\n",
      "     vsn0000       0.97      0.97      0.97        35\n",
      "     vsp00sm       0.29      1.00      0.45        32\n",
      "     vssi3p0       0.00      0.00      0.00         1\n",
      "     vssi3s0       0.00      0.00      0.00         3\n",
      "     vssp3p0       0.00      0.00      0.00         5\n",
      "     vssp3s0       0.00      0.00      0.00        12\n",
      "\n",
      "    accuracy                           0.84     38876\n",
      "   macro avg       0.37      0.31      0.31     38876\n",
      "weighted avg       0.86      0.84      0.84     38876\n",
      "\n"
     ]
    }
   ],
   "source": [
    "from sklearn.metrics import classification_report, confusion_matrix\n",
    "\n",
    "results = pd.DataFrame(columns=['Expected', 'Predicted'])\n",
    "k = 0\n",
    "for i, lista_etiquetas_oracion in enumerate(test_tags):\n",
    "    for j, etiquetas in enumerate(lista_etiquetas_oracion):\n",
    "        k = k + 1\n",
    "        results.loc[k, 'Expected'] = etiquetas\n",
    "        results.loc[k, 'Predicted'] = log_tokens[i][j]\n",
    "\n",
    "# print(results)\n",
    "\n",
    "\n",
    "print('\\nclassification_report:\\n', classification_report(results['Expected'], results['Predicted']))"
   ]
  },
  {
   "cell_type": "code",
   "execution_count": 64,
   "metadata": {
    "colab": {
     "base_uri": "https://localhost:8080/",
     "height": 0
    },
    "colab_type": "code",
    "id": "szgZm0q47Y-B",
    "outputId": "f0e05a59-d341-44dd-cf52-6ee0f8951ded"
   },
   "outputs": [
    {
     "name": "stdout",
     "output_type": "stream",
     "text": [
      "Collecting seqeval\n",
      "  Downloading https://files.pythonhosted.org/packages/34/91/068aca8d60ce56dd9ba4506850e876aba5e66a6f2f29aa223224b50df0de/seqeval-0.0.12.tar.gz\n",
      "Requirement already satisfied: numpy>=1.14.0 in /usr/local/lib/python3.6/dist-packages (from seqeval) (1.18.5)\n",
      "Requirement already satisfied: Keras>=2.2.4 in /usr/local/lib/python3.6/dist-packages (from seqeval) (2.3.1)\n",
      "Requirement already satisfied: scipy>=0.14 in /usr/local/lib/python3.6/dist-packages (from Keras>=2.2.4->seqeval) (1.4.1)\n",
      "Requirement already satisfied: pyyaml in /usr/local/lib/python3.6/dist-packages (from Keras>=2.2.4->seqeval) (3.13)\n",
      "Requirement already satisfied: keras-preprocessing>=1.0.5 in /usr/local/lib/python3.6/dist-packages (from Keras>=2.2.4->seqeval) (1.1.2)\n",
      "Requirement already satisfied: six>=1.9.0 in /usr/local/lib/python3.6/dist-packages (from Keras>=2.2.4->seqeval) (1.12.0)\n",
      "Requirement already satisfied: h5py in /usr/local/lib/python3.6/dist-packages (from Keras>=2.2.4->seqeval) (2.10.0)\n",
      "Requirement already satisfied: keras-applications>=1.0.6 in /usr/local/lib/python3.6/dist-packages (from Keras>=2.2.4->seqeval) (1.0.8)\n",
      "Building wheels for collected packages: seqeval\n",
      "  Building wheel for seqeval (setup.py) ... \u001b[?25l\u001b[?25hdone\n",
      "  Created wheel for seqeval: filename=seqeval-0.0.12-cp36-none-any.whl size=7424 sha256=e7f7a460b47061c9df8a3e1eb33659b3e193b7e250b98e782e8614b2be81dcf6\n",
      "  Stored in directory: /root/.cache/pip/wheels/4f/32/0a/df3b340a82583566975377d65e724895b3fad101a3fb729f68\n",
      "Successfully built seqeval\n",
      "Installing collected packages: seqeval\n",
      "Successfully installed seqeval-0.0.12\n",
      "F1-score: 83.5%\n",
      "precision-score: 83.7%\n",
      "recall-score: 83.3%\n"
     ]
    }
   ],
   "source": [
    "!pip install seqeval\n",
    "from seqeval.metrics import precision_score, recall_score, f1_score, classification_report\n",
    "\n",
    "print(\"F1-score: {:.1%}\".format(f1_score(results['Expected'], results['Predicted'])))\n",
    "print(\"precision-score: {:.1%}\".format(precision_score(results['Expected'], results['Predicted'])))\n",
    "print(\"recall-score: {:.1%}\".format(recall_score(results['Expected'], results['Predicted'])))\n"
   ]
  },
  {
   "cell_type": "markdown",
   "metadata": {
    "colab_type": "text",
    "id": "0Tk4J4MW7MR8"
   },
   "source": [
    "# Parte 4 - Testing "
   ]
  },
  {
   "cell_type": "markdown",
   "metadata": {
    "colab_type": "text",
    "id": "1BrFLFi274FG"
   },
   "source": [
    "**Creamos un pequeño Ejemplo**"
   ]
  },
  {
   "cell_type": "code",
   "execution_count": 65,
   "metadata": {
    "colab": {
     "base_uri": "https://localhost:8080/",
     "height": 55
    },
    "colab_type": "code",
    "id": "oLobDWIR8Wql",
    "outputId": "8dd29807-b070-481a-e5bd-90120ff21149"
   },
   "outputs": [
    {
     "name": "stdout",
     "output_type": "stream",
     "text": [
      "[['Correr', 'es', 'importante', 'para', 'mi', '.'], ['El', 'hombre', 'bajo', 'corre', 'bajo', 'el', 'puente', 'con', 'bajo', 'índice', 'de', 'adrenalina', '.']]\n"
     ]
    }
   ],
   "source": [
    "test_samples = [\n",
    "    \"Correr es importante para mi .\".split(),\n",
    "    \"El hombre bajo corre bajo el puente con bajo índice de adrenalina .\".split()\n",
    "]\n",
    "print(test_samples)"
   ]
  },
  {
   "cell_type": "markdown",
   "metadata": {
    "colab_type": "text",
    "id": "_7Kjk1g08o_C"
   },
   "source": [
    "**Creamos la función que usa el modelo para el postagging**"
   ]
  },
  {
   "cell_type": "code",
   "execution_count": 66,
   "metadata": {
    "colab": {},
    "colab_type": "code",
    "id": "ZHYkegkS8qbn"
   },
   "outputs": [],
   "source": [
    "from tabulate import tabulate\n",
    "#!pip install tabulate\n",
    "from keras.preprocessing.sequence import pad_sequences\n",
    "def postagging(test_sample):\n",
    "  #Convertimos el texto en Una entrada para el Modelo\n",
    "    test_samples_X = []\n",
    "    for s in test_samples:\n",
    "        s_int = []\n",
    "        for w in s:\n",
    "           try:\n",
    "               s_int.append(word2index[w.lower()])\n",
    "           except KeyError:\n",
    "              s_int.append(word2index['-OOV-'])\n",
    "        test_samples_X.append(s_int)\n",
    "\n",
    "    test_samples_X = pad_sequences(test_samples_X, maxlen=MAX_LENGTH, padding='post')\n",
    "    #Se Ejecuta la predicion con la Entrada del modelo entrenado\n",
    "    predictions = model.predict(test_samples_X)\n",
    "    #Conversion de la Salida del Modelo a un lista de Indices de Tags\n",
    "    log_tokens = logits_to_tokens(predictions, {i: t for t, i in tag2index.items()})\n",
    "    #Presentación de los Resultados\n",
    "\n",
    "    salida = \"\"\n",
    "    for i in range(len(test_samples)):\n",
    "        head = test_samples[i]\n",
    "        body = [log_tokens[i][:len(test_samples[i])]]\n",
    "        salida += tabulate(body, headers=head)\n",
    "        salida += \"\\n\"\n",
    "        \n",
    "    return salida\n",
    "\n",
    "## postagging Freeling 4.1\n",
    "\n",
    "## El      hombre   bajo     corre    bajo  el      puente   con  bajo  índice   de  adrenalina  .\n",
    "## DA0MS0  NCMS000  AQ0MS00  VMIP3S0  SP    DA0MS0  NCMS000  SP   SP    NCMS000  SP  NCFS000     Fp\n",
    "\n",
    "\n",
    "## pos tagger Stanford NLP\n",
    "\n",
    "## El      hombre   bajo     corre    bajo  el      puente   con    bajo   índice  de    adrenalina  .\n",
    "## da0000  nc0s000  aq0000   vmip000  sp000 da0000  nc0s000  sp000  aq0000 nc0s000 sp000 nc0s000     fp\n"
   ]
  },
  {
   "cell_type": "markdown",
   "metadata": {
    "colab_type": "text",
    "id": "ErkwqOIbILIN"
   },
   "source": [
    "**Probamos la función**"
   ]
  },
  {
   "cell_type": "code",
   "execution_count": 67,
   "metadata": {
    "colab": {
     "base_uri": "https://localhost:8080/",
     "height": 143
    },
    "colab_type": "code",
    "id": "jvYki6s3IOSm",
    "outputId": "f6980d05-eb95-4c6a-a337-07dad1596891"
   },
   "outputs": [
    {
     "name": "stdout",
     "output_type": "stream",
     "text": [
      "Correr    es       importante    para    mi      .\n",
      "--------  -------  ------------  ------  ------  ---\n",
      "vmn0000   vsip3s0  aq0cs0        sps00   aq0fs0  Fp\n",
      "El      hombre    bajo     corre    bajo    el      puente    con    bajo    índice    de     adrenalina    .\n",
      "------  --------  -------  -------  ------  ------  --------  -----  ------  --------  -----  ------------  ---\n",
      "da0ms0  ncms000   ncms000  vmip3s0  sps00   da0ms0  ncms000   sps00  dp3cs0  ncms000   sps00  np0000a       Fp\n",
      "\n"
     ]
    }
   ],
   "source": [
    "print(postagging(test_samples))"
   ]
  },
  {
   "cell_type": "markdown",
   "metadata": {
    "colab_type": "text",
    "id": "nzO17HDOzeW2"
   },
   "source": [
    "### **Cargamos el modelo**"
   ]
  },
  {
   "cell_type": "code",
   "execution_count": 68,
   "metadata": {
    "colab": {
     "base_uri": "https://localhost:8080/",
     "height": 35
    },
    "colab_type": "code",
    "id": "1XlytdlHzhp_",
    "outputId": "84e26abb-82aa-4fd6-e49b-76147cd238d1"
   },
   "outputs": [
    {
     "name": "stdout",
     "output_type": "stream",
     "text": [
      "Loaded model from disk\n"
     ]
    }
   ],
   "source": [
    "# load weights into new model\n",
    "model.load_weights(\"drive/My Drive/Colab Notebooks/mb.h5\")\n",
    "print(\"Loaded model from disk\")\n"
   ]
  },
  {
   "cell_type": "markdown",
   "metadata": {
    "colab_type": "text",
    "id": "XOIZa916LmgA"
   },
   "source": [
    "# **Interfaz**"
   ]
  },
  {
   "cell_type": "code",
   "execution_count": 69,
   "metadata": {
    "colab": {
     "base_uri": "https://localhost:8080/",
     "height": 107
    },
    "colab_type": "code",
    "id": "ZY7rqgZFLpFV",
    "outputId": "cba3131b-96ee-4891-e3c7-53b963a8ec24"
   },
   "outputs": [
    {
     "data": {
      "application/vnd.google.colaboratory.intrinsic": {
       "type": "string"
      },
      "text/plain": [
       "'from tkinter import *\\nfrom tkinter.scrolledtext import ScrolledText\\n\\n\\nwindow = Tk()\\n\\nwindow.title(\"||||||| POSTAGER |||||||\")\\n\\nwindow.geometry(\\'900x300\\')\\n\\ntxt = Entry(window,width=83,font=\"Helvetica 14 bold\")\\n\\ntxt.grid(column=0, row=0)\\n\\nsalida = scrolledtext.ScrolledText(window,width=103,height=15,bg=\\'cyan\\',fg=\\'black\\',font=\"arial 11 bold\")\\n\\nsalida.grid(column=0, row=1)\\n\\n\\ndef clicked():\\n    res = pos(postagging(txt.get()))\\n    salida.delete(1.0,END)\\n    salida.insert(INSERT,res)\\n\\nbtn = Button(window, text=\"RUN\", command=clicked, bg=\\'red\\', fg=\\'white\\')\\n\\nbtn.grid(column=2, row=0)\\n\\nwindow.mainloop()'"
      ]
     },
     "execution_count": 69,
     "metadata": {
      "tags": []
     },
     "output_type": "execute_result"
    }
   ],
   "source": [
    "#!pip install pyqt5\n",
    "\n",
    "\"\"\"from tkinter import *\n",
    "from tkinter.scrolledtext import ScrolledText\n",
    "\n",
    "\n",
    "window = Tk()\n",
    "\n",
    "window.title(\"||||||| POSTAGER |||||||\")\n",
    "\n",
    "window.geometry('900x300')\n",
    "\n",
    "txt = Entry(window,width=83,font=\"Helvetica 14 bold\")\n",
    "\n",
    "txt.grid(column=0, row=0)\n",
    "\n",
    "salida = scrolledtext.ScrolledText(window,width=103,height=15,bg='cyan',fg='black',font=\"arial 11 bold\")\n",
    "\n",
    "salida.grid(column=0, row=1)\n",
    "\n",
    "\n",
    "def clicked():\n",
    "    res = pos(postagging(txt.get()))\n",
    "    salida.delete(1.0,END)\n",
    "    salida.insert(INSERT,res)\n",
    "\n",
    "btn = Button(window, text=\"RUN\", command=clicked, bg='red', fg='white')\n",
    "\n",
    "btn.grid(column=2, row=0)\n",
    "\n",
    "window.mainloop()\"\"\""
   ]
  },
  {
   "cell_type": "code",
   "execution_count": 70,
   "metadata": {
    "colab": {
     "base_uri": "https://localhost:8080/",
     "height": 388
    },
    "colab_type": "code",
    "id": "EiLMCy2vZzsG",
    "outputId": "7a84f88e-b009-4425-c76f-38e32f31787a"
   },
   "outputs": [
    {
     "ename": "ModuleNotFoundError",
     "evalue": "ignored",
     "output_type": "error",
     "traceback": [
      "\u001b[0;31m---------------------------------------------------------------------------\u001b[0m",
      "\u001b[0;31mModuleNotFoundError\u001b[0m                       Traceback (most recent call last)",
      "\u001b[0;32m<ipython-input-70-8aebc6fbb0be>\u001b[0m in \u001b[0;36m<module>\u001b[0;34m()\u001b[0m\n\u001b[1;32m      2\u001b[0m \u001b[0;32mimport\u001b[0m \u001b[0mtkinter\u001b[0m \u001b[0;32mas\u001b[0m \u001b[0mtk\u001b[0m\u001b[0;34m\u001b[0m\u001b[0;34m\u001b[0m\u001b[0m\n\u001b[1;32m      3\u001b[0m \u001b[0;32mfrom\u001b[0m \u001b[0mtkinter\u001b[0m\u001b[0;34m.\u001b[0m\u001b[0mttk\u001b[0m \u001b[0;32mimport\u001b[0m \u001b[0;34m*\u001b[0m\u001b[0;34m\u001b[0m\u001b[0;34m\u001b[0m\u001b[0m\n\u001b[0;32m----> 4\u001b[0;31m \u001b[0;32mimport\u001b[0m \u001b[0msentencepiece\u001b[0m \u001b[0;32mas\u001b[0m \u001b[0mspm\u001b[0m\u001b[0;34m\u001b[0m\u001b[0;34m\u001b[0m\u001b[0m\n\u001b[0m\u001b[1;32m      5\u001b[0m \u001b[0;34m\u001b[0m\u001b[0m\n\u001b[1;32m      6\u001b[0m \u001b[0mraiz\u001b[0m \u001b[0;34m=\u001b[0m \u001b[0mTk\u001b[0m\u001b[0;34m(\u001b[0m\u001b[0;34m)\u001b[0m\u001b[0;34m\u001b[0m\u001b[0;34m\u001b[0m\u001b[0m\n",
      "\u001b[0;31mModuleNotFoundError\u001b[0m: No module named 'sentencepiece'",
      "",
      "\u001b[0;31m---------------------------------------------------------------------------\u001b[0;32m\nNOTE: If your import is failing due to a missing package, you can\nmanually install dependencies using either !pip or !apt.\n\nTo view examples of installing some common dependencies, click the\n\"Open Examples\" button below.\n\u001b[0;31m---------------------------------------------------------------------------\u001b[0m\n"
     ]
    }
   ],
   "source": [
    "from tkinter import *\n",
    "import tkinter as tk\n",
    "from tkinter.ttk import *\n",
    "import sentencepiece as spm\n",
    "\n",
    "raiz = Tk()\n",
    "\n",
    "raiz.configure(background='white')\n",
    "\n",
    "raiz.title(\"Proyecto PLN\")\n",
    "\n",
    "raiz.geometry('700x700')\n",
    "raiz.resizable(0,0)\n",
    "\n",
    "label= Label( text = 'Tokenizer & Postagging',  background = \"white\",\n",
    "            font = \"Helvetica 30 bold italic\")\n",
    "label.pack(pady=20)\n",
    "\n",
    "def tokenize():\n",
    "        sp_word = spm.SentencePieceProcessor()\n",
    "        sp_word.load('../Models/m_word.model')\n",
    "        test_sample = entrada.get(\"1.0\",END)\n",
    "        token= str(sp_word.encode_as_pieces(test_sample)\n",
    "        salida.delete(1.0,END)\n",
    "        salida.insert(INSERT,token)\n",
    "\n",
    "def postag():\n",
    "  \n",
    "    sp_word = spm.SentencePieceProcessor()\n",
    "    sp_word.load('../Models/m_word.model')\n",
    "    token= str(sp_word.encode_as_pieces(test_sample).replace('_','')\n",
    "    res = pos(postagging(token)\n",
    "    salida.delete(1.0,END)\n",
    "    salida.insert(INSERT,res)\n",
    "\n",
    "entrada = Text(raiz,height=14, width=70)\n",
    "entrada.pack(pady=15)\n",
    "btn = Button(raiz, text=\"Tokenizer\",command=tokenize)\n",
    "btn.place(x=440, y=320)\n",
    "btn1 = Button(raiz, text=\"Postagging\",command=postag)\n",
    "btn1.place(x=525, y=320)\n",
    "outputText = Text(raiz,height=14, width=70, state='disabled')\n",
    "outputText.pack(pady=25)\n",
    "\n",
    "raiz.mainloop()"
   ]
  }
 ],
 "metadata": {
  "accelerator": "GPU",
  "colab": {
   "name": "proyecto PLN",
   "provenance": []
  },
  "kernelspec": {
   "display_name": "Python 3",
   "language": "python",
   "name": "python3"
  },
  "language_info": {
   "codemirror_mode": {
    "name": "ipython",
    "version": 3
   },
   "file_extension": ".py",
   "mimetype": "text/x-python",
   "name": "python",
   "nbconvert_exporter": "python",
   "pygments_lexer": "ipython3",
   "version": "3.8.1"
  }
 },
 "nbformat": 4,
 "nbformat_minor": 1
}
