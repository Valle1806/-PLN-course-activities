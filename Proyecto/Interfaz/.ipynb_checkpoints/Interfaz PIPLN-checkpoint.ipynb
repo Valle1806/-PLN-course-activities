{
 "cells": [
  {
   "cell_type": "markdown",
   "metadata": {},
   "source": [
    "### Definimos el Modelo Base"
   ]
  },
  {
   "cell_type": "code",
   "execution_count": 63,
   "metadata": {},
   "outputs": [
    {
     "name": "stdout",
     "output_type": "stream",
     "text": [
      "Model: \"model_2\"\n",
      "_________________________________________________________________\n",
      "Layer (type)                 Output Shape              Param #   \n",
      "=================================================================\n",
      "input_9 (InputLayer)         [(None, 149)]             0         \n",
      "_________________________________________________________________\n",
      "embedding_4 (Embedding)      (None, 149, 300)          7349700   \n",
      "_________________________________________________________________\n",
      "bidirectional_4 (Bidirection (None, 149, 600)          1442400   \n",
      "_________________________________________________________________\n",
      "lstm_9 (LSTM)                (None, 149, 600)          2882400   \n",
      "_________________________________________________________________\n",
      "time_distributed_3 (TimeDist (None, 149, 291)          174891    \n",
      "_________________________________________________________________\n",
      "crf_2 (CRF)                  (None, 149, 291)          170235    \n",
      "=================================================================\n",
      "Total params: 12,019,626\n",
      "Trainable params: 12,019,626\n",
      "Non-trainable params: 0\n",
      "_________________________________________________________________\n"
     ]
    }
   ],
   "source": [
    "#\"\"!pip3 install git+https://www.github.com/keras-team/keras-contrib.git\n",
    "from keras.models import Model, Input\n",
    "from keras.layers import LSTM, Embedding, Dense, TimeDistributed, Dropout, Bidirectional\n",
    "import keras as k\n",
    "from keras_contrib.layers import CRF\n",
    "import pickle\n",
    "import numpy as np\n",
    "\n",
    "word2index = np.load('Models/word2index.npy', allow_pickle=True)\n",
    "tag2index = np.load('Models/tag2index.npy', allow_pickle=True)\n",
    "\n",
    "\n",
    "input = Input(shape=(149,))\n",
    "word_embedding_size = 300\n",
    "\n",
    "# Embedding Layer\n",
    "model = Embedding(input_dim=len(word2index), output_dim=word_embedding_size, input_length=MAX_LENGTH)(input)\n",
    "\n",
    "# BI-LSTM Layer\n",
    "model = Bidirectional(LSTM(units=word_embedding_size, \n",
    "                           return_sequences=True, \n",
    "                           dropout=0.5, \n",
    "                           recurrent_dropout=0.5, \n",
    "                           kernel_initializer=k.initializers.he_normal()))(model)\n",
    "model = LSTM(units=word_embedding_size * 2, \n",
    "             return_sequences=True, \n",
    "             dropout=0.5, \n",
    "             recurrent_dropout=0.5, \n",
    "             kernel_initializer=k.initializers.he_normal())(model)\n",
    "\n",
    "# TimeDistributed Layer\n",
    "model = TimeDistributed(Dense(len(tag2index), activation=\"relu\"))(model)  \n",
    "\n",
    "# CRF Layer\n",
    "crf = CRF(len(tag2index))\n",
    "\n",
    "out = crf(model)  # output\n",
    "model = Model(input, out)\n",
    "\n",
    "\n",
    "#Optimiser \n",
    "adam = k.optimizers.Adam(lr=0.0005, beta_1=0.9, beta_2=0.999)\n",
    "\n",
    "# Compile model\n",
    "model.compile(optimizer=adam, loss=crf.loss_function, metrics=[crf.accuracy, 'accuracy'])\n",
    "model.summary()"
   ]
  },
  {
   "cell_type": "code",
   "execution_count": 26,
   "metadata": {},
   "outputs": [
    {
     "name": "stdout",
     "output_type": "stream",
     "text": [
      "Model: \"model_1\"\n",
      "_________________________________________________________________\n",
      "Layer (type)                 Output Shape              Param #   \n",
      "=================================================================\n",
      "input_8 (InputLayer)         [(None, 149)]             0         \n",
      "_________________________________________________________________\n",
      "embedding_3 (Embedding)      (None, 149, 300)          7349700   \n",
      "_________________________________________________________________\n",
      "bidirectional_3 (Bidirection (None, 149, 600)          1442400   \n",
      "_________________________________________________________________\n",
      "lstm_7 (LSTM)                (None, 149, 600)          2882400   \n",
      "_________________________________________________________________\n",
      "time_distributed_2 (TimeDist (None, 149, 291)          174891    \n",
      "_________________________________________________________________\n",
      "crf_1 (CRF)                  (None, 149, 291)          170235    \n",
      "=================================================================\n",
      "Total params: 12,019,626\n",
      "Trainable params: 12,019,626\n",
      "Non-trainable params: 0\n",
      "_________________________________________________________________\n"
     ]
    }
   ],
   "source": [
    "\"\"\"from keras.layers import LSTM, Embedding, Dense, TimeDistributed, Dropout, Bidirectional\n",
    "import keras as k\n",
    "from keras_contrib.layers import CRF\n",
    "import numpy as np\n",
    "import pickle\n",
    "\n",
    "\n",
    "MAX_LENGTH = 149\n",
    "\n",
    "myinput = Kinput(shape=(MAX_LENGTH,))\n",
    "word_embedding_size = 300\n",
    "\n",
    "# Embedding Layer\n",
    "model = Embedding(input_dim=len(word2index), output_dim=word_embedding_size, input_length=MAX_LENGTH)(myinput)\n",
    "\n",
    "# BI-LSTM Layer\n",
    "model = Bidirectional(LSTM(units=word_embedding_size, \n",
    "                           return_sequences=True, \n",
    "                           dropout=0.5, \n",
    "                           recurrent_dropout=0.5, \n",
    "                           kernel_initializer=k.initializers.he_normal()))(model)\n",
    "model = LSTM(units=word_embedding_size * 2, \n",
    "             return_sequences=True, \n",
    "             dropout=0.5, \n",
    "             recurrent_dropout=0.5, \n",
    "             kernel_initializer=k.initializers.he_normal())(model)\n",
    "\n",
    "# TimeDistributed Layer\n",
    "model = TimeDistributed(Dense(len(tag2index), activation=\"relu\"))(model)  \n",
    "\n",
    "# CRF Layer\n",
    "crf = CRF(len(tag2index))\n",
    "\n",
    "out = crf(model)  # output\n",
    "model = Model(myinput, out)\n",
    "\n",
    "\n",
    "#Optimiser \n",
    "adam = k.optimizers.Adam(lr=0.0005, beta_1=0.9, beta_2=0.999)\n",
    "\n",
    "# Compile model\n",
    "model.compile(optimizer=adam, loss=crf.loss_function, metrics=[crf.accuracy, 'accuracy'])\n",
    "model.summary()\"\"\""
   ]
  },
  {
   "cell_type": "markdown",
   "metadata": {},
   "source": [
    "### Cargamos el modelo"
   ]
  },
  {
   "cell_type": "code",
   "execution_count": 27,
   "metadata": {},
   "outputs": [
    {
     "name": "stdout",
     "output_type": "stream",
     "text": [
      "Loaded model from disk\n"
     ]
    }
   ],
   "source": [
    "from keras.models import Model, Input as Kinput\n",
    "model.load_weights(\"Models/mb.h5\")\n",
    "print(\"Loaded model from disk\")\n"
   ]
  },
  {
   "cell_type": "markdown",
   "metadata": {},
   "source": [
    "### Función que Permite convertir Indices en Tags"
   ]
  },
  {
   "cell_type": "code",
   "execution_count": 29,
   "metadata": {},
   "outputs": [],
   "source": [
    "def logits_to_tokens(sequences, index):\n",
    "    token_sequences = []\n",
    "    for categorical_sequence in sequences:\n",
    "        token_sequence = []\n",
    "        for categorical in categorical_sequence:\n",
    "            token_sequence.append(index[np.argmax(categorical)])\n",
    " \n",
    "        token_sequences.append(token_sequence)\n",
    " \n",
    "    return token_sequences"
   ]
  },
  {
   "cell_type": "markdown",
   "metadata": {},
   "source": [
    "### Creamos la función que usa el modelo para el postagging\n",
    "\n"
   ]
  },
  {
   "cell_type": "code",
   "execution_count": 32,
   "metadata": {},
   "outputs": [],
   "source": [
    "from tabulate import tabulate\n",
    "#!pip install tabulate\n",
    "from keras.preprocessing.sequence import pad_sequences\n",
    "def postagging(test_samples):\n",
    "  #Convertimos el texto en Una entrada para el Modelo\n",
    "    test_samples_X = []\n",
    "    for s in test_samples:\n",
    "        s_int = []\n",
    "        for w in s:\n",
    "           try:\n",
    "               s_int.append(word2index[w.lower()])\n",
    "           except KeyError:\n",
    "              s_int.append(word2index['-OOV-'])\n",
    "        test_samples_X.append(s_int)\n",
    "\n",
    "    test_samples_X = pad_sequences(test_samples_X, maxlen=MAX_LENGTH, padding='post')\n",
    "    #Se Ejecuta la predicion con la Entrada del modelo entrenado\n",
    "    predictions = model.predict(test_samples_X)\n",
    "    #Conversion de la Salida del Modelo a un lista de Indices de Tags\n",
    "    log_tokens = logits_to_tokens(predictions, {i: t for t, i in tag2index.items()})\n",
    "    #Presentación de los Resultados\n",
    "\n",
    "    salida = \"\"\n",
    "    for i in range(len(test_samples)):\n",
    "        head = test_samples[i]\n",
    "        body = [log_tokens[i][:len(test_samples[i])]]\n",
    "        salida += tabulate(body, headers=head)\n",
    "        salida += \"\\n\"\n",
    "        \n",
    "    return salida\n",
    "\n",
    "## postagging Freeling 4.1\n",
    "\n",
    "## El      hombre   bajo     corre    bajo  el      puente   con  bajo  índice   de  adrenalina  .\n",
    "## DA0MS0  NCMS000  AQ0MS00  VMIP3S0  SP    DA0MS0  NCMS000  SP   SP    NCMS000  SP  NCFS000     Fp\n",
    "\n",
    "\n",
    "## pos tagger Stanford NLP\n",
    "\n",
    "## El      hombre   bajo     corre    bajo  el      puente   con    bajo   índice  de    adrenalina  .\n",
    "## da0000  nc0s000  aq0000   vmip000  sp000 da0000  nc0s000  sp000  aq0000 nc0s000 sp000 nc0s000     fp\n"
   ]
  },
  {
   "cell_type": "markdown",
   "metadata": {},
   "source": [
    "### Ejemplo"
   ]
  },
  {
   "cell_type": "code",
   "execution_count": null,
   "metadata": {},
   "outputs": [],
   "source": [
    "test_samples = [\n",
    "    \"Correr es importante para mi .\".split(),\n",
    "    \"El hombre bajo corre bajo el puente con bajo índice de adrenalina .\".split()\n",
    "]"
   ]
  },
  {
   "cell_type": "code",
   "execution_count": null,
   "metadata": {},
   "outputs": [],
   "source": [
    "print(postagging(test_samples))"
   ]
  },
  {
   "cell_type": "markdown",
   "metadata": {},
   "source": [
    "### Definicion de interfaz"
   ]
  },
  {
   "cell_type": "code",
   "execution_count": null,
   "metadata": {},
   "outputs": [
    {
     "name": "stdout",
     "output_type": "stream",
     "text": [
      "e        s         t        o\n",
      "-------  --------  -------  --------\n",
      "np0000p  px2fs0s0  vmsi1p0  pp2cs00p\n",
      "e        s\n",
      "-------  -------\n",
      "vmsi1s0  vmic3p0\n",
      "u         n        a\n",
      "--------  -------  -------\n",
      "pt0cp000  ncmn000  vmsi3s0\n",
      "p         r         u        e         b        a\n",
      "--------  --------  -------  --------  -------  -------\n",
      "pp1cp000  pt0cp000  vmis3s0  pp3fsa00  vmii2p0  vssp3s0\n",
      "\n"
     ]
    }
   ],
   "source": [
    "from tkinter import *\n",
    "import tkinter as tk\n",
    "from tkinter.ttk import *\n",
    "import sentencepiece as spm\n",
    "\n",
    "raiz = Tk()\n",
    "\n",
    "raiz.configure(background='white')\n",
    "\n",
    "raiz.title(\"Proyecto PLN\")\n",
    "\n",
    "raiz.geometry('700x700')\n",
    "raiz.resizable(0,0)\n",
    "\n",
    "label= Label( text = 'Tokenizer & Postagging',  background = \"white\",\n",
    "            font = \"Helvetica 30 bold italic\")\n",
    "label.pack(pady=20)\n",
    "\n",
    "def tokenize():\n",
    "        sp_word = spm.SentencePieceProcessor()\n",
    "        sp_word.load('Models/m_word.model')\n",
    "        test_sample = entrada.get(\"1.0\",END)\n",
    "        token= str(sp_word.encode_as_pieces(test_sample))\n",
    "        salida.delete(1.0,END)\n",
    "        salida.insert(INSERT,token)\n",
    "\n",
    "def postag():\n",
    "  \n",
    "    sp_word = spm.SentencePieceProcessor()\n",
    "    sp_word.load('Models/m_word.model')\n",
    "    test_sample = entrada.get(\"1.0\",END)\n",
    "    \n",
    "    token= sp_word.encode_as_pieces(test_sample)\n",
    "    listToken=[]\n",
    "    for i in token:\n",
    "        listToken.append(i.replace('▁', '', 1))\n",
    "   \n",
    "    res = postagging(listToken)\n",
    "    print(res)\n",
    "    salida.delete(1.0,END)\n",
    "    salida.insert(INSERT,res)\n",
    "\n",
    "entrada = Text(raiz,height=14, width=70)\n",
    "entrada.pack(pady=15)\n",
    "btn = Button(raiz, text=\"Tokenizer\",command=tokenize)\n",
    "btn.place(x=440, y=320)\n",
    "btn1 = Button(raiz, text=\"Postagging\",command=postag)\n",
    "btn1.place(x=525, y=320)\n",
    "salida = Text(raiz,height=14, width=70, state='disabled')\n",
    "salida.pack(pady=25)\n",
    "\n",
    "raiz.mainloop()"
   ]
  },
  {
   "cell_type": "code",
   "execution_count": null,
   "metadata": {},
   "outputs": [],
   "source": []
  },
  {
   "cell_type": "code",
   "execution_count": null,
   "metadata": {},
   "outputs": [],
   "source": []
  }
 ],
 "metadata": {
  "kernelspec": {
   "display_name": "Python 3",
   "language": "python",
   "name": "python3"
  },
  "language_info": {
   "codemirror_mode": {
    "name": "ipython",
    "version": 3
   },
   "file_extension": ".py",
   "mimetype": "text/x-python",
   "name": "python",
   "nbconvert_exporter": "python",
   "pygments_lexer": "ipython3",
   "version": "3.8.1"
  }
 },
 "nbformat": 4,
 "nbformat_minor": 4
}
